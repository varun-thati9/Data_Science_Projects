{
 "cells": [
  {
   "cell_type": "code",
   "execution_count": 1,
   "metadata": {},
   "outputs": [],
   "source": [
    "import numpy as np\n",
    "import pandas as pd\n",
    "import matplotlib.pyplot as plt\n",
    "import seaborn as sns\n",
    "%matplotlib inline\n",
    "\n",
    "import statsmodels.formula.api as smf\n",
    "\n",
    "import warnings\n",
    "warnings.filterwarnings(\"ignore\")"
   ]
  },
  {
   "cell_type": "code",
   "execution_count": 2,
   "metadata": {},
   "outputs": [],
   "source": [
    "dframe = pd.read_csv('ToyotaCorolla.csv', encoding='unicode_escape')"
   ]
  },
  {
   "cell_type": "code",
   "execution_count": 3,
   "metadata": {
    "scrolled": false
   },
   "outputs": [
    {
     "data": {
      "text/html": [
       "<div>\n",
       "<style scoped>\n",
       "    .dataframe tbody tr th:only-of-type {\n",
       "        vertical-align: middle;\n",
       "    }\n",
       "\n",
       "    .dataframe tbody tr th {\n",
       "        vertical-align: top;\n",
       "    }\n",
       "\n",
       "    .dataframe thead th {\n",
       "        text-align: right;\n",
       "    }\n",
       "</style>\n",
       "<table border=\"1\" class=\"dataframe\">\n",
       "  <thead>\n",
       "    <tr style=\"text-align: right;\">\n",
       "      <th></th>\n",
       "      <th>Id</th>\n",
       "      <th>Model</th>\n",
       "      <th>Price</th>\n",
       "      <th>Age_08_04</th>\n",
       "      <th>Mfg_Month</th>\n",
       "      <th>Mfg_Year</th>\n",
       "      <th>KM</th>\n",
       "      <th>Fuel_Type</th>\n",
       "      <th>HP</th>\n",
       "      <th>Met_Color</th>\n",
       "      <th>...</th>\n",
       "      <th>Central_Lock</th>\n",
       "      <th>Powered_Windows</th>\n",
       "      <th>Power_Steering</th>\n",
       "      <th>Radio</th>\n",
       "      <th>Mistlamps</th>\n",
       "      <th>Sport_Model</th>\n",
       "      <th>Backseat_Divider</th>\n",
       "      <th>Metallic_Rim</th>\n",
       "      <th>Radio_cassette</th>\n",
       "      <th>Tow_Bar</th>\n",
       "    </tr>\n",
       "  </thead>\n",
       "  <tbody>\n",
       "    <tr>\n",
       "      <th>0</th>\n",
       "      <td>1</td>\n",
       "      <td>TOYOTA Corolla 2.0 D4D HATCHB TERRA 2/3-Doors</td>\n",
       "      <td>13500</td>\n",
       "      <td>23</td>\n",
       "      <td>10</td>\n",
       "      <td>2002</td>\n",
       "      <td>46986</td>\n",
       "      <td>Diesel</td>\n",
       "      <td>90</td>\n",
       "      <td>1</td>\n",
       "      <td>...</td>\n",
       "      <td>1</td>\n",
       "      <td>1</td>\n",
       "      <td>1</td>\n",
       "      <td>0</td>\n",
       "      <td>0</td>\n",
       "      <td>0</td>\n",
       "      <td>1</td>\n",
       "      <td>0</td>\n",
       "      <td>0</td>\n",
       "      <td>0</td>\n",
       "    </tr>\n",
       "    <tr>\n",
       "      <th>1</th>\n",
       "      <td>2</td>\n",
       "      <td>TOYOTA Corolla 2.0 D4D HATCHB TERRA 2/3-Doors</td>\n",
       "      <td>13750</td>\n",
       "      <td>23</td>\n",
       "      <td>10</td>\n",
       "      <td>2002</td>\n",
       "      <td>72937</td>\n",
       "      <td>Diesel</td>\n",
       "      <td>90</td>\n",
       "      <td>1</td>\n",
       "      <td>...</td>\n",
       "      <td>1</td>\n",
       "      <td>0</td>\n",
       "      <td>1</td>\n",
       "      <td>0</td>\n",
       "      <td>0</td>\n",
       "      <td>0</td>\n",
       "      <td>1</td>\n",
       "      <td>0</td>\n",
       "      <td>0</td>\n",
       "      <td>0</td>\n",
       "    </tr>\n",
       "    <tr>\n",
       "      <th>2</th>\n",
       "      <td>3</td>\n",
       "      <td>TOYOTA Corolla 2.0 D4D HATCHB TERRA 2/3-Doors</td>\n",
       "      <td>13950</td>\n",
       "      <td>24</td>\n",
       "      <td>9</td>\n",
       "      <td>2002</td>\n",
       "      <td>41711</td>\n",
       "      <td>Diesel</td>\n",
       "      <td>90</td>\n",
       "      <td>1</td>\n",
       "      <td>...</td>\n",
       "      <td>0</td>\n",
       "      <td>0</td>\n",
       "      <td>1</td>\n",
       "      <td>0</td>\n",
       "      <td>0</td>\n",
       "      <td>0</td>\n",
       "      <td>1</td>\n",
       "      <td>0</td>\n",
       "      <td>0</td>\n",
       "      <td>0</td>\n",
       "    </tr>\n",
       "    <tr>\n",
       "      <th>3</th>\n",
       "      <td>4</td>\n",
       "      <td>TOYOTA Corolla 2.0 D4D HATCHB TERRA 2/3-Doors</td>\n",
       "      <td>14950</td>\n",
       "      <td>26</td>\n",
       "      <td>7</td>\n",
       "      <td>2002</td>\n",
       "      <td>48000</td>\n",
       "      <td>Diesel</td>\n",
       "      <td>90</td>\n",
       "      <td>0</td>\n",
       "      <td>...</td>\n",
       "      <td>0</td>\n",
       "      <td>0</td>\n",
       "      <td>1</td>\n",
       "      <td>0</td>\n",
       "      <td>0</td>\n",
       "      <td>0</td>\n",
       "      <td>1</td>\n",
       "      <td>0</td>\n",
       "      <td>0</td>\n",
       "      <td>0</td>\n",
       "    </tr>\n",
       "    <tr>\n",
       "      <th>4</th>\n",
       "      <td>5</td>\n",
       "      <td>TOYOTA Corolla 2.0 D4D HATCHB SOL 2/3-Doors</td>\n",
       "      <td>13750</td>\n",
       "      <td>30</td>\n",
       "      <td>3</td>\n",
       "      <td>2002</td>\n",
       "      <td>38500</td>\n",
       "      <td>Diesel</td>\n",
       "      <td>90</td>\n",
       "      <td>0</td>\n",
       "      <td>...</td>\n",
       "      <td>1</td>\n",
       "      <td>1</td>\n",
       "      <td>1</td>\n",
       "      <td>0</td>\n",
       "      <td>1</td>\n",
       "      <td>0</td>\n",
       "      <td>1</td>\n",
       "      <td>0</td>\n",
       "      <td>0</td>\n",
       "      <td>0</td>\n",
       "    </tr>\n",
       "  </tbody>\n",
       "</table>\n",
       "<p>5 rows × 38 columns</p>\n",
       "</div>"
      ],
      "text/plain": [
       "   Id                                           Model  Price  Age_08_04  \\\n",
       "0   1   TOYOTA Corolla 2.0 D4D HATCHB TERRA 2/3-Doors  13500         23   \n",
       "1   2   TOYOTA Corolla 2.0 D4D HATCHB TERRA 2/3-Doors  13750         23   \n",
       "2   3   TOYOTA Corolla 2.0 D4D HATCHB TERRA 2/3-Doors  13950         24   \n",
       "3   4   TOYOTA Corolla 2.0 D4D HATCHB TERRA 2/3-Doors  14950         26   \n",
       "4   5     TOYOTA Corolla 2.0 D4D HATCHB SOL 2/3-Doors  13750         30   \n",
       "\n",
       "   Mfg_Month  Mfg_Year     KM Fuel_Type  HP  Met_Color  ... Central_Lock  \\\n",
       "0         10      2002  46986    Diesel  90          1  ...            1   \n",
       "1         10      2002  72937    Diesel  90          1  ...            1   \n",
       "2          9      2002  41711    Diesel  90          1  ...            0   \n",
       "3          7      2002  48000    Diesel  90          0  ...            0   \n",
       "4          3      2002  38500    Diesel  90          0  ...            1   \n",
       "\n",
       "   Powered_Windows  Power_Steering  Radio  Mistlamps  Sport_Model  \\\n",
       "0                1               1      0          0            0   \n",
       "1                0               1      0          0            0   \n",
       "2                0               1      0          0            0   \n",
       "3                0               1      0          0            0   \n",
       "4                1               1      0          1            0   \n",
       "\n",
       "   Backseat_Divider  Metallic_Rim  Radio_cassette  Tow_Bar  \n",
       "0                 1             0               0        0  \n",
       "1                 1             0               0        0  \n",
       "2                 1             0               0        0  \n",
       "3                 1             0               0        0  \n",
       "4                 1             0               0        0  \n",
       "\n",
       "[5 rows x 38 columns]"
      ]
     },
     "execution_count": 3,
     "metadata": {},
     "output_type": "execute_result"
    }
   ],
   "source": [
    "dframe.head()"
   ]
  },
  {
   "cell_type": "code",
   "execution_count": 4,
   "metadata": {},
   "outputs": [],
   "source": [
    "df = pd.DataFrame()"
   ]
  },
  {
   "cell_type": "code",
   "execution_count": 5,
   "metadata": {},
   "outputs": [
    {
     "data": {
      "text/html": [
       "<div>\n",
       "<style scoped>\n",
       "    .dataframe tbody tr th:only-of-type {\n",
       "        vertical-align: middle;\n",
       "    }\n",
       "\n",
       "    .dataframe tbody tr th {\n",
       "        vertical-align: top;\n",
       "    }\n",
       "\n",
       "    .dataframe thead th {\n",
       "        text-align: right;\n",
       "    }\n",
       "</style>\n",
       "<table border=\"1\" class=\"dataframe\">\n",
       "  <thead>\n",
       "    <tr style=\"text-align: right;\">\n",
       "      <th></th>\n",
       "      <th>Price</th>\n",
       "      <th>Age_08_04</th>\n",
       "      <th>KM</th>\n",
       "      <th>HP</th>\n",
       "      <th>cc</th>\n",
       "      <th>Doors</th>\n",
       "      <th>Gears</th>\n",
       "      <th>Quarterly_Tax</th>\n",
       "      <th>Weight</th>\n",
       "    </tr>\n",
       "  </thead>\n",
       "  <tbody>\n",
       "    <tr>\n",
       "      <th>0</th>\n",
       "      <td>13500</td>\n",
       "      <td>23</td>\n",
       "      <td>46986</td>\n",
       "      <td>90</td>\n",
       "      <td>2000</td>\n",
       "      <td>3</td>\n",
       "      <td>5</td>\n",
       "      <td>210</td>\n",
       "      <td>1165</td>\n",
       "    </tr>\n",
       "    <tr>\n",
       "      <th>1</th>\n",
       "      <td>13750</td>\n",
       "      <td>23</td>\n",
       "      <td>72937</td>\n",
       "      <td>90</td>\n",
       "      <td>2000</td>\n",
       "      <td>3</td>\n",
       "      <td>5</td>\n",
       "      <td>210</td>\n",
       "      <td>1165</td>\n",
       "    </tr>\n",
       "    <tr>\n",
       "      <th>2</th>\n",
       "      <td>13950</td>\n",
       "      <td>24</td>\n",
       "      <td>41711</td>\n",
       "      <td>90</td>\n",
       "      <td>2000</td>\n",
       "      <td>3</td>\n",
       "      <td>5</td>\n",
       "      <td>210</td>\n",
       "      <td>1165</td>\n",
       "    </tr>\n",
       "    <tr>\n",
       "      <th>3</th>\n",
       "      <td>14950</td>\n",
       "      <td>26</td>\n",
       "      <td>48000</td>\n",
       "      <td>90</td>\n",
       "      <td>2000</td>\n",
       "      <td>3</td>\n",
       "      <td>5</td>\n",
       "      <td>210</td>\n",
       "      <td>1165</td>\n",
       "    </tr>\n",
       "    <tr>\n",
       "      <th>4</th>\n",
       "      <td>13750</td>\n",
       "      <td>30</td>\n",
       "      <td>38500</td>\n",
       "      <td>90</td>\n",
       "      <td>2000</td>\n",
       "      <td>3</td>\n",
       "      <td>5</td>\n",
       "      <td>210</td>\n",
       "      <td>1170</td>\n",
       "    </tr>\n",
       "  </tbody>\n",
       "</table>\n",
       "</div>"
      ],
      "text/plain": [
       "   Price  Age_08_04     KM  HP    cc  Doors  Gears  Quarterly_Tax  Weight\n",
       "0  13500         23  46986  90  2000      3      5            210    1165\n",
       "1  13750         23  72937  90  2000      3      5            210    1165\n",
       "2  13950         24  41711  90  2000      3      5            210    1165\n",
       "3  14950         26  48000  90  2000      3      5            210    1165\n",
       "4  13750         30  38500  90  2000      3      5            210    1170"
      ]
     },
     "execution_count": 5,
     "metadata": {},
     "output_type": "execute_result"
    }
   ],
   "source": [
    "df = dframe[[\"Price\",\"Age_08_04\",\"KM\",\"HP\",\"cc\",\"Doors\",\"Gears\",\"Quarterly_Tax\",\"Weight\"]]\n",
    "df.head()"
   ]
  },
  {
   "cell_type": "code",
   "execution_count": 6,
   "metadata": {},
   "outputs": [
    {
     "name": "stdout",
     "output_type": "stream",
     "text": [
      "<class 'pandas.core.frame.DataFrame'>\n",
      "RangeIndex: 1436 entries, 0 to 1435\n",
      "Data columns (total 9 columns):\n",
      " #   Column         Non-Null Count  Dtype\n",
      "---  ------         --------------  -----\n",
      " 0   Price          1436 non-null   int64\n",
      " 1   Age_08_04      1436 non-null   int64\n",
      " 2   KM             1436 non-null   int64\n",
      " 3   HP             1436 non-null   int64\n",
      " 4   cc             1436 non-null   int64\n",
      " 5   Doors          1436 non-null   int64\n",
      " 6   Gears          1436 non-null   int64\n",
      " 7   Quarterly_Tax  1436 non-null   int64\n",
      " 8   Weight         1436 non-null   int64\n",
      "dtypes: int64(9)\n",
      "memory usage: 101.1 KB\n"
     ]
    }
   ],
   "source": [
    "df.info()"
   ]
  },
  {
   "cell_type": "code",
   "execution_count": 7,
   "metadata": {},
   "outputs": [
    {
     "data": {
      "text/html": [
       "<div>\n",
       "<style scoped>\n",
       "    .dataframe tbody tr th:only-of-type {\n",
       "        vertical-align: middle;\n",
       "    }\n",
       "\n",
       "    .dataframe tbody tr th {\n",
       "        vertical-align: top;\n",
       "    }\n",
       "\n",
       "    .dataframe thead th {\n",
       "        text-align: right;\n",
       "    }\n",
       "</style>\n",
       "<table border=\"1\" class=\"dataframe\">\n",
       "  <thead>\n",
       "    <tr style=\"text-align: right;\">\n",
       "      <th></th>\n",
       "      <th>count</th>\n",
       "      <th>mean</th>\n",
       "      <th>std</th>\n",
       "      <th>min</th>\n",
       "      <th>25%</th>\n",
       "      <th>50%</th>\n",
       "      <th>75%</th>\n",
       "      <th>max</th>\n",
       "    </tr>\n",
       "  </thead>\n",
       "  <tbody>\n",
       "    <tr>\n",
       "      <th>Price</th>\n",
       "      <td>1436.0</td>\n",
       "      <td>10730.824513</td>\n",
       "      <td>3626.964585</td>\n",
       "      <td>4350.0</td>\n",
       "      <td>8450.0</td>\n",
       "      <td>9900.0</td>\n",
       "      <td>11950.00</td>\n",
       "      <td>32500.0</td>\n",
       "    </tr>\n",
       "    <tr>\n",
       "      <th>Age_08_04</th>\n",
       "      <td>1436.0</td>\n",
       "      <td>55.947075</td>\n",
       "      <td>18.599988</td>\n",
       "      <td>1.0</td>\n",
       "      <td>44.0</td>\n",
       "      <td>61.0</td>\n",
       "      <td>70.00</td>\n",
       "      <td>80.0</td>\n",
       "    </tr>\n",
       "    <tr>\n",
       "      <th>KM</th>\n",
       "      <td>1436.0</td>\n",
       "      <td>68533.259749</td>\n",
       "      <td>37506.448872</td>\n",
       "      <td>1.0</td>\n",
       "      <td>43000.0</td>\n",
       "      <td>63389.5</td>\n",
       "      <td>87020.75</td>\n",
       "      <td>243000.0</td>\n",
       "    </tr>\n",
       "    <tr>\n",
       "      <th>HP</th>\n",
       "      <td>1436.0</td>\n",
       "      <td>101.502089</td>\n",
       "      <td>14.981080</td>\n",
       "      <td>69.0</td>\n",
       "      <td>90.0</td>\n",
       "      <td>110.0</td>\n",
       "      <td>110.00</td>\n",
       "      <td>192.0</td>\n",
       "    </tr>\n",
       "    <tr>\n",
       "      <th>cc</th>\n",
       "      <td>1436.0</td>\n",
       "      <td>1576.855850</td>\n",
       "      <td>424.386770</td>\n",
       "      <td>1300.0</td>\n",
       "      <td>1400.0</td>\n",
       "      <td>1600.0</td>\n",
       "      <td>1600.00</td>\n",
       "      <td>16000.0</td>\n",
       "    </tr>\n",
       "    <tr>\n",
       "      <th>Doors</th>\n",
       "      <td>1436.0</td>\n",
       "      <td>4.033426</td>\n",
       "      <td>0.952677</td>\n",
       "      <td>2.0</td>\n",
       "      <td>3.0</td>\n",
       "      <td>4.0</td>\n",
       "      <td>5.00</td>\n",
       "      <td>5.0</td>\n",
       "    </tr>\n",
       "    <tr>\n",
       "      <th>Gears</th>\n",
       "      <td>1436.0</td>\n",
       "      <td>5.026462</td>\n",
       "      <td>0.188510</td>\n",
       "      <td>3.0</td>\n",
       "      <td>5.0</td>\n",
       "      <td>5.0</td>\n",
       "      <td>5.00</td>\n",
       "      <td>6.0</td>\n",
       "    </tr>\n",
       "    <tr>\n",
       "      <th>Quarterly_Tax</th>\n",
       "      <td>1436.0</td>\n",
       "      <td>87.122563</td>\n",
       "      <td>41.128611</td>\n",
       "      <td>19.0</td>\n",
       "      <td>69.0</td>\n",
       "      <td>85.0</td>\n",
       "      <td>85.00</td>\n",
       "      <td>283.0</td>\n",
       "    </tr>\n",
       "    <tr>\n",
       "      <th>Weight</th>\n",
       "      <td>1436.0</td>\n",
       "      <td>1072.459610</td>\n",
       "      <td>52.641120</td>\n",
       "      <td>1000.0</td>\n",
       "      <td>1040.0</td>\n",
       "      <td>1070.0</td>\n",
       "      <td>1085.00</td>\n",
       "      <td>1615.0</td>\n",
       "    </tr>\n",
       "  </tbody>\n",
       "</table>\n",
       "</div>"
      ],
      "text/plain": [
       "                count          mean           std     min      25%      50%  \\\n",
       "Price          1436.0  10730.824513   3626.964585  4350.0   8450.0   9900.0   \n",
       "Age_08_04      1436.0     55.947075     18.599988     1.0     44.0     61.0   \n",
       "KM             1436.0  68533.259749  37506.448872     1.0  43000.0  63389.5   \n",
       "HP             1436.0    101.502089     14.981080    69.0     90.0    110.0   \n",
       "cc             1436.0   1576.855850    424.386770  1300.0   1400.0   1600.0   \n",
       "Doors          1436.0      4.033426      0.952677     2.0      3.0      4.0   \n",
       "Gears          1436.0      5.026462      0.188510     3.0      5.0      5.0   \n",
       "Quarterly_Tax  1436.0     87.122563     41.128611    19.0     69.0     85.0   \n",
       "Weight         1436.0   1072.459610     52.641120  1000.0   1040.0   1070.0   \n",
       "\n",
       "                    75%       max  \n",
       "Price          11950.00   32500.0  \n",
       "Age_08_04         70.00      80.0  \n",
       "KM             87020.75  243000.0  \n",
       "HP               110.00     192.0  \n",
       "cc              1600.00   16000.0  \n",
       "Doors              5.00       5.0  \n",
       "Gears              5.00       6.0  \n",
       "Quarterly_Tax     85.00     283.0  \n",
       "Weight          1085.00    1615.0  "
      ]
     },
     "execution_count": 7,
     "metadata": {},
     "output_type": "execute_result"
    }
   ],
   "source": [
    "df.describe().T"
   ]
  },
  {
   "cell_type": "code",
   "execution_count": 8,
   "metadata": {
    "scrolled": false
   },
   "outputs": [
    {
     "name": "stdout",
     "output_type": "stream",
     "text": [
      "Price\n"
     ]
    },
    {
     "data": {
      "image/png": "[encoded data removed]",
      "text/plain": [
       "<Figure size 432x288 with 1 Axes>"
      ]
     },
     "metadata": {
      "needs_background": "light"
     },
     "output_type": "display_data"
    },
    {
     "name": "stdout",
     "output_type": "stream",
     "text": [
      "Age_08_04\n"
     ]
    },
    {
     "data": {
      "image/png": "[encoded data removed]",
      "text/plain": [
       "<Figure size 432x288 with 1 Axes>"
      ]
     },
     "metadata": {
      "needs_background": "light"
     },
     "output_type": "display_data"
    },
    {
     "name": "stdout",
     "output_type": "stream",
     "text": [
      "KM\n"
     ]
    },
    {
     "data": {
      "image/png": "[encoded data removed]",
      "text/plain": [
       "<Figure size 432x288 with 1 Axes>"
      ]
     },
     "metadata": {
      "needs_background": "light"
     },
     "output_type": "display_data"
    },
    {
     "name": "stdout",
     "output_type": "stream",
     "text": [
      "HP\n"
     ]
    },
    {
     "data": {
      "image/png": "[encoded data removed]",
      "text/plain": [
       "<Figure size 432x288 with 1 Axes>"
      ]
     },
     "metadata": {
      "needs_background": "light"
     },
     "output_type": "display_data"
    },
    {
     "name": "stdout",
     "output_type": "stream",
     "text": [
      "cc\n"
     ]
    },
    {
     "data": {
      "image/png": "[encoded data removed]",
      "text/plain": [
       "<Figure size 432x288 with 1 Axes>"
      ]
     },
     "metadata": {
      "needs_background": "light"
     },
     "output_type": "display_data"
    },
    {
     "name": "stdout",
     "output_type": "stream",
     "text": [
      "Doors\n"
     ]
    },
    {
     "data": {
      "image/png": "[encoded data removed]",
      "text/plain": [
       "<Figure size 432x288 with 1 Axes>"
      ]
     },
     "metadata": {
      "needs_background": "light"
     },
     "output_type": "display_data"
    },
    {
     "name": "stdout",
     "output_type": "stream",
     "text": [
      "Gears\n"
     ]
    },
    {
     "data": {
      "image/png": "[encoded data removed]",
      "text/plain": [
       "<Figure size 432x288 with 1 Axes>"
      ]
     },
     "metadata": {
      "needs_background": "light"
     },
     "output_type": "display_data"
    },
    {
     "name": "stdout",
     "output_type": "stream",
     "text": [
      "Quarterly_Tax\n"
     ]
    },
    {
     "data": {
      "image/png": "[encoded data removed]",
      "text/plain": [
       "<Figure size 432x288 with 1 Axes>"
      ]
     },
     "metadata": {
      "needs_background": "light"
     },
     "output_type": "display_data"
    },
    {
     "name": "stdout",
     "output_type": "stream",
     "text": [
      "Weight\n"
     ]
    },
    {
     "data": {
      "image/png": "[encoded data removed]",
      "text/plain": [
       "<Figure size 432x288 with 1 Axes>"
      ]
     },
     "metadata": {
      "needs_background": "light"
     },
     "output_type": "display_data"
    }
   ],
   "source": [
    "for i in df.columns:\n",
    "    sns.boxplot(x=i, data=df)\n",
    "    print(i)\n",
    "    plt.show()"
   ]
  },
  {
   "cell_type": "markdown",
   "metadata": {},
   "source": [
    "If we see all the boxplots we can conclude that all of them contain Outliers and we need to handle those."
   ]
  },
  {
   "cell_type": "code",
   "execution_count": 9,
   "metadata": {
    "scrolled": false
   },
   "outputs": [
    {
     "name": "stdout",
     "output_type": "stream",
     "text": [
      "Price\n"
     ]
    },
    {
     "data": {
      "image/png": "[encoded data removed]",
      "text/plain": [
       "<Figure size 432x288 with 1 Axes>"
      ]
     },
     "metadata": {
      "needs_background": "light"
     },
     "output_type": "display_data"
    },
    {
     "name": "stdout",
     "output_type": "stream",
     "text": [
      "Age_08_04\n"
     ]
    },
    {
     "data": {
      "image/png": "[encoded data removed]",
      "text/plain": [
       "<Figure size 432x288 with 1 Axes>"
      ]
     },
     "metadata": {
      "needs_background": "light"
     },
     "output_type": "display_data"
    },
    {
     "name": "stdout",
     "output_type": "stream",
     "text": [
      "KM\n"
     ]
    },
    {
     "data": {
      "image/png": "[encoded data removed]",
      "text/plain": [
       "<Figure size 432x288 with 1 Axes>"
      ]
     },
     "metadata": {
      "needs_background": "light"
     },
     "output_type": "display_data"
    },
    {
     "name": "stdout",
     "output_type": "stream",
     "text": [
      "HP\n"
     ]
    },
    {
     "data": {
      "image/png": "[encoded data removed]",
      "text/plain": [
       "<Figure size 432x288 with 1 Axes>"
      ]
     },
     "metadata": {
      "needs_background": "light"
     },
     "output_type": "display_data"
    },
    {
     "name": "stdout",
     "output_type": "stream",
     "text": [
      "cc\n"
     ]
    },
    {
     "data": {
      "image/png": "[encoded data removed]",
      "text/plain": [
       "<Figure size 432x288 with 1 Axes>"
      ]
     },
     "metadata": {
      "needs_background": "light"
     },
     "output_type": "display_data"
    },
    {
     "name": "stdout",
     "output_type": "stream",
     "text": [
      "Doors\n"
     ]
    },
    {
     "data": {
      "image/png": "[encoded data removed]",
      "text/plain": [
       "<Figure size 432x288 with 1 Axes>"
      ]
     },
     "metadata": {
      "needs_background": "light"
     },
     "output_type": "display_data"
    },
    {
     "name": "stdout",
     "output_type": "stream",
     "text": [
      "Quarterly_Tax\n"
     ]
    },
    {
     "data": {
      "image/png": "[encoded data removed]",
      "text/plain": [
       "<Figure size 432x288 with 1 Axes>"
      ]
     },
     "metadata": {
      "needs_background": "light"
     },
     "output_type": "display_data"
    },
    {
     "name": "stdout",
     "output_type": "stream",
     "text": [
      "Weight\n"
     ]
    },
    {
     "data": {
      "image/png": "[encoded data removed]",
      "text/plain": [
       "<Figure size 432x288 with 1 Axes>"
      ]
     },
     "metadata": {
      "needs_background": "light"
     },
     "output_type": "display_data"
    }
   ],
   "source": [
    "for i in df.columns:\n",
    "    if i != 'Gears':\n",
    "        sns.distplot(df[i])\n",
    "        print(i)\n",
    "        plt.show()"
   ]
  },
  {
   "cell_type": "code",
   "execution_count": 10,
   "metadata": {},
   "outputs": [],
   "source": [
    "#sns.distplot(df['Gears'], kde)\n",
    "#plt.show()"
   ]
  },
  {
   "cell_type": "markdown",
   "metadata": {
    "scrolled": true
   },
   "source": [
    "for i in df.columns:\n",
    "    print('-------------------------------------------------------------------------------------')\n",
    "    print(f'Iteration for ',{i})\n",
    "    for j in df.columns:\n",
    "        sns.scatterplot(x=i, y=j, data=df)\n",
    "        plt.show()"
   ]
  },
  {
   "cell_type": "markdown",
   "metadata": {
    "scrolled": true
   },
   "source": [
    "sns.pairplot(df)\n",
    "plt.show()"
   ]
  },
  {
   "cell_type": "code",
   "execution_count": 12,
   "metadata": {
    "scrolled": false
   },
   "outputs": [
    {
     "data": {
      "image/png": "[encoded data removed]",
      "text/plain": [
       "<Figure size 1620x1620 with 54 Axes>"
      ]
     },
     "metadata": {},
     "output_type": "display_data"
    }
   ],
   "source": [
    "sns.set_style(style='darkgrid')\n",
    "df_attr = df.iloc[:, :]\n",
    "sns.pairplot(df_attr, corner=True, diag_kind='auto')\n",
    "plt.show()"
   ]
  },
  {
   "cell_type": "code",
   "execution_count": 13,
   "metadata": {},
   "outputs": [
    {
     "data": {
      "text/html": [
       "<div>\n",
       "<style scoped>\n",
       "    .dataframe tbody tr th:only-of-type {\n",
       "        vertical-align: middle;\n",
       "    }\n",
       "\n",
       "    .dataframe tbody tr th {\n",
       "        vertical-align: top;\n",
       "    }\n",
       "\n",
       "    .dataframe thead th {\n",
       "        text-align: right;\n",
       "    }\n",
       "</style>\n",
       "<table border=\"1\" class=\"dataframe\">\n",
       "  <thead>\n",
       "    <tr style=\"text-align: right;\">\n",
       "      <th></th>\n",
       "      <th>Price</th>\n",
       "      <th>Age_08_04</th>\n",
       "      <th>KM</th>\n",
       "      <th>HP</th>\n",
       "      <th>cc</th>\n",
       "      <th>Doors</th>\n",
       "      <th>Gears</th>\n",
       "      <th>Quarterly_Tax</th>\n",
       "      <th>Weight</th>\n",
       "    </tr>\n",
       "  </thead>\n",
       "  <tbody>\n",
       "    <tr>\n",
       "      <th>Price</th>\n",
       "      <td>1.000000</td>\n",
       "      <td>-0.876590</td>\n",
       "      <td>-0.569960</td>\n",
       "      <td>0.314990</td>\n",
       "      <td>0.126389</td>\n",
       "      <td>0.185326</td>\n",
       "      <td>0.063104</td>\n",
       "      <td>0.219197</td>\n",
       "      <td>0.581198</td>\n",
       "    </tr>\n",
       "    <tr>\n",
       "      <th>Age_08_04</th>\n",
       "      <td>-0.876590</td>\n",
       "      <td>1.000000</td>\n",
       "      <td>0.505672</td>\n",
       "      <td>-0.156622</td>\n",
       "      <td>-0.098084</td>\n",
       "      <td>-0.148359</td>\n",
       "      <td>-0.005364</td>\n",
       "      <td>-0.198431</td>\n",
       "      <td>-0.470253</td>\n",
       "    </tr>\n",
       "    <tr>\n",
       "      <th>KM</th>\n",
       "      <td>-0.569960</td>\n",
       "      <td>0.505672</td>\n",
       "      <td>1.000000</td>\n",
       "      <td>-0.333538</td>\n",
       "      <td>0.102683</td>\n",
       "      <td>-0.036197</td>\n",
       "      <td>0.015023</td>\n",
       "      <td>0.278165</td>\n",
       "      <td>-0.028598</td>\n",
       "    </tr>\n",
       "    <tr>\n",
       "      <th>HP</th>\n",
       "      <td>0.314990</td>\n",
       "      <td>-0.156622</td>\n",
       "      <td>-0.333538</td>\n",
       "      <td>1.000000</td>\n",
       "      <td>0.035856</td>\n",
       "      <td>0.092424</td>\n",
       "      <td>0.209477</td>\n",
       "      <td>-0.298432</td>\n",
       "      <td>0.089614</td>\n",
       "    </tr>\n",
       "    <tr>\n",
       "      <th>cc</th>\n",
       "      <td>0.126389</td>\n",
       "      <td>-0.098084</td>\n",
       "      <td>0.102683</td>\n",
       "      <td>0.035856</td>\n",
       "      <td>1.000000</td>\n",
       "      <td>0.079903</td>\n",
       "      <td>0.014629</td>\n",
       "      <td>0.306996</td>\n",
       "      <td>0.335637</td>\n",
       "    </tr>\n",
       "    <tr>\n",
       "      <th>Doors</th>\n",
       "      <td>0.185326</td>\n",
       "      <td>-0.148359</td>\n",
       "      <td>-0.036197</td>\n",
       "      <td>0.092424</td>\n",
       "      <td>0.079903</td>\n",
       "      <td>1.000000</td>\n",
       "      <td>-0.160141</td>\n",
       "      <td>0.109363</td>\n",
       "      <td>0.302618</td>\n",
       "    </tr>\n",
       "    <tr>\n",
       "      <th>Gears</th>\n",
       "      <td>0.063104</td>\n",
       "      <td>-0.005364</td>\n",
       "      <td>0.015023</td>\n",
       "      <td>0.209477</td>\n",
       "      <td>0.014629</td>\n",
       "      <td>-0.160141</td>\n",
       "      <td>1.000000</td>\n",
       "      <td>-0.005452</td>\n",
       "      <td>0.020613</td>\n",
       "    </tr>\n",
       "    <tr>\n",
       "      <th>Quarterly_Tax</th>\n",
       "      <td>0.219197</td>\n",
       "      <td>-0.198431</td>\n",
       "      <td>0.278165</td>\n",
       "      <td>-0.298432</td>\n",
       "      <td>0.306996</td>\n",
       "      <td>0.109363</td>\n",
       "      <td>-0.005452</td>\n",
       "      <td>1.000000</td>\n",
       "      <td>0.626134</td>\n",
       "    </tr>\n",
       "    <tr>\n",
       "      <th>Weight</th>\n",
       "      <td>0.581198</td>\n",
       "      <td>-0.470253</td>\n",
       "      <td>-0.028598</td>\n",
       "      <td>0.089614</td>\n",
       "      <td>0.335637</td>\n",
       "      <td>0.302618</td>\n",
       "      <td>0.020613</td>\n",
       "      <td>0.626134</td>\n",
       "      <td>1.000000</td>\n",
       "    </tr>\n",
       "  </tbody>\n",
       "</table>\n",
       "</div>"
      ],
      "text/plain": [
       "                  Price  Age_08_04        KM        HP        cc     Doors  \\\n",
       "Price          1.000000  -0.876590 -0.569960  0.314990  0.126389  0.185326   \n",
       "Age_08_04     -0.876590   1.000000  0.505672 -0.156622 -0.098084 -0.148359   \n",
       "KM            -0.569960   0.505672  1.000000 -0.333538  0.102683 -0.036197   \n",
       "HP             0.314990  -0.156622 -0.333538  1.000000  0.035856  0.092424   \n",
       "cc             0.126389  -0.098084  0.102683  0.035856  1.000000  0.079903   \n",
       "Doors          0.185326  -0.148359 -0.036197  0.092424  0.079903  1.000000   \n",
       "Gears          0.063104  -0.005364  0.015023  0.209477  0.014629 -0.160141   \n",
       "Quarterly_Tax  0.219197  -0.198431  0.278165 -0.298432  0.306996  0.109363   \n",
       "Weight         0.581198  -0.470253 -0.028598  0.089614  0.335637  0.302618   \n",
       "\n",
       "                  Gears  Quarterly_Tax    Weight  \n",
       "Price          0.063104       0.219197  0.581198  \n",
       "Age_08_04     -0.005364      -0.198431 -0.470253  \n",
       "KM             0.015023       0.278165 -0.028598  \n",
       "HP             0.209477      -0.298432  0.089614  \n",
       "cc             0.014629       0.306996  0.335637  \n",
       "Doors         -0.160141       0.109363  0.302618  \n",
       "Gears          1.000000      -0.005452  0.020613  \n",
       "Quarterly_Tax -0.005452       1.000000  0.626134  \n",
       "Weight         0.020613       0.626134  1.000000  "
      ]
     },
     "execution_count": 13,
     "metadata": {},
     "output_type": "execute_result"
    }
   ],
   "source": [
    "df.corr()"
   ]
  },
  {
   "cell_type": "code",
   "execution_count": 14,
   "metadata": {},
   "outputs": [
    {
     "data": {
      "image/png": "[encoded data removed]",
      "text/plain": [
       "<Figure size 720x576 with 2 Axes>"
      ]
     },
     "metadata": {},
     "output_type": "display_data"
    }
   ],
   "source": [
    "plt.figure(figsize=(10,8))\n",
    "sns.heatmap(data=df.corr(), annot=True, cmap='PuBu')\n",
    "plt.show()"
   ]
  },
  {
   "cell_type": "code",
   "execution_count": 15,
   "metadata": {},
   "outputs": [
    {
     "data": {
      "image/png": "[encoded data removed]",
      "text/plain": [
       "<Figure size 720x576 with 2 Axes>"
      ]
     },
     "metadata": {},
     "output_type": "display_data"
    }
   ],
   "source": [
    "plt.figure(figsize=(10,8))\n",
    "sns.heatmap(data=df.corr(), annot=True, cmap='BuPu')\n",
    "plt.show()"
   ]
  },
  {
   "cell_type": "code",
   "execution_count": 16,
   "metadata": {},
   "outputs": [
    {
     "data": {
      "text/plain": [
       "Price            0\n",
       "Age_08_04        0\n",
       "KM               0\n",
       "HP               0\n",
       "cc               0\n",
       "Doors            0\n",
       "Gears            0\n",
       "Quarterly_Tax    0\n",
       "Weight           0\n",
       "dtype: int64"
      ]
     },
     "execution_count": 16,
     "metadata": {},
     "output_type": "execute_result"
    }
   ],
   "source": [
    "df.isna().sum()"
   ]
  },
  {
   "cell_type": "code",
   "execution_count": 17,
   "metadata": {},
   "outputs": [
    {
     "data": {
      "text/html": [
       "<div>\n",
       "<style scoped>\n",
       "    .dataframe tbody tr th:only-of-type {\n",
       "        vertical-align: middle;\n",
       "    }\n",
       "\n",
       "    .dataframe tbody tr th {\n",
       "        vertical-align: top;\n",
       "    }\n",
       "\n",
       "    .dataframe thead th {\n",
       "        text-align: right;\n",
       "    }\n",
       "</style>\n",
       "<table border=\"1\" class=\"dataframe\">\n",
       "  <thead>\n",
       "    <tr style=\"text-align: right;\">\n",
       "      <th></th>\n",
       "      <th>Name</th>\n",
       "      <th>Adjusted_Rsquare</th>\n",
       "    </tr>\n",
       "  </thead>\n",
       "  <tbody>\n",
       "  </tbody>\n",
       "</table>\n",
       "</div>"
      ],
      "text/plain": [
       "Empty DataFrame\n",
       "Columns: [Name, Adjusted_Rsquare]\n",
       "Index: []"
      ]
     },
     "execution_count": 17,
     "metadata": {},
     "output_type": "execute_result"
    }
   ],
   "source": [
    "individual_rsquared_adj = pd.DataFrame(columns=['Name', 'Adjusted_Rsquare'])\n",
    "individual_rsquared_adj"
   ]
  },
  {
   "cell_type": "code",
   "execution_count": 18,
   "metadata": {},
   "outputs": [],
   "source": [
    "import statsmodels.formula.api as smf"
   ]
  },
  {
   "cell_type": "markdown",
   "metadata": {},
   "source": [
    "### From Correlation we can see Price has very good correlation with Age\n",
    "\n",
    "##### So lets see how much accuracy we can get only with Price and Age\n",
    "\n",
    "# Price ~ Age  (0.768)"
   ]
  },
  {
   "cell_type": "code",
   "execution_count": 19,
   "metadata": {},
   "outputs": [
    {
     "data": {
      "text/html": [
       "<table class=\"simpletable\">\n",
       "<caption>OLS Regression Results</caption>\n",
       "<tr>\n",
       "  <th>Dep. Variable:</th>          <td>Price</td>      <th>  R-squared:         </th> <td>   0.768</td> \n",
       "</tr>\n",
       "<tr>\n",
       "  <th>Model:</th>                   <td>OLS</td>       <th>  Adj. R-squared:    </th> <td>   0.768</td> \n",
       "</tr>\n",
       "<tr>\n",
       "  <th>Method:</th>             <td>Least Squares</td>  <th>  F-statistic:       </th> <td>   4758.</td> \n",
       "</tr>\n",
       "<tr>\n",
       "  <th>Date:</th>             <td>Wed, 11 Oct 2023</td> <th>  Prob (F-statistic):</th>  <td>  0.00</td>  \n",
       "</tr>\n",
       "<tr>\n",
       "  <th>Time:</th>                 <td>17:25:26</td>     <th>  Log-Likelihood:    </th> <td> -12756.</td> \n",
       "</tr>\n",
       "<tr>\n",
       "  <th>No. Observations:</th>      <td>  1436</td>      <th>  AIC:               </th> <td>2.552e+04</td>\n",
       "</tr>\n",
       "<tr>\n",
       "  <th>Df Residuals:</th>          <td>  1434</td>      <th>  BIC:               </th> <td>2.553e+04</td>\n",
       "</tr>\n",
       "<tr>\n",
       "  <th>Df Model:</th>              <td>     1</td>      <th>                     </th>     <td> </td>    \n",
       "</tr>\n",
       "<tr>\n",
       "  <th>Covariance Type:</th>      <td>nonrobust</td>    <th>                     </th>     <td> </td>    \n",
       "</tr>\n",
       "</table>\n",
       "<table class=\"simpletable\">\n",
       "<tr>\n",
       "      <td></td>         <th>coef</th>     <th>std err</th>      <th>t</th>      <th>P>|t|</th>  <th>[0.025</th>    <th>0.975]</th>  \n",
       "</tr>\n",
       "<tr>\n",
       "  <th>Intercept</th> <td> 2.029e+04</td> <td>  146.097</td> <td>  138.908</td> <td> 0.000</td> <td>    2e+04</td> <td> 2.06e+04</td>\n",
       "</tr>\n",
       "<tr>\n",
       "  <th>Age_08_04</th> <td> -170.9336</td> <td>    2.478</td> <td>  -68.978</td> <td> 0.000</td> <td> -175.795</td> <td> -166.073</td>\n",
       "</tr>\n",
       "</table>\n",
       "<table class=\"simpletable\">\n",
       "<tr>\n",
       "  <th>Omnibus:</th>       <td>359.275</td> <th>  Durbin-Watson:     </th> <td>   1.214</td>\n",
       "</tr>\n",
       "<tr>\n",
       "  <th>Prob(Omnibus):</th> <td> 0.000</td>  <th>  Jarque-Bera (JB):  </th> <td>2774.226</td>\n",
       "</tr>\n",
       "<tr>\n",
       "  <th>Skew:</th>          <td> 0.946</td>  <th>  Prob(JB):          </th> <td>    0.00</td>\n",
       "</tr>\n",
       "<tr>\n",
       "  <th>Kurtosis:</th>      <td> 9.541</td>  <th>  Cond. No.          </th> <td>    187.</td>\n",
       "</tr>\n",
       "</table><br/><br/>Warnings:<br/>[1] Standard Errors assume that the covariance matrix of the errors is correctly specified."
      ],
      "text/plain": [
       "<class 'statsmodels.iolib.summary.Summary'>\n",
       "\"\"\"\n",
       "                            OLS Regression Results                            \n",
       "==============================================================================\n",
       "Dep. Variable:                  Price   R-squared:                       0.768\n",
       "Model:                            OLS   Adj. R-squared:                  0.768\n",
       "Method:                 Least Squares   F-statistic:                     4758.\n",
       "Date:                Wed, 11 Oct 2023   Prob (F-statistic):               0.00\n",
       "Time:                        17:25:26   Log-Likelihood:                -12756.\n",
       "No. Observations:                1436   AIC:                         2.552e+04\n",
       "Df Residuals:                    1434   BIC:                         2.553e+04\n",
       "Df Model:                           1                                         \n",
       "Covariance Type:            nonrobust                                         \n",
       "==============================================================================\n",
       "                 coef    std err          t      P>|t|      [0.025      0.975]\n",
       "------------------------------------------------------------------------------\n",
       "Intercept   2.029e+04    146.097    138.908      0.000       2e+04    2.06e+04\n",
       "Age_08_04   -170.9336      2.478    -68.978      0.000    -175.795    -166.073\n",
       "==============================================================================\n",
       "Omnibus:                      359.275   Durbin-Watson:                   1.214\n",
       "Prob(Omnibus):                  0.000   Jarque-Bera (JB):             2774.226\n",
       "Skew:                           0.946   Prob(JB):                         0.00\n",
       "Kurtosis:                       9.541   Cond. No.                         187.\n",
       "==============================================================================\n",
       "\n",
       "Warnings:\n",
       "[1] Standard Errors assume that the covariance matrix of the errors is correctly specified.\n",
       "\"\"\""
      ]
     },
     "execution_count": 19,
     "metadata": {},
     "output_type": "execute_result"
    }
   ],
   "source": [
    "formula = 'Price ~ Age_08_04'\n",
    "model = smf.ols(formula, data=df).fit()\n",
    "model.summary()"
   ]
  },
  {
   "cell_type": "code",
   "execution_count": 20,
   "metadata": {},
   "outputs": [
    {
     "data": {
      "text/html": [
       "<div>\n",
       "<style scoped>\n",
       "    .dataframe tbody tr th:only-of-type {\n",
       "        vertical-align: middle;\n",
       "    }\n",
       "\n",
       "    .dataframe tbody tr th {\n",
       "        vertical-align: top;\n",
       "    }\n",
       "\n",
       "    .dataframe thead th {\n",
       "        text-align: right;\n",
       "    }\n",
       "</style>\n",
       "<table border=\"1\" class=\"dataframe\">\n",
       "  <thead>\n",
       "    <tr style=\"text-align: right;\">\n",
       "      <th></th>\n",
       "      <th>Name</th>\n",
       "      <th>Adjusted_Rsquare</th>\n",
       "    </tr>\n",
       "  </thead>\n",
       "  <tbody>\n",
       "    <tr>\n",
       "      <th>0</th>\n",
       "      <td>Price ~ Age_08_04</td>\n",
       "      <td>76.82494</td>\n",
       "    </tr>\n",
       "  </tbody>\n",
       "</table>\n",
       "</div>"
      ],
      "text/plain": [
       "                Name  Adjusted_Rsquare\n",
       "0  Price ~ Age_08_04          76.82494"
      ]
     },
     "execution_count": 20,
     "metadata": {},
     "output_type": "execute_result"
    }
   ],
   "source": [
    "individual_rsquared_adj = individual_rsquared_adj.append({'Name' : formula, 'Adjusted_Rsquare': model.rsquared_adj*100}, ignore_index = True)\n",
    "individual_rsquared_adj"
   ]
  },
  {
   "cell_type": "markdown",
   "metadata": {},
   "source": [
    "# Price ~ Weight (0.337)"
   ]
  },
  {
   "cell_type": "code",
   "execution_count": 21,
   "metadata": {},
   "outputs": [
    {
     "data": {
      "text/html": [
       "<table class=\"simpletable\">\n",
       "<caption>OLS Regression Results</caption>\n",
       "<tr>\n",
       "  <th>Dep. Variable:</th>          <td>Price</td>      <th>  R-squared:         </th> <td>   0.338</td> \n",
       "</tr>\n",
       "<tr>\n",
       "  <th>Model:</th>                   <td>OLS</td>       <th>  Adj. R-squared:    </th> <td>   0.337</td> \n",
       "</tr>\n",
       "<tr>\n",
       "  <th>Method:</th>             <td>Least Squares</td>  <th>  F-statistic:       </th> <td>   731.5</td> \n",
       "</tr>\n",
       "<tr>\n",
       "  <th>Date:</th>             <td>Wed, 11 Oct 2023</td> <th>  Prob (F-statistic):</th> <td>1.63e-130</td>\n",
       "</tr>\n",
       "<tr>\n",
       "  <th>Time:</th>                 <td>17:25:26</td>     <th>  Log-Likelihood:    </th> <td> -13511.</td> \n",
       "</tr>\n",
       "<tr>\n",
       "  <th>No. Observations:</th>      <td>  1436</td>      <th>  AIC:               </th> <td>2.703e+04</td>\n",
       "</tr>\n",
       "<tr>\n",
       "  <th>Df Residuals:</th>          <td>  1434</td>      <th>  BIC:               </th> <td>2.704e+04</td>\n",
       "</tr>\n",
       "<tr>\n",
       "  <th>Df Model:</th>              <td>     1</td>      <th>                     </th>     <td> </td>    \n",
       "</tr>\n",
       "<tr>\n",
       "  <th>Covariance Type:</th>      <td>nonrobust</td>    <th>                     </th>     <td> </td>    \n",
       "</tr>\n",
       "</table>\n",
       "<table class=\"simpletable\">\n",
       "<tr>\n",
       "      <td></td>         <th>coef</th>     <th>std err</th>      <th>t</th>      <th>P>|t|</th>  <th>[0.025</th>    <th>0.975]</th>  \n",
       "</tr>\n",
       "<tr>\n",
       "  <th>Intercept</th> <td>-3.222e+04</td> <td> 1589.807</td> <td>  -20.264</td> <td> 0.000</td> <td>-3.53e+04</td> <td>-2.91e+04</td>\n",
       "</tr>\n",
       "<tr>\n",
       "  <th>Weight</th>    <td>   40.0444</td> <td>    1.481</td> <td>   27.046</td> <td> 0.000</td> <td>   37.140</td> <td>   42.949</td>\n",
       "</tr>\n",
       "</table>\n",
       "<table class=\"simpletable\">\n",
       "<tr>\n",
       "  <th>Omnibus:</th>       <td>105.784</td> <th>  Durbin-Watson:     </th> <td>   0.562</td> \n",
       "</tr>\n",
       "<tr>\n",
       "  <th>Prob(Omnibus):</th> <td> 0.000</td>  <th>  Jarque-Bera (JB):  </th> <td> 531.408</td> \n",
       "</tr>\n",
       "<tr>\n",
       "  <th>Skew:</th>          <td> 0.028</td>  <th>  Prob(JB):          </th> <td>4.04e-116</td>\n",
       "</tr>\n",
       "<tr>\n",
       "  <th>Kurtosis:</th>      <td> 5.980</td>  <th>  Cond. No.          </th> <td>2.19e+04</td> \n",
       "</tr>\n",
       "</table><br/><br/>Warnings:<br/>[1] Standard Errors assume that the covariance matrix of the errors is correctly specified.<br/>[2] The condition number is large, 2.19e+04. This might indicate that there are<br/>strong multicollinearity or other numerical problems."
      ],
      "text/plain": [
       "<class 'statsmodels.iolib.summary.Summary'>\n",
       "\"\"\"\n",
       "                            OLS Regression Results                            \n",
       "==============================================================================\n",
       "Dep. Variable:                  Price   R-squared:                       0.338\n",
       "Model:                            OLS   Adj. R-squared:                  0.337\n",
       "Method:                 Least Squares   F-statistic:                     731.5\n",
       "Date:                Wed, 11 Oct 2023   Prob (F-statistic):          1.63e-130\n",
       "Time:                        17:25:26   Log-Likelihood:                -13511.\n",
       "No. Observations:                1436   AIC:                         2.703e+04\n",
       "Df Residuals:                    1434   BIC:                         2.704e+04\n",
       "Df Model:                           1                                         \n",
       "Covariance Type:            nonrobust                                         \n",
       "==============================================================================\n",
       "                 coef    std err          t      P>|t|      [0.025      0.975]\n",
       "------------------------------------------------------------------------------\n",
       "Intercept  -3.222e+04   1589.807    -20.264      0.000   -3.53e+04   -2.91e+04\n",
       "Weight        40.0444      1.481     27.046      0.000      37.140      42.949\n",
       "==============================================================================\n",
       "Omnibus:                      105.784   Durbin-Watson:                   0.562\n",
       "Prob(Omnibus):                  0.000   Jarque-Bera (JB):              531.408\n",
       "Skew:                           0.028   Prob(JB):                    4.04e-116\n",
       "Kurtosis:                       5.980   Cond. No.                     2.19e+04\n",
       "==============================================================================\n",
       "\n",
       "Warnings:\n",
       "[1] Standard Errors assume that the covariance matrix of the errors is correctly specified.\n",
       "[2] The condition number is large, 2.19e+04. This might indicate that there are\n",
       "strong multicollinearity or other numerical problems.\n",
       "\"\"\""
      ]
     },
     "execution_count": 21,
     "metadata": {},
     "output_type": "execute_result"
    }
   ],
   "source": [
    "formula = 'Price ~ Weight'\n",
    "model = smf.ols(formula, data=df).fit()\n",
    "model.summary()"
   ]
  },
  {
   "cell_type": "code",
   "execution_count": 22,
   "metadata": {},
   "outputs": [
    {
     "data": {
      "text/html": [
       "<div>\n",
       "<style scoped>\n",
       "    .dataframe tbody tr th:only-of-type {\n",
       "        vertical-align: middle;\n",
       "    }\n",
       "\n",
       "    .dataframe tbody tr th {\n",
       "        vertical-align: top;\n",
       "    }\n",
       "\n",
       "    .dataframe thead th {\n",
       "        text-align: right;\n",
       "    }\n",
       "</style>\n",
       "<table border=\"1\" class=\"dataframe\">\n",
       "  <thead>\n",
       "    <tr style=\"text-align: right;\">\n",
       "      <th></th>\n",
       "      <th>Name</th>\n",
       "      <th>Adjusted_Rsquare</th>\n",
       "    </tr>\n",
       "  </thead>\n",
       "  <tbody>\n",
       "    <tr>\n",
       "      <th>0</th>\n",
       "      <td>Price ~ Age_08_04</td>\n",
       "      <td>76.824940</td>\n",
       "    </tr>\n",
       "    <tr>\n",
       "      <th>1</th>\n",
       "      <td>Price ~ Weight</td>\n",
       "      <td>33.732885</td>\n",
       "    </tr>\n",
       "  </tbody>\n",
       "</table>\n",
       "</div>"
      ],
      "text/plain": [
       "                Name  Adjusted_Rsquare\n",
       "0  Price ~ Age_08_04         76.824940\n",
       "1     Price ~ Weight         33.732885"
      ]
     },
     "execution_count": 22,
     "metadata": {},
     "output_type": "execute_result"
    }
   ],
   "source": [
    "individual_rsquared_adj = individual_rsquared_adj.append({'Name' : formula, 'Adjusted_Rsquare': model.rsquared_adj*100}, ignore_index = True)\n",
    "individual_rsquared_adj"
   ]
  },
  {
   "cell_type": "markdown",
   "metadata": {},
   "source": [
    "# Price ~ KM (0.324)"
   ]
  },
  {
   "cell_type": "code",
   "execution_count": 23,
   "metadata": {},
   "outputs": [
    {
     "data": {
      "text/html": [
       "<table class=\"simpletable\">\n",
       "<caption>OLS Regression Results</caption>\n",
       "<tr>\n",
       "  <th>Dep. Variable:</th>          <td>Price</td>      <th>  R-squared:         </th> <td>   0.325</td> \n",
       "</tr>\n",
       "<tr>\n",
       "  <th>Model:</th>                   <td>OLS</td>       <th>  Adj. R-squared:    </th> <td>   0.324</td> \n",
       "</tr>\n",
       "<tr>\n",
       "  <th>Method:</th>             <td>Least Squares</td>  <th>  F-statistic:       </th> <td>   690.0</td> \n",
       "</tr>\n",
       "<tr>\n",
       "  <th>Date:</th>             <td>Wed, 11 Oct 2023</td> <th>  Prob (F-statistic):</th> <td>1.76e-124</td>\n",
       "</tr>\n",
       "<tr>\n",
       "  <th>Time:</th>                 <td>17:25:26</td>     <th>  Log-Likelihood:    </th> <td> -13525.</td> \n",
       "</tr>\n",
       "<tr>\n",
       "  <th>No. Observations:</th>      <td>  1436</td>      <th>  AIC:               </th> <td>2.705e+04</td>\n",
       "</tr>\n",
       "<tr>\n",
       "  <th>Df Residuals:</th>          <td>  1434</td>      <th>  BIC:               </th> <td>2.706e+04</td>\n",
       "</tr>\n",
       "<tr>\n",
       "  <th>Df Model:</th>              <td>     1</td>      <th>                     </th>     <td> </td>    \n",
       "</tr>\n",
       "<tr>\n",
       "  <th>Covariance Type:</th>      <td>nonrobust</td>    <th>                     </th>     <td> </td>    \n",
       "</tr>\n",
       "</table>\n",
       "<table class=\"simpletable\">\n",
       "<tr>\n",
       "      <td></td>         <th>coef</th>     <th>std err</th>      <th>t</th>      <th>P>|t|</th>  <th>[0.025</th>    <th>0.975]</th>  \n",
       "</tr>\n",
       "<tr>\n",
       "  <th>Intercept</th> <td> 1.451e+04</td> <td>  163.915</td> <td>   88.510</td> <td> 0.000</td> <td> 1.42e+04</td> <td> 1.48e+04</td>\n",
       "</tr>\n",
       "<tr>\n",
       "  <th>KM</th>        <td>   -0.0551</td> <td>    0.002</td> <td>  -26.268</td> <td> 0.000</td> <td>   -0.059</td> <td>   -0.051</td>\n",
       "</tr>\n",
       "</table>\n",
       "<table class=\"simpletable\">\n",
       "<tr>\n",
       "  <th>Omnibus:</th>       <td>390.716</td> <th>  Durbin-Watson:     </th> <td>   0.386</td> \n",
       "</tr>\n",
       "<tr>\n",
       "  <th>Prob(Omnibus):</th> <td> 0.000</td>  <th>  Jarque-Bera (JB):  </th> <td>1115.783</td> \n",
       "</tr>\n",
       "<tr>\n",
       "  <th>Skew:</th>          <td> 1.388</td>  <th>  Prob(JB):          </th> <td>5.14e-243</td>\n",
       "</tr>\n",
       "<tr>\n",
       "  <th>Kurtosis:</th>      <td> 6.308</td>  <th>  Cond. No.          </th> <td>1.63e+05</td> \n",
       "</tr>\n",
       "</table><br/><br/>Warnings:<br/>[1] Standard Errors assume that the covariance matrix of the errors is correctly specified.<br/>[2] The condition number is large, 1.63e+05. This might indicate that there are<br/>strong multicollinearity or other numerical problems."
      ],
      "text/plain": [
       "<class 'statsmodels.iolib.summary.Summary'>\n",
       "\"\"\"\n",
       "                            OLS Regression Results                            \n",
       "==============================================================================\n",
       "Dep. Variable:                  Price   R-squared:                       0.325\n",
       "Model:                            OLS   Adj. R-squared:                  0.324\n",
       "Method:                 Least Squares   F-statistic:                     690.0\n",
       "Date:                Wed, 11 Oct 2023   Prob (F-statistic):          1.76e-124\n",
       "Time:                        17:25:26   Log-Likelihood:                -13525.\n",
       "No. Observations:                1436   AIC:                         2.705e+04\n",
       "Df Residuals:                    1434   BIC:                         2.706e+04\n",
       "Df Model:                           1                                         \n",
       "Covariance Type:            nonrobust                                         \n",
       "==============================================================================\n",
       "                 coef    std err          t      P>|t|      [0.025      0.975]\n",
       "------------------------------------------------------------------------------\n",
       "Intercept   1.451e+04    163.915     88.510      0.000    1.42e+04    1.48e+04\n",
       "KM            -0.0551      0.002    -26.268      0.000      -0.059      -0.051\n",
       "==============================================================================\n",
       "Omnibus:                      390.716   Durbin-Watson:                   0.386\n",
       "Prob(Omnibus):                  0.000   Jarque-Bera (JB):             1115.783\n",
       "Skew:                           1.388   Prob(JB):                    5.14e-243\n",
       "Kurtosis:                       6.308   Cond. No.                     1.63e+05\n",
       "==============================================================================\n",
       "\n",
       "Warnings:\n",
       "[1] Standard Errors assume that the covariance matrix of the errors is correctly specified.\n",
       "[2] The condition number is large, 1.63e+05. This might indicate that there are\n",
       "strong multicollinearity or other numerical problems.\n",
       "\"\"\""
      ]
     },
     "execution_count": 23,
     "metadata": {},
     "output_type": "execute_result"
    }
   ],
   "source": [
    "formula = 'Price ~ KM'\n",
    "model = smf.ols(formula, data=df).fit()\n",
    "model.summary()"
   ]
  },
  {
   "cell_type": "code",
   "execution_count": 24,
   "metadata": {},
   "outputs": [
    {
     "data": {
      "text/html": [
       "<div>\n",
       "<style scoped>\n",
       "    .dataframe tbody tr th:only-of-type {\n",
       "        vertical-align: middle;\n",
       "    }\n",
       "\n",
       "    .dataframe tbody tr th {\n",
       "        vertical-align: top;\n",
       "    }\n",
       "\n",
       "    .dataframe thead th {\n",
       "        text-align: right;\n",
       "    }\n",
       "</style>\n",
       "<table border=\"1\" class=\"dataframe\">\n",
       "  <thead>\n",
       "    <tr style=\"text-align: right;\">\n",
       "      <th></th>\n",
       "      <th>Name</th>\n",
       "      <th>Adjusted_Rsquare</th>\n",
       "    </tr>\n",
       "  </thead>\n",
       "  <tbody>\n",
       "    <tr>\n",
       "      <th>0</th>\n",
       "      <td>Price ~ Age_08_04</td>\n",
       "      <td>76.824940</td>\n",
       "    </tr>\n",
       "    <tr>\n",
       "      <th>1</th>\n",
       "      <td>Price ~ Weight</td>\n",
       "      <td>33.732885</td>\n",
       "    </tr>\n",
       "    <tr>\n",
       "      <th>2</th>\n",
       "      <td>Price ~ KM</td>\n",
       "      <td>32.438378</td>\n",
       "    </tr>\n",
       "  </tbody>\n",
       "</table>\n",
       "</div>"
      ],
      "text/plain": [
       "                Name  Adjusted_Rsquare\n",
       "0  Price ~ Age_08_04         76.824940\n",
       "1     Price ~ Weight         33.732885\n",
       "2         Price ~ KM         32.438378"
      ]
     },
     "execution_count": 24,
     "metadata": {},
     "output_type": "execute_result"
    }
   ],
   "source": [
    "individual_rsquared_adj = individual_rsquared_adj.append({'Name' : formula, 'Adjusted_Rsquare': model.rsquared_adj*100}, ignore_index = True)\n",
    "individual_rsquared_adj"
   ]
  },
  {
   "cell_type": "markdown",
   "metadata": {},
   "source": [
    "# Price ~ HP (0.099)"
   ]
  },
  {
   "cell_type": "code",
   "execution_count": 25,
   "metadata": {},
   "outputs": [
    {
     "data": {
      "text/html": [
       "<table class=\"simpletable\">\n",
       "<caption>OLS Regression Results</caption>\n",
       "<tr>\n",
       "  <th>Dep. Variable:</th>          <td>Price</td>      <th>  R-squared:         </th> <td>   0.099</td> \n",
       "</tr>\n",
       "<tr>\n",
       "  <th>Model:</th>                   <td>OLS</td>       <th>  Adj. R-squared:    </th> <td>   0.099</td> \n",
       "</tr>\n",
       "<tr>\n",
       "  <th>Method:</th>             <td>Least Squares</td>  <th>  F-statistic:       </th> <td>   158.0</td> \n",
       "</tr>\n",
       "<tr>\n",
       "  <th>Date:</th>             <td>Wed, 11 Oct 2023</td> <th>  Prob (F-statistic):</th> <td>1.93e-34</td> \n",
       "</tr>\n",
       "<tr>\n",
       "  <th>Time:</th>                 <td>17:25:27</td>     <th>  Log-Likelihood:    </th> <td> -13732.</td> \n",
       "</tr>\n",
       "<tr>\n",
       "  <th>No. Observations:</th>      <td>  1436</td>      <th>  AIC:               </th> <td>2.747e+04</td>\n",
       "</tr>\n",
       "<tr>\n",
       "  <th>Df Residuals:</th>          <td>  1434</td>      <th>  BIC:               </th> <td>2.748e+04</td>\n",
       "</tr>\n",
       "<tr>\n",
       "  <th>Df Model:</th>              <td>     1</td>      <th>                     </th>     <td> </td>    \n",
       "</tr>\n",
       "<tr>\n",
       "  <th>Covariance Type:</th>      <td>nonrobust</td>    <th>                     </th>     <td> </td>    \n",
       "</tr>\n",
       "</table>\n",
       "<table class=\"simpletable\">\n",
       "<tr>\n",
       "      <td></td>         <th>coef</th>     <th>std err</th>      <th>t</th>      <th>P>|t|</th>  <th>[0.025</th>    <th>0.975]</th>  \n",
       "</tr>\n",
       "<tr>\n",
       "  <th>Intercept</th> <td> 2990.2764</td> <td>  622.568</td> <td>    4.803</td> <td> 0.000</td> <td> 1769.035</td> <td> 4211.518</td>\n",
       "</tr>\n",
       "<tr>\n",
       "  <th>HP</th>        <td>   76.2600</td> <td>    6.068</td> <td>   12.568</td> <td> 0.000</td> <td>   64.357</td> <td>   88.163</td>\n",
       "</tr>\n",
       "</table>\n",
       "<table class=\"simpletable\">\n",
       "<tr>\n",
       "  <th>Omnibus:</th>       <td>448.876</td> <th>  Durbin-Watson:     </th> <td>   0.338</td> \n",
       "</tr>\n",
       "<tr>\n",
       "  <th>Prob(Omnibus):</th> <td> 0.000</td>  <th>  Jarque-Bera (JB):  </th> <td>1327.172</td> \n",
       "</tr>\n",
       "<tr>\n",
       "  <th>Skew:</th>          <td> 1.591</td>  <th>  Prob(JB):          </th> <td>6.43e-289</td>\n",
       "</tr>\n",
       "<tr>\n",
       "  <th>Kurtosis:</th>      <td> 6.472</td>  <th>  Cond. No.          </th> <td>    703.</td> \n",
       "</tr>\n",
       "</table><br/><br/>Warnings:<br/>[1] Standard Errors assume that the covariance matrix of the errors is correctly specified."
      ],
      "text/plain": [
       "<class 'statsmodels.iolib.summary.Summary'>\n",
       "\"\"\"\n",
       "                            OLS Regression Results                            \n",
       "==============================================================================\n",
       "Dep. Variable:                  Price   R-squared:                       0.099\n",
       "Model:                            OLS   Adj. R-squared:                  0.099\n",
       "Method:                 Least Squares   F-statistic:                     158.0\n",
       "Date:                Wed, 11 Oct 2023   Prob (F-statistic):           1.93e-34\n",
       "Time:                        17:25:27   Log-Likelihood:                -13732.\n",
       "No. Observations:                1436   AIC:                         2.747e+04\n",
       "Df Residuals:                    1434   BIC:                         2.748e+04\n",
       "Df Model:                           1                                         \n",
       "Covariance Type:            nonrobust                                         \n",
       "==============================================================================\n",
       "                 coef    std err          t      P>|t|      [0.025      0.975]\n",
       "------------------------------------------------------------------------------\n",
       "Intercept   2990.2764    622.568      4.803      0.000    1769.035    4211.518\n",
       "HP            76.2600      6.068     12.568      0.000      64.357      88.163\n",
       "==============================================================================\n",
       "Omnibus:                      448.876   Durbin-Watson:                   0.338\n",
       "Prob(Omnibus):                  0.000   Jarque-Bera (JB):             1327.172\n",
       "Skew:                           1.591   Prob(JB):                    6.43e-289\n",
       "Kurtosis:                       6.472   Cond. No.                         703.\n",
       "==============================================================================\n",
       "\n",
       "Warnings:\n",
       "[1] Standard Errors assume that the covariance matrix of the errors is correctly specified.\n",
       "\"\"\""
      ]
     },
     "execution_count": 25,
     "metadata": {},
     "output_type": "execute_result"
    }
   ],
   "source": [
    "formula = 'Price ~ HP'\n",
    "model = smf.ols(formula, data=df).fit()\n",
    "model.summary()"
   ]
  },
  {
   "cell_type": "code",
   "execution_count": 26,
   "metadata": {},
   "outputs": [
    {
     "data": {
      "text/html": [
       "<div>\n",
       "<style scoped>\n",
       "    .dataframe tbody tr th:only-of-type {\n",
       "        vertical-align: middle;\n",
       "    }\n",
       "\n",
       "    .dataframe tbody tr th {\n",
       "        vertical-align: top;\n",
       "    }\n",
       "\n",
       "    .dataframe thead th {\n",
       "        text-align: right;\n",
       "    }\n",
       "</style>\n",
       "<table border=\"1\" class=\"dataframe\">\n",
       "  <thead>\n",
       "    <tr style=\"text-align: right;\">\n",
       "      <th></th>\n",
       "      <th>Name</th>\n",
       "      <th>Adjusted_Rsquare</th>\n",
       "    </tr>\n",
       "  </thead>\n",
       "  <tbody>\n",
       "    <tr>\n",
       "      <th>0</th>\n",
       "      <td>Price ~ Age_08_04</td>\n",
       "      <td>76.824940</td>\n",
       "    </tr>\n",
       "    <tr>\n",
       "      <th>1</th>\n",
       "      <td>Price ~ Weight</td>\n",
       "      <td>33.732885</td>\n",
       "    </tr>\n",
       "    <tr>\n",
       "      <th>2</th>\n",
       "      <td>Price ~ KM</td>\n",
       "      <td>32.438378</td>\n",
       "    </tr>\n",
       "    <tr>\n",
       "      <th>3</th>\n",
       "      <td>Price ~ HP</td>\n",
       "      <td>9.859043</td>\n",
       "    </tr>\n",
       "  </tbody>\n",
       "</table>\n",
       "</div>"
      ],
      "text/plain": [
       "                Name  Adjusted_Rsquare\n",
       "0  Price ~ Age_08_04         76.824940\n",
       "1     Price ~ Weight         33.732885\n",
       "2         Price ~ KM         32.438378\n",
       "3         Price ~ HP          9.859043"
      ]
     },
     "execution_count": 26,
     "metadata": {},
     "output_type": "execute_result"
    }
   ],
   "source": [
    "individual_rsquared_adj = individual_rsquared_adj.append({'Name' : formula, 'Adjusted_Rsquare': model.rsquared_adj*100}, ignore_index = True)\n",
    "individual_rsquared_adj"
   ]
  },
  {
   "cell_type": "markdown",
   "metadata": {},
   "source": [
    "# Price ~ Quarterly_Tax (0.047)"
   ]
  },
  {
   "cell_type": "code",
   "execution_count": 27,
   "metadata": {},
   "outputs": [
    {
     "data": {
      "text/html": [
       "<table class=\"simpletable\">\n",
       "<caption>OLS Regression Results</caption>\n",
       "<tr>\n",
       "  <th>Dep. Variable:</th>          <td>Price</td>      <th>  R-squared:         </th> <td>   0.048</td> \n",
       "</tr>\n",
       "<tr>\n",
       "  <th>Model:</th>                   <td>OLS</td>       <th>  Adj. R-squared:    </th> <td>   0.047</td> \n",
       "</tr>\n",
       "<tr>\n",
       "  <th>Method:</th>             <td>Least Squares</td>  <th>  F-statistic:       </th> <td>   72.38</td> \n",
       "</tr>\n",
       "<tr>\n",
       "  <th>Date:</th>             <td>Wed, 11 Oct 2023</td> <th>  Prob (F-statistic):</th> <td>4.41e-17</td> \n",
       "</tr>\n",
       "<tr>\n",
       "  <th>Time:</th>                 <td>17:25:27</td>     <th>  Log-Likelihood:    </th> <td> -13771.</td> \n",
       "</tr>\n",
       "<tr>\n",
       "  <th>No. Observations:</th>      <td>  1436</td>      <th>  AIC:               </th> <td>2.755e+04</td>\n",
       "</tr>\n",
       "<tr>\n",
       "  <th>Df Residuals:</th>          <td>  1434</td>      <th>  BIC:               </th> <td>2.756e+04</td>\n",
       "</tr>\n",
       "<tr>\n",
       "  <th>Df Model:</th>              <td>     1</td>      <th>                     </th>     <td> </td>    \n",
       "</tr>\n",
       "<tr>\n",
       "  <th>Covariance Type:</th>      <td>nonrobust</td>    <th>                     </th>     <td> </td>    \n",
       "</tr>\n",
       "</table>\n",
       "<table class=\"simpletable\">\n",
       "<tr>\n",
       "        <td></td>           <th>coef</th>     <th>std err</th>      <th>t</th>      <th>P>|t|</th>  <th>[0.025</th>    <th>0.975]</th>  \n",
       "</tr>\n",
       "<tr>\n",
       "  <th>Intercept</th>     <td> 9046.7382</td> <td>  218.889</td> <td>   41.330</td> <td> 0.000</td> <td> 8617.362</td> <td> 9476.115</td>\n",
       "</tr>\n",
       "<tr>\n",
       "  <th>Quarterly_Tax</th> <td>   19.3301</td> <td>    2.272</td> <td>    8.507</td> <td> 0.000</td> <td>   14.873</td> <td>   23.787</td>\n",
       "</tr>\n",
       "</table>\n",
       "<table class=\"simpletable\">\n",
       "<tr>\n",
       "  <th>Omnibus:</th>       <td>369.212</td> <th>  Durbin-Watson:     </th> <td>   0.276</td> \n",
       "</tr>\n",
       "<tr>\n",
       "  <th>Prob(Omnibus):</th> <td> 0.000</td>  <th>  Jarque-Bera (JB):  </th> <td> 843.513</td> \n",
       "</tr>\n",
       "<tr>\n",
       "  <th>Skew:</th>          <td> 1.417</td>  <th>  Prob(JB):          </th> <td>6.82e-184</td>\n",
       "</tr>\n",
       "<tr>\n",
       "  <th>Kurtosis:</th>      <td> 5.462</td>  <th>  Cond. No.          </th> <td>    226.</td> \n",
       "</tr>\n",
       "</table><br/><br/>Warnings:<br/>[1] Standard Errors assume that the covariance matrix of the errors is correctly specified."
      ],
      "text/plain": [
       "<class 'statsmodels.iolib.summary.Summary'>\n",
       "\"\"\"\n",
       "                            OLS Regression Results                            \n",
       "==============================================================================\n",
       "Dep. Variable:                  Price   R-squared:                       0.048\n",
       "Model:                            OLS   Adj. R-squared:                  0.047\n",
       "Method:                 Least Squares   F-statistic:                     72.38\n",
       "Date:                Wed, 11 Oct 2023   Prob (F-statistic):           4.41e-17\n",
       "Time:                        17:25:27   Log-Likelihood:                -13771.\n",
       "No. Observations:                1436   AIC:                         2.755e+04\n",
       "Df Residuals:                    1434   BIC:                         2.756e+04\n",
       "Df Model:                           1                                         \n",
       "Covariance Type:            nonrobust                                         \n",
       "=================================================================================\n",
       "                    coef    std err          t      P>|t|      [0.025      0.975]\n",
       "---------------------------------------------------------------------------------\n",
       "Intercept      9046.7382    218.889     41.330      0.000    8617.362    9476.115\n",
       "Quarterly_Tax    19.3301      2.272      8.507      0.000      14.873      23.787\n",
       "==============================================================================\n",
       "Omnibus:                      369.212   Durbin-Watson:                   0.276\n",
       "Prob(Omnibus):                  0.000   Jarque-Bera (JB):              843.513\n",
       "Skew:                           1.417   Prob(JB):                    6.82e-184\n",
       "Kurtosis:                       5.462   Cond. No.                         226.\n",
       "==============================================================================\n",
       "\n",
       "Warnings:\n",
       "[1] Standard Errors assume that the covariance matrix of the errors is correctly specified.\n",
       "\"\"\""
      ]
     },
     "execution_count": 27,
     "metadata": {},
     "output_type": "execute_result"
    }
   ],
   "source": [
    "formula = 'Price ~ Quarterly_Tax'\n",
    "model = smf.ols(formula, data=df).fit()\n",
    "model.summary()"
   ]
  },
  {
   "cell_type": "code",
   "execution_count": 28,
   "metadata": {},
   "outputs": [
    {
     "data": {
      "text/html": [
       "<div>\n",
       "<style scoped>\n",
       "    .dataframe tbody tr th:only-of-type {\n",
       "        vertical-align: middle;\n",
       "    }\n",
       "\n",
       "    .dataframe tbody tr th {\n",
       "        vertical-align: top;\n",
       "    }\n",
       "\n",
       "    .dataframe thead th {\n",
       "        text-align: right;\n",
       "    }\n",
       "</style>\n",
       "<table border=\"1\" class=\"dataframe\">\n",
       "  <thead>\n",
       "    <tr style=\"text-align: right;\">\n",
       "      <th></th>\n",
       "      <th>Name</th>\n",
       "      <th>Adjusted_Rsquare</th>\n",
       "    </tr>\n",
       "  </thead>\n",
       "  <tbody>\n",
       "    <tr>\n",
       "      <th>0</th>\n",
       "      <td>Price ~ Age_08_04</td>\n",
       "      <td>76.824940</td>\n",
       "    </tr>\n",
       "    <tr>\n",
       "      <th>1</th>\n",
       "      <td>Price ~ Weight</td>\n",
       "      <td>33.732885</td>\n",
       "    </tr>\n",
       "    <tr>\n",
       "      <th>2</th>\n",
       "      <td>Price ~ KM</td>\n",
       "      <td>32.438378</td>\n",
       "    </tr>\n",
       "    <tr>\n",
       "      <th>3</th>\n",
       "      <td>Price ~ HP</td>\n",
       "      <td>9.859043</td>\n",
       "    </tr>\n",
       "    <tr>\n",
       "      <th>4</th>\n",
       "      <td>Price ~ Quarterly_Tax</td>\n",
       "      <td>4.738344</td>\n",
       "    </tr>\n",
       "  </tbody>\n",
       "</table>\n",
       "</div>"
      ],
      "text/plain": [
       "                    Name  Adjusted_Rsquare\n",
       "0      Price ~ Age_08_04         76.824940\n",
       "1         Price ~ Weight         33.732885\n",
       "2             Price ~ KM         32.438378\n",
       "3             Price ~ HP          9.859043\n",
       "4  Price ~ Quarterly_Tax          4.738344"
      ]
     },
     "execution_count": 28,
     "metadata": {},
     "output_type": "execute_result"
    }
   ],
   "source": [
    "individual_rsquared_adj = individual_rsquared_adj.append({'Name' : formula, 'Adjusted_Rsquare': model.rsquared_adj*100}, ignore_index = True)\n",
    "individual_rsquared_adj"
   ]
  },
  {
   "cell_type": "markdown",
   "metadata": {},
   "source": [
    "# Price ~ Doors (0.034)"
   ]
  },
  {
   "cell_type": "code",
   "execution_count": 29,
   "metadata": {},
   "outputs": [
    {
     "data": {
      "text/html": [
       "<table class=\"simpletable\">\n",
       "<caption>OLS Regression Results</caption>\n",
       "<tr>\n",
       "  <th>Dep. Variable:</th>          <td>Price</td>      <th>  R-squared:         </th> <td>   0.034</td> \n",
       "</tr>\n",
       "<tr>\n",
       "  <th>Model:</th>                   <td>OLS</td>       <th>  Adj. R-squared:    </th> <td>   0.034</td> \n",
       "</tr>\n",
       "<tr>\n",
       "  <th>Method:</th>             <td>Least Squares</td>  <th>  F-statistic:       </th> <td>   51.00</td> \n",
       "</tr>\n",
       "<tr>\n",
       "  <th>Date:</th>             <td>Wed, 11 Oct 2023</td> <th>  Prob (F-statistic):</th> <td>1.46e-12</td> \n",
       "</tr>\n",
       "<tr>\n",
       "  <th>Time:</th>                 <td>17:25:27</td>     <th>  Log-Likelihood:    </th> <td> -13782.</td> \n",
       "</tr>\n",
       "<tr>\n",
       "  <th>No. Observations:</th>      <td>  1436</td>      <th>  AIC:               </th> <td>2.757e+04</td>\n",
       "</tr>\n",
       "<tr>\n",
       "  <th>Df Residuals:</th>          <td>  1434</td>      <th>  BIC:               </th> <td>2.758e+04</td>\n",
       "</tr>\n",
       "<tr>\n",
       "  <th>Df Model:</th>              <td>     1</td>      <th>                     </th>     <td> </td>    \n",
       "</tr>\n",
       "<tr>\n",
       "  <th>Covariance Type:</th>      <td>nonrobust</td>    <th>                     </th>     <td> </td>    \n",
       "</tr>\n",
       "</table>\n",
       "<table class=\"simpletable\">\n",
       "<tr>\n",
       "      <td></td>         <th>coef</th>     <th>std err</th>      <th>t</th>      <th>P>|t|</th>  <th>[0.025</th>    <th>0.975]</th>  \n",
       "</tr>\n",
       "<tr>\n",
       "  <th>Intercept</th> <td> 7885.0058</td> <td>  409.438</td> <td>   19.258</td> <td> 0.000</td> <td> 7081.843</td> <td> 8688.168</td>\n",
       "</tr>\n",
       "<tr>\n",
       "  <th>Doors</th>     <td>  705.5586</td> <td>   98.795</td> <td>    7.142</td> <td> 0.000</td> <td>  511.761</td> <td>  899.356</td>\n",
       "</tr>\n",
       "</table>\n",
       "<table class=\"simpletable\">\n",
       "<tr>\n",
       "  <th>Omnibus:</th>       <td>466.779</td> <th>  Durbin-Watson:     </th> <td>   0.287</td> \n",
       "</tr>\n",
       "<tr>\n",
       "  <th>Prob(Omnibus):</th> <td> 0.000</td>  <th>  Jarque-Bera (JB):  </th> <td>1406.209</td> \n",
       "</tr>\n",
       "<tr>\n",
       "  <th>Skew:</th>          <td> 1.651</td>  <th>  Prob(JB):          </th> <td>4.42e-306</td>\n",
       "</tr>\n",
       "<tr>\n",
       "  <th>Kurtosis:</th>      <td> 6.549</td>  <th>  Cond. No.          </th> <td>    19.0</td> \n",
       "</tr>\n",
       "</table><br/><br/>Warnings:<br/>[1] Standard Errors assume that the covariance matrix of the errors is correctly specified."
      ],
      "text/plain": [
       "<class 'statsmodels.iolib.summary.Summary'>\n",
       "\"\"\"\n",
       "                            OLS Regression Results                            \n",
       "==============================================================================\n",
       "Dep. Variable:                  Price   R-squared:                       0.034\n",
       "Model:                            OLS   Adj. R-squared:                  0.034\n",
       "Method:                 Least Squares   F-statistic:                     51.00\n",
       "Date:                Wed, 11 Oct 2023   Prob (F-statistic):           1.46e-12\n",
       "Time:                        17:25:27   Log-Likelihood:                -13782.\n",
       "No. Observations:                1436   AIC:                         2.757e+04\n",
       "Df Residuals:                    1434   BIC:                         2.758e+04\n",
       "Df Model:                           1                                         \n",
       "Covariance Type:            nonrobust                                         \n",
       "==============================================================================\n",
       "                 coef    std err          t      P>|t|      [0.025      0.975]\n",
       "------------------------------------------------------------------------------\n",
       "Intercept   7885.0058    409.438     19.258      0.000    7081.843    8688.168\n",
       "Doors        705.5586     98.795      7.142      0.000     511.761     899.356\n",
       "==============================================================================\n",
       "Omnibus:                      466.779   Durbin-Watson:                   0.287\n",
       "Prob(Omnibus):                  0.000   Jarque-Bera (JB):             1406.209\n",
       "Skew:                           1.651   Prob(JB):                    4.42e-306\n",
       "Kurtosis:                       6.549   Cond. No.                         19.0\n",
       "==============================================================================\n",
       "\n",
       "Warnings:\n",
       "[1] Standard Errors assume that the covariance matrix of the errors is correctly specified.\n",
       "\"\"\""
      ]
     },
     "execution_count": 29,
     "metadata": {},
     "output_type": "execute_result"
    }
   ],
   "source": [
    "formula = 'Price ~ Doors'\n",
    "model = smf.ols(formula, data=df).fit()\n",
    "model.summary()"
   ]
  },
  {
   "cell_type": "code",
   "execution_count": 30,
   "metadata": {},
   "outputs": [
    {
     "data": {
      "text/html": [
       "<div>\n",
       "<style scoped>\n",
       "    .dataframe tbody tr th:only-of-type {\n",
       "        vertical-align: middle;\n",
       "    }\n",
       "\n",
       "    .dataframe tbody tr th {\n",
       "        vertical-align: top;\n",
       "    }\n",
       "\n",
       "    .dataframe thead th {\n",
       "        text-align: right;\n",
       "    }\n",
       "</style>\n",
       "<table border=\"1\" class=\"dataframe\">\n",
       "  <thead>\n",
       "    <tr style=\"text-align: right;\">\n",
       "      <th></th>\n",
       "      <th>Name</th>\n",
       "      <th>Adjusted_Rsquare</th>\n",
       "    </tr>\n",
       "  </thead>\n",
       "  <tbody>\n",
       "    <tr>\n",
       "      <th>0</th>\n",
       "      <td>Price ~ Age_08_04</td>\n",
       "      <td>76.824940</td>\n",
       "    </tr>\n",
       "    <tr>\n",
       "      <th>1</th>\n",
       "      <td>Price ~ Weight</td>\n",
       "      <td>33.732885</td>\n",
       "    </tr>\n",
       "    <tr>\n",
       "      <th>2</th>\n",
       "      <td>Price ~ KM</td>\n",
       "      <td>32.438378</td>\n",
       "    </tr>\n",
       "    <tr>\n",
       "      <th>3</th>\n",
       "      <td>Price ~ HP</td>\n",
       "      <td>9.859043</td>\n",
       "    </tr>\n",
       "    <tr>\n",
       "      <th>4</th>\n",
       "      <td>Price ~ Quarterly_Tax</td>\n",
       "      <td>4.738344</td>\n",
       "    </tr>\n",
       "    <tr>\n",
       "      <th>5</th>\n",
       "      <td>Price ~ Doors</td>\n",
       "      <td>3.367216</td>\n",
       "    </tr>\n",
       "  </tbody>\n",
       "</table>\n",
       "</div>"
      ],
      "text/plain": [
       "                    Name  Adjusted_Rsquare\n",
       "0      Price ~ Age_08_04         76.824940\n",
       "1         Price ~ Weight         33.732885\n",
       "2             Price ~ KM         32.438378\n",
       "3             Price ~ HP          9.859043\n",
       "4  Price ~ Quarterly_Tax          4.738344\n",
       "5          Price ~ Doors          3.367216"
      ]
     },
     "execution_count": 30,
     "metadata": {},
     "output_type": "execute_result"
    }
   ],
   "source": [
    "individual_rsquared_adj = individual_rsquared_adj.append({'Name' : formula, 'Adjusted_Rsquare': model.rsquared_adj*100}, ignore_index = True)\n",
    "individual_rsquared_adj"
   ]
  },
  {
   "cell_type": "markdown",
   "metadata": {},
   "source": [
    "# Price ~ cc (0.015)"
   ]
  },
  {
   "cell_type": "code",
   "execution_count": 31,
   "metadata": {},
   "outputs": [
    {
     "data": {
      "text/html": [
       "<table class=\"simpletable\">\n",
       "<caption>OLS Regression Results</caption>\n",
       "<tr>\n",
       "  <th>Dep. Variable:</th>          <td>Price</td>      <th>  R-squared:         </th> <td>   0.016</td> \n",
       "</tr>\n",
       "<tr>\n",
       "  <th>Model:</th>                   <td>OLS</td>       <th>  Adj. R-squared:    </th> <td>   0.015</td> \n",
       "</tr>\n",
       "<tr>\n",
       "  <th>Method:</th>             <td>Least Squares</td>  <th>  F-statistic:       </th> <td>   23.28</td> \n",
       "</tr>\n",
       "<tr>\n",
       "  <th>Date:</th>             <td>Wed, 11 Oct 2023</td> <th>  Prob (F-statistic):</th> <td>1.55e-06</td> \n",
       "</tr>\n",
       "<tr>\n",
       "  <th>Time:</th>                 <td>17:25:27</td>     <th>  Log-Likelihood:    </th> <td> -13795.</td> \n",
       "</tr>\n",
       "<tr>\n",
       "  <th>No. Observations:</th>      <td>  1436</td>      <th>  AIC:               </th> <td>2.759e+04</td>\n",
       "</tr>\n",
       "<tr>\n",
       "  <th>Df Residuals:</th>          <td>  1434</td>      <th>  BIC:               </th> <td>2.760e+04</td>\n",
       "</tr>\n",
       "<tr>\n",
       "  <th>Df Model:</th>              <td>     1</td>      <th>                     </th>     <td> </td>    \n",
       "</tr>\n",
       "<tr>\n",
       "  <th>Covariance Type:</th>      <td>nonrobust</td>    <th>                     </th>     <td> </td>    \n",
       "</tr>\n",
       "</table>\n",
       "<table class=\"simpletable\">\n",
       "<tr>\n",
       "      <td></td>         <th>coef</th>     <th>std err</th>      <th>t</th>      <th>P>|t|</th>  <th>[0.025</th>    <th>0.975]</th>  \n",
       "</tr>\n",
       "<tr>\n",
       "  <th>Intercept</th> <td> 9027.5548</td> <td>  365.576</td> <td>   24.694</td> <td> 0.000</td> <td> 8310.435</td> <td> 9744.675</td>\n",
       "</tr>\n",
       "<tr>\n",
       "  <th>cc</th>        <td>    1.0802</td> <td>    0.224</td> <td>    4.825</td> <td> 0.000</td> <td>    0.641</td> <td>    1.519</td>\n",
       "</tr>\n",
       "</table>\n",
       "<table class=\"simpletable\">\n",
       "<tr>\n",
       "  <th>Omnibus:</th>       <td>465.181</td> <th>  Durbin-Watson:     </th> <td>   0.267</td> \n",
       "</tr>\n",
       "<tr>\n",
       "  <th>Prob(Omnibus):</th> <td> 0.000</td>  <th>  Jarque-Bera (JB):  </th> <td>1390.401</td> \n",
       "</tr>\n",
       "<tr>\n",
       "  <th>Skew:</th>          <td> 1.649</td>  <th>  Prob(JB):          </th> <td>1.20e-302</td>\n",
       "</tr>\n",
       "<tr>\n",
       "  <th>Kurtosis:</th>      <td> 6.516</td>  <th>  Cond. No.          </th> <td>6.29e+03</td> \n",
       "</tr>\n",
       "</table><br/><br/>Warnings:<br/>[1] Standard Errors assume that the covariance matrix of the errors is correctly specified.<br/>[2] The condition number is large, 6.29e+03. This might indicate that there are<br/>strong multicollinearity or other numerical problems."
      ],
      "text/plain": [
       "<class 'statsmodels.iolib.summary.Summary'>\n",
       "\"\"\"\n",
       "                            OLS Regression Results                            \n",
       "==============================================================================\n",
       "Dep. Variable:                  Price   R-squared:                       0.016\n",
       "Model:                            OLS   Adj. R-squared:                  0.015\n",
       "Method:                 Least Squares   F-statistic:                     23.28\n",
       "Date:                Wed, 11 Oct 2023   Prob (F-statistic):           1.55e-06\n",
       "Time:                        17:25:27   Log-Likelihood:                -13795.\n",
       "No. Observations:                1436   AIC:                         2.759e+04\n",
       "Df Residuals:                    1434   BIC:                         2.760e+04\n",
       "Df Model:                           1                                         \n",
       "Covariance Type:            nonrobust                                         \n",
       "==============================================================================\n",
       "                 coef    std err          t      P>|t|      [0.025      0.975]\n",
       "------------------------------------------------------------------------------\n",
       "Intercept   9027.5548    365.576     24.694      0.000    8310.435    9744.675\n",
       "cc             1.0802      0.224      4.825      0.000       0.641       1.519\n",
       "==============================================================================\n",
       "Omnibus:                      465.181   Durbin-Watson:                   0.267\n",
       "Prob(Omnibus):                  0.000   Jarque-Bera (JB):             1390.401\n",
       "Skew:                           1.649   Prob(JB):                    1.20e-302\n",
       "Kurtosis:                       6.516   Cond. No.                     6.29e+03\n",
       "==============================================================================\n",
       "\n",
       "Warnings:\n",
       "[1] Standard Errors assume that the covariance matrix of the errors is correctly specified.\n",
       "[2] The condition number is large, 6.29e+03. This might indicate that there are\n",
       "strong multicollinearity or other numerical problems.\n",
       "\"\"\""
      ]
     },
     "execution_count": 31,
     "metadata": {},
     "output_type": "execute_result"
    }
   ],
   "source": [
    "formula = 'Price ~ cc'\n",
    "model = smf.ols(formula, data=df).fit()\n",
    "model.summary()"
   ]
  },
  {
   "cell_type": "code",
   "execution_count": 32,
   "metadata": {},
   "outputs": [
    {
     "data": {
      "text/html": [
       "<div>\n",
       "<style scoped>\n",
       "    .dataframe tbody tr th:only-of-type {\n",
       "        vertical-align: middle;\n",
       "    }\n",
       "\n",
       "    .dataframe tbody tr th {\n",
       "        vertical-align: top;\n",
       "    }\n",
       "\n",
       "    .dataframe thead th {\n",
       "        text-align: right;\n",
       "    }\n",
       "</style>\n",
       "<table border=\"1\" class=\"dataframe\">\n",
       "  <thead>\n",
       "    <tr style=\"text-align: right;\">\n",
       "      <th></th>\n",
       "      <th>Name</th>\n",
       "      <th>Adjusted_Rsquare</th>\n",
       "    </tr>\n",
       "  </thead>\n",
       "  <tbody>\n",
       "    <tr>\n",
       "      <th>0</th>\n",
       "      <td>Price ~ Age_08_04</td>\n",
       "      <td>76.824940</td>\n",
       "    </tr>\n",
       "    <tr>\n",
       "      <th>1</th>\n",
       "      <td>Price ~ Weight</td>\n",
       "      <td>33.732885</td>\n",
       "    </tr>\n",
       "    <tr>\n",
       "      <th>2</th>\n",
       "      <td>Price ~ KM</td>\n",
       "      <td>32.438378</td>\n",
       "    </tr>\n",
       "    <tr>\n",
       "      <th>3</th>\n",
       "      <td>Price ~ HP</td>\n",
       "      <td>9.859043</td>\n",
       "    </tr>\n",
       "    <tr>\n",
       "      <th>4</th>\n",
       "      <td>Price ~ Quarterly_Tax</td>\n",
       "      <td>4.738344</td>\n",
       "    </tr>\n",
       "    <tr>\n",
       "      <th>5</th>\n",
       "      <td>Price ~ Doors</td>\n",
       "      <td>3.367216</td>\n",
       "    </tr>\n",
       "    <tr>\n",
       "      <th>6</th>\n",
       "      <td>Price ~ cc</td>\n",
       "      <td>1.528802</td>\n",
       "    </tr>\n",
       "  </tbody>\n",
       "</table>\n",
       "</div>"
      ],
      "text/plain": [
       "                    Name  Adjusted_Rsquare\n",
       "0      Price ~ Age_08_04         76.824940\n",
       "1         Price ~ Weight         33.732885\n",
       "2             Price ~ KM         32.438378\n",
       "3             Price ~ HP          9.859043\n",
       "4  Price ~ Quarterly_Tax          4.738344\n",
       "5          Price ~ Doors          3.367216\n",
       "6             Price ~ cc          1.528802"
      ]
     },
     "execution_count": 32,
     "metadata": {},
     "output_type": "execute_result"
    }
   ],
   "source": [
    "individual_rsquared_adj = individual_rsquared_adj.append({'Name' : formula, 'Adjusted_Rsquare': model.rsquared_adj*100}, ignore_index = True)\n",
    "individual_rsquared_adj"
   ]
  },
  {
   "cell_type": "markdown",
   "metadata": {},
   "source": [
    "# Price ~ Gears (0.003)"
   ]
  },
  {
   "cell_type": "code",
   "execution_count": 33,
   "metadata": {},
   "outputs": [
    {
     "data": {
      "text/html": [
       "<table class=\"simpletable\">\n",
       "<caption>OLS Regression Results</caption>\n",
       "<tr>\n",
       "  <th>Dep. Variable:</th>          <td>Price</td>      <th>  R-squared:         </th> <td>   0.004</td> \n",
       "</tr>\n",
       "<tr>\n",
       "  <th>Model:</th>                   <td>OLS</td>       <th>  Adj. R-squared:    </th> <td>   0.003</td> \n",
       "</tr>\n",
       "<tr>\n",
       "  <th>Method:</th>             <td>Least Squares</td>  <th>  F-statistic:       </th> <td>   5.733</td> \n",
       "</tr>\n",
       "<tr>\n",
       "  <th>Date:</th>             <td>Wed, 11 Oct 2023</td> <th>  Prob (F-statistic):</th>  <td>0.0168</td>  \n",
       "</tr>\n",
       "<tr>\n",
       "  <th>Time:</th>                 <td>17:25:27</td>     <th>  Log-Likelihood:    </th> <td> -13804.</td> \n",
       "</tr>\n",
       "<tr>\n",
       "  <th>No. Observations:</th>      <td>  1436</td>      <th>  AIC:               </th> <td>2.761e+04</td>\n",
       "</tr>\n",
       "<tr>\n",
       "  <th>Df Residuals:</th>          <td>  1434</td>      <th>  BIC:               </th> <td>2.762e+04</td>\n",
       "</tr>\n",
       "<tr>\n",
       "  <th>Df Model:</th>              <td>     1</td>      <th>                     </th>     <td> </td>    \n",
       "</tr>\n",
       "<tr>\n",
       "  <th>Covariance Type:</th>      <td>nonrobust</td>    <th>                     </th>     <td> </td>    \n",
       "</tr>\n",
       "</table>\n",
       "<table class=\"simpletable\">\n",
       "<tr>\n",
       "      <td></td>         <th>coef</th>     <th>std err</th>      <th>t</th>      <th>P>|t|</th>  <th>[0.025</th>    <th>0.975]</th>  \n",
       "</tr>\n",
       "<tr>\n",
       "  <th>Intercept</th> <td> 4628.0652</td> <td> 2550.553</td> <td>    1.815</td> <td> 0.070</td> <td> -375.149</td> <td> 9631.280</td>\n",
       "</tr>\n",
       "<tr>\n",
       "  <th>Gears</th>     <td> 1214.1261</td> <td>  507.069</td> <td>    2.394</td> <td> 0.017</td> <td>  219.450</td> <td> 2208.802</td>\n",
       "</tr>\n",
       "</table>\n",
       "<table class=\"simpletable\">\n",
       "<tr>\n",
       "  <th>Omnibus:</th>       <td>483.564</td> <th>  Durbin-Watson:     </th> <td>   0.260</td>\n",
       "</tr>\n",
       "<tr>\n",
       "  <th>Prob(Omnibus):</th> <td> 0.000</td>  <th>  Jarque-Bera (JB):  </th> <td>1509.458</td>\n",
       "</tr>\n",
       "<tr>\n",
       "  <th>Skew:</th>          <td> 1.698</td>  <th>  Prob(JB):          </th> <td>    0.00</td>\n",
       "</tr>\n",
       "<tr>\n",
       "  <th>Kurtosis:</th>      <td> 6.700</td>  <th>  Cond. No.          </th> <td>    140.</td>\n",
       "</tr>\n",
       "</table><br/><br/>Warnings:<br/>[1] Standard Errors assume that the covariance matrix of the errors is correctly specified."
      ],
      "text/plain": [
       "<class 'statsmodels.iolib.summary.Summary'>\n",
       "\"\"\"\n",
       "                            OLS Regression Results                            \n",
       "==============================================================================\n",
       "Dep. Variable:                  Price   R-squared:                       0.004\n",
       "Model:                            OLS   Adj. R-squared:                  0.003\n",
       "Method:                 Least Squares   F-statistic:                     5.733\n",
       "Date:                Wed, 11 Oct 2023   Prob (F-statistic):             0.0168\n",
       "Time:                        17:25:27   Log-Likelihood:                -13804.\n",
       "No. Observations:                1436   AIC:                         2.761e+04\n",
       "Df Residuals:                    1434   BIC:                         2.762e+04\n",
       "Df Model:                           1                                         \n",
       "Covariance Type:            nonrobust                                         \n",
       "==============================================================================\n",
       "                 coef    std err          t      P>|t|      [0.025      0.975]\n",
       "------------------------------------------------------------------------------\n",
       "Intercept   4628.0652   2550.553      1.815      0.070    -375.149    9631.280\n",
       "Gears       1214.1261    507.069      2.394      0.017     219.450    2208.802\n",
       "==============================================================================\n",
       "Omnibus:                      483.564   Durbin-Watson:                   0.260\n",
       "Prob(Omnibus):                  0.000   Jarque-Bera (JB):             1509.458\n",
       "Skew:                           1.698   Prob(JB):                         0.00\n",
       "Kurtosis:                       6.700   Cond. No.                         140.\n",
       "==============================================================================\n",
       "\n",
       "Warnings:\n",
       "[1] Standard Errors assume that the covariance matrix of the errors is correctly specified.\n",
       "\"\"\""
      ]
     },
     "execution_count": 33,
     "metadata": {},
     "output_type": "execute_result"
    }
   ],
   "source": [
    "formula = 'Price ~ Gears'\n",
    "model = smf.ols(formula, data=df).fit()\n",
    "model.summary()"
   ]
  },
  {
   "cell_type": "code",
   "execution_count": 34,
   "metadata": {},
   "outputs": [
    {
     "data": {
      "text/html": [
       "<div>\n",
       "<style scoped>\n",
       "    .dataframe tbody tr th:only-of-type {\n",
       "        vertical-align: middle;\n",
       "    }\n",
       "\n",
       "    .dataframe tbody tr th {\n",
       "        vertical-align: top;\n",
       "    }\n",
       "\n",
       "    .dataframe thead th {\n",
       "        text-align: right;\n",
       "    }\n",
       "</style>\n",
       "<table border=\"1\" class=\"dataframe\">\n",
       "  <thead>\n",
       "    <tr style=\"text-align: right;\">\n",
       "      <th></th>\n",
       "      <th>Name</th>\n",
       "      <th>Adjusted_Rsquare</th>\n",
       "    </tr>\n",
       "  </thead>\n",
       "  <tbody>\n",
       "    <tr>\n",
       "      <th>0</th>\n",
       "      <td>Price ~ Age_08_04</td>\n",
       "      <td>76.824940</td>\n",
       "    </tr>\n",
       "    <tr>\n",
       "      <th>1</th>\n",
       "      <td>Price ~ Weight</td>\n",
       "      <td>33.732885</td>\n",
       "    </tr>\n",
       "    <tr>\n",
       "      <th>2</th>\n",
       "      <td>Price ~ KM</td>\n",
       "      <td>32.438378</td>\n",
       "    </tr>\n",
       "    <tr>\n",
       "      <th>3</th>\n",
       "      <td>Price ~ HP</td>\n",
       "      <td>9.859043</td>\n",
       "    </tr>\n",
       "    <tr>\n",
       "      <th>4</th>\n",
       "      <td>Price ~ Quarterly_Tax</td>\n",
       "      <td>4.738344</td>\n",
       "    </tr>\n",
       "    <tr>\n",
       "      <th>5</th>\n",
       "      <td>Price ~ Doors</td>\n",
       "      <td>3.367216</td>\n",
       "    </tr>\n",
       "    <tr>\n",
       "      <th>6</th>\n",
       "      <td>Price ~ cc</td>\n",
       "      <td>1.528802</td>\n",
       "    </tr>\n",
       "    <tr>\n",
       "      <th>7</th>\n",
       "      <td>Price ~ Gears</td>\n",
       "      <td>0.328752</td>\n",
       "    </tr>\n",
       "  </tbody>\n",
       "</table>\n",
       "</div>"
      ],
      "text/plain": [
       "                    Name  Adjusted_Rsquare\n",
       "0      Price ~ Age_08_04         76.824940\n",
       "1         Price ~ Weight         33.732885\n",
       "2             Price ~ KM         32.438378\n",
       "3             Price ~ HP          9.859043\n",
       "4  Price ~ Quarterly_Tax          4.738344\n",
       "5          Price ~ Doors          3.367216\n",
       "6             Price ~ cc          1.528802\n",
       "7          Price ~ Gears          0.328752"
      ]
     },
     "execution_count": 34,
     "metadata": {},
     "output_type": "execute_result"
    }
   ],
   "source": [
    "individual_rsquared_adj = individual_rsquared_adj.append({'Name' : formula, 'Adjusted_Rsquare': model.rsquared_adj*100}, ignore_index = True)\n",
    "individual_rsquared_adj"
   ]
  },
  {
   "cell_type": "markdown",
   "metadata": {},
   "source": [
    "### Lets see top 3 Positively or Negatively correlated columns to the Price Column(Target or Dependent)"
   ]
  },
  {
   "cell_type": "code",
   "execution_count": 35,
   "metadata": {},
   "outputs": [],
   "source": [
    "## 'Price ~ Age_08_04 + Weight + KM' - 0.848"
   ]
  },
  {
   "cell_type": "code",
   "execution_count": 36,
   "metadata": {},
   "outputs": [
    {
     "data": {
      "text/html": [
       "<table class=\"simpletable\">\n",
       "<caption>OLS Regression Results</caption>\n",
       "<tr>\n",
       "  <th>Dep. Variable:</th>          <td>Price</td>      <th>  R-squared:         </th> <td>   0.848</td> \n",
       "</tr>\n",
       "<tr>\n",
       "  <th>Model:</th>                   <td>OLS</td>       <th>  Adj. R-squared:    </th> <td>   0.848</td> \n",
       "</tr>\n",
       "<tr>\n",
       "  <th>Method:</th>             <td>Least Squares</td>  <th>  F-statistic:       </th> <td>   2665.</td> \n",
       "</tr>\n",
       "<tr>\n",
       "  <th>Date:</th>             <td>Wed, 11 Oct 2023</td> <th>  Prob (F-statistic):</th>  <td>  0.00</td>  \n",
       "</tr>\n",
       "<tr>\n",
       "  <th>Time:</th>                 <td>17:25:27</td>     <th>  Log-Likelihood:    </th> <td> -12454.</td> \n",
       "</tr>\n",
       "<tr>\n",
       "  <th>No. Observations:</th>      <td>  1436</td>      <th>  AIC:               </th> <td>2.492e+04</td>\n",
       "</tr>\n",
       "<tr>\n",
       "  <th>Df Residuals:</th>          <td>  1432</td>      <th>  BIC:               </th> <td>2.494e+04</td>\n",
       "</tr>\n",
       "<tr>\n",
       "  <th>Df Model:</th>              <td>     3</td>      <th>                     </th>     <td> </td>    \n",
       "</tr>\n",
       "<tr>\n",
       "  <th>Covariance Type:</th>      <td>nonrobust</td>    <th>                     </th>     <td> </td>    \n",
       "</tr>\n",
       "</table>\n",
       "<table class=\"simpletable\">\n",
       "<tr>\n",
       "      <td></td>         <th>coef</th>     <th>std err</th>      <th>t</th>      <th>P>|t|</th>  <th>[0.025</th>    <th>0.975]</th>  \n",
       "</tr>\n",
       "<tr>\n",
       "  <th>Intercept</th> <td>-1880.3356</td> <td>  962.718</td> <td>   -1.953</td> <td> 0.051</td> <td>-3768.825</td> <td>    8.153</td>\n",
       "</tr>\n",
       "<tr>\n",
       "  <th>Age_08_04</th> <td> -120.2212</td> <td>    2.742</td> <td>  -43.841</td> <td> 0.000</td> <td> -125.600</td> <td> -114.842</td>\n",
       "</tr>\n",
       "<tr>\n",
       "  <th>Weight</th>    <td>   19.5760</td> <td>    0.836</td> <td>   23.409</td> <td> 0.000</td> <td>   17.936</td> <td>   21.216</td>\n",
       "</tr>\n",
       "<tr>\n",
       "  <th>KM</th>        <td>   -0.0242</td> <td>    0.001</td> <td>  -20.142</td> <td> 0.000</td> <td>   -0.027</td> <td>   -0.022</td>\n",
       "</tr>\n",
       "</table>\n",
       "<table class=\"simpletable\">\n",
       "<tr>\n",
       "  <th>Omnibus:</th>       <td>221.061</td> <th>  Durbin-Watson:     </th> <td>   1.523</td>\n",
       "</tr>\n",
       "<tr>\n",
       "  <th>Prob(Omnibus):</th> <td> 0.000</td>  <th>  Jarque-Bera (JB):  </th> <td>2197.082</td>\n",
       "</tr>\n",
       "<tr>\n",
       "  <th>Skew:</th>          <td>-0.373</td>  <th>  Prob(JB):          </th> <td>    0.00</td>\n",
       "</tr>\n",
       "<tr>\n",
       "  <th>Kurtosis:</th>      <td> 9.013</td>  <th>  Cond. No.          </th> <td>2.01e+06</td>\n",
       "</tr>\n",
       "</table><br/><br/>Warnings:<br/>[1] Standard Errors assume that the covariance matrix of the errors is correctly specified.<br/>[2] The condition number is large, 2.01e+06. This might indicate that there are<br/>strong multicollinearity or other numerical problems."
      ],
      "text/plain": [
       "<class 'statsmodels.iolib.summary.Summary'>\n",
       "\"\"\"\n",
       "                            OLS Regression Results                            \n",
       "==============================================================================\n",
       "Dep. Variable:                  Price   R-squared:                       0.848\n",
       "Model:                            OLS   Adj. R-squared:                  0.848\n",
       "Method:                 Least Squares   F-statistic:                     2665.\n",
       "Date:                Wed, 11 Oct 2023   Prob (F-statistic):               0.00\n",
       "Time:                        17:25:27   Log-Likelihood:                -12454.\n",
       "No. Observations:                1436   AIC:                         2.492e+04\n",
       "Df Residuals:                    1432   BIC:                         2.494e+04\n",
       "Df Model:                           3                                         \n",
       "Covariance Type:            nonrobust                                         \n",
       "==============================================================================\n",
       "                 coef    std err          t      P>|t|      [0.025      0.975]\n",
       "------------------------------------------------------------------------------\n",
       "Intercept  -1880.3356    962.718     -1.953      0.051   -3768.825       8.153\n",
       "Age_08_04   -120.2212      2.742    -43.841      0.000    -125.600    -114.842\n",
       "Weight        19.5760      0.836     23.409      0.000      17.936      21.216\n",
       "KM            -0.0242      0.001    -20.142      0.000      -0.027      -0.022\n",
       "==============================================================================\n",
       "Omnibus:                      221.061   Durbin-Watson:                   1.523\n",
       "Prob(Omnibus):                  0.000   Jarque-Bera (JB):             2197.082\n",
       "Skew:                          -0.373   Prob(JB):                         0.00\n",
       "Kurtosis:                       9.013   Cond. No.                     2.01e+06\n",
       "==============================================================================\n",
       "\n",
       "Warnings:\n",
       "[1] Standard Errors assume that the covariance matrix of the errors is correctly specified.\n",
       "[2] The condition number is large, 2.01e+06. This might indicate that there are\n",
       "strong multicollinearity or other numerical problems.\n",
       "\"\"\""
      ]
     },
     "execution_count": 36,
     "metadata": {},
     "output_type": "execute_result"
    }
   ],
   "source": [
    "formula = 'Price ~ Age_08_04 + Weight + KM'\n",
    "model = smf.ols(formula, data=df).fit()\n",
    "model.summary()"
   ]
  },
  {
   "cell_type": "markdown",
   "metadata": {},
   "source": [
    "## 'Price ~ Age_08_04 + Weight + KM + HP' - 0.861"
   ]
  },
  {
   "cell_type": "code",
   "execution_count": 37,
   "metadata": {},
   "outputs": [
    {
     "data": {
      "text/html": [
       "<table class=\"simpletable\">\n",
       "<caption>OLS Regression Results</caption>\n",
       "<tr>\n",
       "  <th>Dep. Variable:</th>          <td>Price</td>      <th>  R-squared:         </th> <td>   0.862</td> \n",
       "</tr>\n",
       "<tr>\n",
       "  <th>Model:</th>                   <td>OLS</td>       <th>  Adj. R-squared:    </th> <td>   0.861</td> \n",
       "</tr>\n",
       "<tr>\n",
       "  <th>Method:</th>             <td>Least Squares</td>  <th>  F-statistic:       </th> <td>   2230.</td> \n",
       "</tr>\n",
       "<tr>\n",
       "  <th>Date:</th>             <td>Wed, 11 Oct 2023</td> <th>  Prob (F-statistic):</th>  <td>  0.00</td>  \n",
       "</tr>\n",
       "<tr>\n",
       "  <th>Time:</th>                 <td>17:25:27</td>     <th>  Log-Likelihood:    </th> <td> -12386.</td> \n",
       "</tr>\n",
       "<tr>\n",
       "  <th>No. Observations:</th>      <td>  1436</td>      <th>  AIC:               </th> <td>2.478e+04</td>\n",
       "</tr>\n",
       "<tr>\n",
       "  <th>Df Residuals:</th>          <td>  1431</td>      <th>  BIC:               </th> <td>2.481e+04</td>\n",
       "</tr>\n",
       "<tr>\n",
       "  <th>Df Model:</th>              <td>     4</td>      <th>                     </th>     <td> </td>    \n",
       "</tr>\n",
       "<tr>\n",
       "  <th>Covariance Type:</th>      <td>nonrobust</td>    <th>                     </th>     <td> </td>    \n",
       "</tr>\n",
       "</table>\n",
       "<table class=\"simpletable\">\n",
       "<tr>\n",
       "      <td></td>         <th>coef</th>     <th>std err</th>      <th>t</th>      <th>P>|t|</th>  <th>[0.025</th>    <th>0.975]</th>  \n",
       "</tr>\n",
       "<tr>\n",
       "  <th>Intercept</th> <td>-4014.6418</td> <td>  936.044</td> <td>   -4.289</td> <td> 0.000</td> <td>-5850.808</td> <td>-2178.476</td>\n",
       "</tr>\n",
       "<tr>\n",
       "  <th>Age_08_04</th> <td> -122.4245</td> <td>    2.623</td> <td>  -46.668</td> <td> 0.000</td> <td> -127.570</td> <td> -117.278</td>\n",
       "</tr>\n",
       "<tr>\n",
       "  <th>Weight</th>    <td>   18.5319</td> <td>    0.803</td> <td>   23.084</td> <td> 0.000</td> <td>   16.957</td> <td>   20.107</td>\n",
       "</tr>\n",
       "<tr>\n",
       "  <th>KM</th>        <td>   -0.0196</td> <td>    0.001</td> <td>  -16.271</td> <td> 0.000</td> <td>   -0.022</td> <td>   -0.017</td>\n",
       "</tr>\n",
       "<tr>\n",
       "  <th>HP</th>        <td>   30.2119</td> <td>    2.539</td> <td>   11.897</td> <td> 0.000</td> <td>   25.230</td> <td>   35.193</td>\n",
       "</tr>\n",
       "</table>\n",
       "<table class=\"simpletable\">\n",
       "<tr>\n",
       "  <th>Omnibus:</th>       <td>197.115</td> <th>  Durbin-Watson:     </th> <td>   1.570</td>\n",
       "</tr>\n",
       "<tr>\n",
       "  <th>Prob(Omnibus):</th> <td> 0.000</td>  <th>  Jarque-Bera (JB):  </th> <td>1498.712</td>\n",
       "</tr>\n",
       "<tr>\n",
       "  <th>Skew:</th>          <td>-0.384</td>  <th>  Prob(JB):          </th> <td>    0.00</td>\n",
       "</tr>\n",
       "<tr>\n",
       "  <th>Kurtosis:</th>      <td> 7.946</td>  <th>  Cond. No.          </th> <td>2.05e+06</td>\n",
       "</tr>\n",
       "</table><br/><br/>Warnings:<br/>[1] Standard Errors assume that the covariance matrix of the errors is correctly specified.<br/>[2] The condition number is large, 2.05e+06. This might indicate that there are<br/>strong multicollinearity or other numerical problems."
      ],
      "text/plain": [
       "<class 'statsmodels.iolib.summary.Summary'>\n",
       "\"\"\"\n",
       "                            OLS Regression Results                            \n",
       "==============================================================================\n",
       "Dep. Variable:                  Price   R-squared:                       0.862\n",
       "Model:                            OLS   Adj. R-squared:                  0.861\n",
       "Method:                 Least Squares   F-statistic:                     2230.\n",
       "Date:                Wed, 11 Oct 2023   Prob (F-statistic):               0.00\n",
       "Time:                        17:25:27   Log-Likelihood:                -12386.\n",
       "No. Observations:                1436   AIC:                         2.478e+04\n",
       "Df Residuals:                    1431   BIC:                         2.481e+04\n",
       "Df Model:                           4                                         \n",
       "Covariance Type:            nonrobust                                         \n",
       "==============================================================================\n",
       "                 coef    std err          t      P>|t|      [0.025      0.975]\n",
       "------------------------------------------------------------------------------\n",
       "Intercept  -4014.6418    936.044     -4.289      0.000   -5850.808   -2178.476\n",
       "Age_08_04   -122.4245      2.623    -46.668      0.000    -127.570    -117.278\n",
       "Weight        18.5319      0.803     23.084      0.000      16.957      20.107\n",
       "KM            -0.0196      0.001    -16.271      0.000      -0.022      -0.017\n",
       "HP            30.2119      2.539     11.897      0.000      25.230      35.193\n",
       "==============================================================================\n",
       "Omnibus:                      197.115   Durbin-Watson:                   1.570\n",
       "Prob(Omnibus):                  0.000   Jarque-Bera (JB):             1498.712\n",
       "Skew:                          -0.384   Prob(JB):                         0.00\n",
       "Kurtosis:                       7.946   Cond. No.                     2.05e+06\n",
       "==============================================================================\n",
       "\n",
       "Warnings:\n",
       "[1] Standard Errors assume that the covariance matrix of the errors is correctly specified.\n",
       "[2] The condition number is large, 2.05e+06. This might indicate that there are\n",
       "strong multicollinearity or other numerical problems.\n",
       "\"\"\""
      ]
     },
     "execution_count": 37,
     "metadata": {},
     "output_type": "execute_result"
    }
   ],
   "source": [
    "formula = 'Price ~ Age_08_04 + Weight + KM + HP'\n",
    "model = smf.ols(formula, data=df).fit()\n",
    "model.summary()"
   ]
  },
  {
   "cell_type": "markdown",
   "metadata": {},
   "source": [
    "## 'Price ~ Age_08_04 + Weight + KM + HP + Quarterly_Tax' - 0.862"
   ]
  },
  {
   "cell_type": "code",
   "execution_count": 38,
   "metadata": {},
   "outputs": [
    {
     "data": {
      "text/html": [
       "<table class=\"simpletable\">\n",
       "<caption>OLS Regression Results</caption>\n",
       "<tr>\n",
       "  <th>Dep. Variable:</th>          <td>Price</td>      <th>  R-squared:         </th> <td>   0.863</td> \n",
       "</tr>\n",
       "<tr>\n",
       "  <th>Model:</th>                   <td>OLS</td>       <th>  Adj. R-squared:    </th> <td>   0.862</td> \n",
       "</tr>\n",
       "<tr>\n",
       "  <th>Method:</th>             <td>Least Squares</td>  <th>  F-statistic:       </th> <td>   1797.</td> \n",
       "</tr>\n",
       "<tr>\n",
       "  <th>Date:</th>             <td>Wed, 11 Oct 2023</td> <th>  Prob (F-statistic):</th>  <td>  0.00</td>  \n",
       "</tr>\n",
       "<tr>\n",
       "  <th>Time:</th>                 <td>17:25:27</td>     <th>  Log-Likelihood:    </th> <td> -12381.</td> \n",
       "</tr>\n",
       "<tr>\n",
       "  <th>No. Observations:</th>      <td>  1436</td>      <th>  AIC:               </th> <td>2.477e+04</td>\n",
       "</tr>\n",
       "<tr>\n",
       "  <th>Df Residuals:</th>          <td>  1430</td>      <th>  BIC:               </th> <td>2.481e+04</td>\n",
       "</tr>\n",
       "<tr>\n",
       "  <th>Df Model:</th>              <td>     5</td>      <th>                     </th>     <td> </td>    \n",
       "</tr>\n",
       "<tr>\n",
       "  <th>Covariance Type:</th>      <td>nonrobust</td>    <th>                     </th>     <td> </td>    \n",
       "</tr>\n",
       "</table>\n",
       "<table class=\"simpletable\">\n",
       "<tr>\n",
       "        <td></td>           <th>coef</th>     <th>std err</th>      <th>t</th>      <th>P>|t|</th>  <th>[0.025</th>    <th>0.975]</th>  \n",
       "</tr>\n",
       "<tr>\n",
       "  <th>Intercept</th>     <td>-2554.4355</td> <td> 1048.246</td> <td>   -2.437</td> <td> 0.015</td> <td>-4610.700</td> <td> -498.171</td>\n",
       "</tr>\n",
       "<tr>\n",
       "  <th>Age_08_04</th>     <td> -121.8366</td> <td>    2.623</td> <td>  -46.454</td> <td> 0.000</td> <td> -126.981</td> <td> -116.692</td>\n",
       "</tr>\n",
       "<tr>\n",
       "  <th>Weight</th>        <td>   16.5860</td> <td>    1.022</td> <td>   16.224</td> <td> 0.000</td> <td>   14.581</td> <td>   18.591</td>\n",
       "</tr>\n",
       "<tr>\n",
       "  <th>KM</th>            <td>   -0.0207</td> <td>    0.001</td> <td>  -16.543</td> <td> 0.000</td> <td>   -0.023</td> <td>   -0.018</td>\n",
       "</tr>\n",
       "<tr>\n",
       "  <th>HP</th>            <td>   33.3411</td> <td>    2.731</td> <td>   12.209</td> <td> 0.000</td> <td>   27.984</td> <td>   38.698</td>\n",
       "</tr>\n",
       "<tr>\n",
       "  <th>Quarterly_Tax</th> <td>    3.9716</td> <td>    1.298</td> <td>    3.060</td> <td> 0.002</td> <td>    1.425</td> <td>    6.518</td>\n",
       "</tr>\n",
       "</table>\n",
       "<table class=\"simpletable\">\n",
       "<tr>\n",
       "  <th>Omnibus:</th>       <td>144.527</td> <th>  Durbin-Watson:     </th> <td>   1.545</td> \n",
       "</tr>\n",
       "<tr>\n",
       "  <th>Prob(Omnibus):</th> <td> 0.000</td>  <th>  Jarque-Bera (JB):  </th> <td> 910.235</td> \n",
       "</tr>\n",
       "<tr>\n",
       "  <th>Skew:</th>          <td>-0.209</td>  <th>  Prob(JB):          </th> <td>2.21e-198</td>\n",
       "</tr>\n",
       "<tr>\n",
       "  <th>Kurtosis:</th>      <td> 6.878</td>  <th>  Cond. No.          </th> <td>2.30e+06</td> \n",
       "</tr>\n",
       "</table><br/><br/>Warnings:<br/>[1] Standard Errors assume that the covariance matrix of the errors is correctly specified.<br/>[2] The condition number is large, 2.3e+06. This might indicate that there are<br/>strong multicollinearity or other numerical problems."
      ],
      "text/plain": [
       "<class 'statsmodels.iolib.summary.Summary'>\n",
       "\"\"\"\n",
       "                            OLS Regression Results                            \n",
       "==============================================================================\n",
       "Dep. Variable:                  Price   R-squared:                       0.863\n",
       "Model:                            OLS   Adj. R-squared:                  0.862\n",
       "Method:                 Least Squares   F-statistic:                     1797.\n",
       "Date:                Wed, 11 Oct 2023   Prob (F-statistic):               0.00\n",
       "Time:                        17:25:27   Log-Likelihood:                -12381.\n",
       "No. Observations:                1436   AIC:                         2.477e+04\n",
       "Df Residuals:                    1430   BIC:                         2.481e+04\n",
       "Df Model:                           5                                         \n",
       "Covariance Type:            nonrobust                                         \n",
       "=================================================================================\n",
       "                    coef    std err          t      P>|t|      [0.025      0.975]\n",
       "---------------------------------------------------------------------------------\n",
       "Intercept     -2554.4355   1048.246     -2.437      0.015   -4610.700    -498.171\n",
       "Age_08_04      -121.8366      2.623    -46.454      0.000    -126.981    -116.692\n",
       "Weight           16.5860      1.022     16.224      0.000      14.581      18.591\n",
       "KM               -0.0207      0.001    -16.543      0.000      -0.023      -0.018\n",
       "HP               33.3411      2.731     12.209      0.000      27.984      38.698\n",
       "Quarterly_Tax     3.9716      1.298      3.060      0.002       1.425       6.518\n",
       "==============================================================================\n",
       "Omnibus:                      144.527   Durbin-Watson:                   1.545\n",
       "Prob(Omnibus):                  0.000   Jarque-Bera (JB):              910.235\n",
       "Skew:                          -0.209   Prob(JB):                    2.21e-198\n",
       "Kurtosis:                       6.878   Cond. No.                     2.30e+06\n",
       "==============================================================================\n",
       "\n",
       "Warnings:\n",
       "[1] Standard Errors assume that the covariance matrix of the errors is correctly specified.\n",
       "[2] The condition number is large, 2.3e+06. This might indicate that there are\n",
       "strong multicollinearity or other numerical problems.\n",
       "\"\"\""
      ]
     },
     "execution_count": 38,
     "metadata": {},
     "output_type": "execute_result"
    }
   ],
   "source": [
    "formula = 'Price ~ Age_08_04 + Weight + KM + HP + Quarterly_Tax'\n",
    "model = smf.ols(formula, data=df).fit()\n",
    "model.summary()"
   ]
  },
  {
   "cell_type": "markdown",
   "metadata": {},
   "source": [
    "## 'Price ~ Age_08_04 + Weight + KM + HP + Quarterly_Tax + Doors' - 0.862"
   ]
  },
  {
   "cell_type": "code",
   "execution_count": 39,
   "metadata": {},
   "outputs": [
    {
     "data": {
      "text/html": [
       "<table class=\"simpletable\">\n",
       "<caption>OLS Regression Results</caption>\n",
       "<tr>\n",
       "  <th>Dep. Variable:</th>          <td>Price</td>      <th>  R-squared:         </th> <td>   0.863</td> \n",
       "</tr>\n",
       "<tr>\n",
       "  <th>Model:</th>                   <td>OLS</td>       <th>  Adj. R-squared:    </th> <td>   0.862</td> \n",
       "</tr>\n",
       "<tr>\n",
       "  <th>Method:</th>             <td>Least Squares</td>  <th>  F-statistic:       </th> <td>   1497.</td> \n",
       "</tr>\n",
       "<tr>\n",
       "  <th>Date:</th>             <td>Wed, 11 Oct 2023</td> <th>  Prob (F-statistic):</th>  <td>  0.00</td>  \n",
       "</tr>\n",
       "<tr>\n",
       "  <th>Time:</th>                 <td>17:25:27</td>     <th>  Log-Likelihood:    </th> <td> -12381.</td> \n",
       "</tr>\n",
       "<tr>\n",
       "  <th>No. Observations:</th>      <td>  1436</td>      <th>  AIC:               </th> <td>2.478e+04</td>\n",
       "</tr>\n",
       "<tr>\n",
       "  <th>Df Residuals:</th>          <td>  1429</td>      <th>  BIC:               </th> <td>2.481e+04</td>\n",
       "</tr>\n",
       "<tr>\n",
       "  <th>Df Model:</th>              <td>     6</td>      <th>                     </th>     <td> </td>    \n",
       "</tr>\n",
       "<tr>\n",
       "  <th>Covariance Type:</th>      <td>nonrobust</td>    <th>                     </th>     <td> </td>    \n",
       "</tr>\n",
       "</table>\n",
       "<table class=\"simpletable\">\n",
       "<tr>\n",
       "        <td></td>           <th>coef</th>     <th>std err</th>      <th>t</th>      <th>P>|t|</th>  <th>[0.025</th>    <th>0.975]</th>  \n",
       "</tr>\n",
       "<tr>\n",
       "  <th>Intercept</th>     <td>-2632.4015</td> <td> 1056.392</td> <td>   -2.492</td> <td> 0.013</td> <td>-4704.647</td> <td> -560.156</td>\n",
       "</tr>\n",
       "<tr>\n",
       "  <th>Age_08_04</th>     <td> -121.8367</td> <td>    2.623</td> <td>  -46.444</td> <td> 0.000</td> <td> -126.983</td> <td> -116.691</td>\n",
       "</tr>\n",
       "<tr>\n",
       "  <th>Weight</th>        <td>   16.7492</td> <td>    1.058</td> <td>   15.837</td> <td> 0.000</td> <td>   14.675</td> <td>   18.824</td>\n",
       "</tr>\n",
       "<tr>\n",
       "  <th>KM</th>            <td>   -0.0207</td> <td>    0.001</td> <td>  -16.529</td> <td> 0.000</td> <td>   -0.023</td> <td>   -0.018</td>\n",
       "</tr>\n",
       "<tr>\n",
       "  <th>HP</th>            <td>   33.3826</td> <td>    2.732</td> <td>   12.218</td> <td> 0.000</td> <td>   28.023</td> <td>   38.742</td>\n",
       "</tr>\n",
       "<tr>\n",
       "  <th>Quarterly_Tax</th> <td>    3.9028</td> <td>    1.303</td> <td>    2.995</td> <td> 0.003</td> <td>    1.346</td> <td>    6.459</td>\n",
       "</tr>\n",
       "<tr>\n",
       "  <th>Doors</th>         <td>  -23.7998</td> <td>   39.398</td> <td>   -0.604</td> <td> 0.546</td> <td> -101.083</td> <td>   53.484</td>\n",
       "</tr>\n",
       "</table>\n",
       "<table class=\"simpletable\">\n",
       "<tr>\n",
       "  <th>Omnibus:</th>       <td>147.853</td> <th>  Durbin-Watson:     </th> <td>   1.548</td> \n",
       "</tr>\n",
       "<tr>\n",
       "  <th>Prob(Omnibus):</th> <td> 0.000</td>  <th>  Jarque-Bera (JB):  </th> <td> 946.730</td> \n",
       "</tr>\n",
       "<tr>\n",
       "  <th>Skew:</th>          <td>-0.220</td>  <th>  Prob(JB):          </th> <td>2.63e-206</td>\n",
       "</tr>\n",
       "<tr>\n",
       "  <th>Kurtosis:</th>      <td> 6.953</td>  <th>  Cond. No.          </th> <td>2.32e+06</td> \n",
       "</tr>\n",
       "</table><br/><br/>Warnings:<br/>[1] Standard Errors assume that the covariance matrix of the errors is correctly specified.<br/>[2] The condition number is large, 2.32e+06. This might indicate that there are<br/>strong multicollinearity or other numerical problems."
      ],
      "text/plain": [
       "<class 'statsmodels.iolib.summary.Summary'>\n",
       "\"\"\"\n",
       "                            OLS Regression Results                            \n",
       "==============================================================================\n",
       "Dep. Variable:                  Price   R-squared:                       0.863\n",
       "Model:                            OLS   Adj. R-squared:                  0.862\n",
       "Method:                 Least Squares   F-statistic:                     1497.\n",
       "Date:                Wed, 11 Oct 2023   Prob (F-statistic):               0.00\n",
       "Time:                        17:25:27   Log-Likelihood:                -12381.\n",
       "No. Observations:                1436   AIC:                         2.478e+04\n",
       "Df Residuals:                    1429   BIC:                         2.481e+04\n",
       "Df Model:                           6                                         \n",
       "Covariance Type:            nonrobust                                         \n",
       "=================================================================================\n",
       "                    coef    std err          t      P>|t|      [0.025      0.975]\n",
       "---------------------------------------------------------------------------------\n",
       "Intercept     -2632.4015   1056.392     -2.492      0.013   -4704.647    -560.156\n",
       "Age_08_04      -121.8367      2.623    -46.444      0.000    -126.983    -116.691\n",
       "Weight           16.7492      1.058     15.837      0.000      14.675      18.824\n",
       "KM               -0.0207      0.001    -16.529      0.000      -0.023      -0.018\n",
       "HP               33.3826      2.732     12.218      0.000      28.023      38.742\n",
       "Quarterly_Tax     3.9028      1.303      2.995      0.003       1.346       6.459\n",
       "Doors           -23.7998     39.398     -0.604      0.546    -101.083      53.484\n",
       "==============================================================================\n",
       "Omnibus:                      147.853   Durbin-Watson:                   1.548\n",
       "Prob(Omnibus):                  0.000   Jarque-Bera (JB):              946.730\n",
       "Skew:                          -0.220   Prob(JB):                    2.63e-206\n",
       "Kurtosis:                       6.953   Cond. No.                     2.32e+06\n",
       "==============================================================================\n",
       "\n",
       "Warnings:\n",
       "[1] Standard Errors assume that the covariance matrix of the errors is correctly specified.\n",
       "[2] The condition number is large, 2.32e+06. This might indicate that there are\n",
       "strong multicollinearity or other numerical problems.\n",
       "\"\"\""
      ]
     },
     "execution_count": 39,
     "metadata": {},
     "output_type": "execute_result"
    }
   ],
   "source": [
    "formula = 'Price ~ Age_08_04 + Weight + KM + HP + Quarterly_Tax + Doors'\n",
    "model = smf.ols(formula, data=df).fit()\n",
    "model.summary()"
   ]
  },
  {
   "cell_type": "markdown",
   "metadata": {},
   "source": [
    "## 'Price ~ Age_08_04 + Weight + KM + HP + Quarterly_Tax + Doors + cc' - 0.862"
   ]
  },
  {
   "cell_type": "code",
   "execution_count": 40,
   "metadata": {},
   "outputs": [
    {
     "data": {
      "text/html": [
       "<table class=\"simpletable\">\n",
       "<caption>OLS Regression Results</caption>\n",
       "<tr>\n",
       "  <th>Dep. Variable:</th>          <td>Price</td>      <th>  R-squared:         </th> <td>   0.863</td> \n",
       "</tr>\n",
       "<tr>\n",
       "  <th>Model:</th>                   <td>OLS</td>       <th>  Adj. R-squared:    </th> <td>   0.862</td> \n",
       "</tr>\n",
       "<tr>\n",
       "  <th>Method:</th>             <td>Least Squares</td>  <th>  F-statistic:       </th> <td>   1284.</td> \n",
       "</tr>\n",
       "<tr>\n",
       "  <th>Date:</th>             <td>Wed, 11 Oct 2023</td> <th>  Prob (F-statistic):</th>  <td>  0.00</td>  \n",
       "</tr>\n",
       "<tr>\n",
       "  <th>Time:</th>                 <td>17:25:27</td>     <th>  Log-Likelihood:    </th> <td> -12380.</td> \n",
       "</tr>\n",
       "<tr>\n",
       "  <th>No. Observations:</th>      <td>  1436</td>      <th>  AIC:               </th> <td>2.478e+04</td>\n",
       "</tr>\n",
       "<tr>\n",
       "  <th>Df Residuals:</th>          <td>  1428</td>      <th>  BIC:               </th> <td>2.482e+04</td>\n",
       "</tr>\n",
       "<tr>\n",
       "  <th>Df Model:</th>              <td>     7</td>      <th>                     </th>     <td> </td>    \n",
       "</tr>\n",
       "<tr>\n",
       "  <th>Covariance Type:</th>      <td>nonrobust</td>    <th>                     </th>     <td> </td>    \n",
       "</tr>\n",
       "</table>\n",
       "<table class=\"simpletable\">\n",
       "<tr>\n",
       "        <td></td>           <th>coef</th>     <th>std err</th>      <th>t</th>      <th>P>|t|</th>  <th>[0.025</th>    <th>0.975]</th>  \n",
       "</tr>\n",
       "<tr>\n",
       "  <th>Intercept</th>     <td>-2750.5553</td> <td> 1059.491</td> <td>   -2.596</td> <td> 0.010</td> <td>-4828.881</td> <td> -672.229</td>\n",
       "</tr>\n",
       "<tr>\n",
       "  <th>Age_08_04</th>     <td> -121.7928</td> <td>    2.623</td> <td>  -46.439</td> <td> 0.000</td> <td> -126.937</td> <td> -116.648</td>\n",
       "</tr>\n",
       "<tr>\n",
       "  <th>Weight</th>        <td>   16.9852</td> <td>    1.071</td> <td>   15.860</td> <td> 0.000</td> <td>   14.884</td> <td>   19.086</td>\n",
       "</tr>\n",
       "<tr>\n",
       "  <th>KM</th>            <td>   -0.0205</td> <td>    0.001</td> <td>  -16.395</td> <td> 0.000</td> <td>   -0.023</td> <td>   -0.018</td>\n",
       "</tr>\n",
       "<tr>\n",
       "  <th>HP</th>            <td>   33.7306</td> <td>    2.743</td> <td>   12.297</td> <td> 0.000</td> <td>   28.350</td> <td>   39.111</td>\n",
       "</tr>\n",
       "<tr>\n",
       "  <th>Quarterly_Tax</th> <td>    4.1227</td> <td>    1.312</td> <td>    3.141</td> <td> 0.002</td> <td>    1.548</td> <td>    6.697</td>\n",
       "</tr>\n",
       "<tr>\n",
       "  <th>Doors</th>         <td>  -24.5339</td> <td>   39.389</td> <td>   -0.623</td> <td> 0.533</td> <td> -101.799</td> <td>   52.732</td>\n",
       "</tr>\n",
       "<tr>\n",
       "  <th>cc</th>            <td>   -0.1251</td> <td>    0.090</td> <td>   -1.385</td> <td> 0.166</td> <td>   -0.302</td> <td>    0.052</td>\n",
       "</tr>\n",
       "</table>\n",
       "<table class=\"simpletable\">\n",
       "<tr>\n",
       "  <th>Omnibus:</th>       <td>151.778</td> <th>  Durbin-Watson:     </th> <td>   1.551</td> \n",
       "</tr>\n",
       "<tr>\n",
       "  <th>Prob(Omnibus):</th> <td> 0.000</td>  <th>  Jarque-Bera (JB):  </th> <td> 992.853</td> \n",
       "</tr>\n",
       "<tr>\n",
       "  <th>Skew:</th>          <td>-0.231</td>  <th>  Prob(JB):          </th> <td>2.54e-216</td>\n",
       "</tr>\n",
       "<tr>\n",
       "  <th>Kurtosis:</th>      <td> 7.047</td>  <th>  Cond. No.          </th> <td>2.33e+06</td> \n",
       "</tr>\n",
       "</table><br/><br/>Warnings:<br/>[1] Standard Errors assume that the covariance matrix of the errors is correctly specified.<br/>[2] The condition number is large, 2.33e+06. This might indicate that there are<br/>strong multicollinearity or other numerical problems."
      ],
      "text/plain": [
       "<class 'statsmodels.iolib.summary.Summary'>\n",
       "\"\"\"\n",
       "                            OLS Regression Results                            \n",
       "==============================================================================\n",
       "Dep. Variable:                  Price   R-squared:                       0.863\n",
       "Model:                            OLS   Adj. R-squared:                  0.862\n",
       "Method:                 Least Squares   F-statistic:                     1284.\n",
       "Date:                Wed, 11 Oct 2023   Prob (F-statistic):               0.00\n",
       "Time:                        17:25:27   Log-Likelihood:                -12380.\n",
       "No. Observations:                1436   AIC:                         2.478e+04\n",
       "Df Residuals:                    1428   BIC:                         2.482e+04\n",
       "Df Model:                           7                                         \n",
       "Covariance Type:            nonrobust                                         \n",
       "=================================================================================\n",
       "                    coef    std err          t      P>|t|      [0.025      0.975]\n",
       "---------------------------------------------------------------------------------\n",
       "Intercept     -2750.5553   1059.491     -2.596      0.010   -4828.881    -672.229\n",
       "Age_08_04      -121.7928      2.623    -46.439      0.000    -126.937    -116.648\n",
       "Weight           16.9852      1.071     15.860      0.000      14.884      19.086\n",
       "KM               -0.0205      0.001    -16.395      0.000      -0.023      -0.018\n",
       "HP               33.7306      2.743     12.297      0.000      28.350      39.111\n",
       "Quarterly_Tax     4.1227      1.312      3.141      0.002       1.548       6.697\n",
       "Doors           -24.5339     39.389     -0.623      0.533    -101.799      52.732\n",
       "cc               -0.1251      0.090     -1.385      0.166      -0.302       0.052\n",
       "==============================================================================\n",
       "Omnibus:                      151.778   Durbin-Watson:                   1.551\n",
       "Prob(Omnibus):                  0.000   Jarque-Bera (JB):              992.853\n",
       "Skew:                          -0.231   Prob(JB):                    2.54e-216\n",
       "Kurtosis:                       7.047   Cond. No.                     2.33e+06\n",
       "==============================================================================\n",
       "\n",
       "Warnings:\n",
       "[1] Standard Errors assume that the covariance matrix of the errors is correctly specified.\n",
       "[2] The condition number is large, 2.33e+06. This might indicate that there are\n",
       "strong multicollinearity or other numerical problems.\n",
       "\"\"\""
      ]
     },
     "execution_count": 40,
     "metadata": {},
     "output_type": "execute_result"
    }
   ],
   "source": [
    "formula = 'Price ~ Age_08_04 + Weight + KM + HP + Quarterly_Tax + Doors + cc'\n",
    "model = smf.ols(formula, data=df).fit()\n",
    "model.summary()"
   ]
  },
  {
   "cell_type": "code",
   "execution_count": 41,
   "metadata": {},
   "outputs": [
    {
     "data": {
      "text/plain": [
       "Index(['Price', 'Age_08_04', 'KM', 'HP', 'cc', 'Doors', 'Gears',\n",
       "       'Quarterly_Tax', 'Weight'],\n",
       "      dtype='object')"
      ]
     },
     "execution_count": 41,
     "metadata": {},
     "output_type": "execute_result"
    }
   ],
   "source": [
    "df.columns"
   ]
  },
  {
   "cell_type": "code",
   "execution_count": 42,
   "metadata": {},
   "outputs": [
    {
     "data": {
      "text/html": [
       "<div>\n",
       "<style scoped>\n",
       "    .dataframe tbody tr th:only-of-type {\n",
       "        vertical-align: middle;\n",
       "    }\n",
       "\n",
       "    .dataframe tbody tr th {\n",
       "        vertical-align: top;\n",
       "    }\n",
       "\n",
       "    .dataframe thead th {\n",
       "        text-align: right;\n",
       "    }\n",
       "</style>\n",
       "<table border=\"1\" class=\"dataframe\">\n",
       "  <thead>\n",
       "    <tr style=\"text-align: right;\">\n",
       "      <th></th>\n",
       "      <th>Age_08_04</th>\n",
       "      <th>KM</th>\n",
       "      <th>HP</th>\n",
       "      <th>cc</th>\n",
       "      <th>Doors</th>\n",
       "      <th>Gears</th>\n",
       "      <th>Quarterly_Tax</th>\n",
       "      <th>Weight</th>\n",
       "    </tr>\n",
       "  </thead>\n",
       "  <tbody>\n",
       "    <tr>\n",
       "      <th>0</th>\n",
       "      <td>23</td>\n",
       "      <td>46986</td>\n",
       "      <td>90</td>\n",
       "      <td>2000</td>\n",
       "      <td>3</td>\n",
       "      <td>5</td>\n",
       "      <td>210</td>\n",
       "      <td>1165</td>\n",
       "    </tr>\n",
       "    <tr>\n",
       "      <th>1</th>\n",
       "      <td>23</td>\n",
       "      <td>72937</td>\n",
       "      <td>90</td>\n",
       "      <td>2000</td>\n",
       "      <td>3</td>\n",
       "      <td>5</td>\n",
       "      <td>210</td>\n",
       "      <td>1165</td>\n",
       "    </tr>\n",
       "    <tr>\n",
       "      <th>2</th>\n",
       "      <td>24</td>\n",
       "      <td>41711</td>\n",
       "      <td>90</td>\n",
       "      <td>2000</td>\n",
       "      <td>3</td>\n",
       "      <td>5</td>\n",
       "      <td>210</td>\n",
       "      <td>1165</td>\n",
       "    </tr>\n",
       "    <tr>\n",
       "      <th>3</th>\n",
       "      <td>26</td>\n",
       "      <td>48000</td>\n",
       "      <td>90</td>\n",
       "      <td>2000</td>\n",
       "      <td>3</td>\n",
       "      <td>5</td>\n",
       "      <td>210</td>\n",
       "      <td>1165</td>\n",
       "    </tr>\n",
       "    <tr>\n",
       "      <th>4</th>\n",
       "      <td>30</td>\n",
       "      <td>38500</td>\n",
       "      <td>90</td>\n",
       "      <td>2000</td>\n",
       "      <td>3</td>\n",
       "      <td>5</td>\n",
       "      <td>210</td>\n",
       "      <td>1170</td>\n",
       "    </tr>\n",
       "    <tr>\n",
       "      <th>...</th>\n",
       "      <td>...</td>\n",
       "      <td>...</td>\n",
       "      <td>...</td>\n",
       "      <td>...</td>\n",
       "      <td>...</td>\n",
       "      <td>...</td>\n",
       "      <td>...</td>\n",
       "      <td>...</td>\n",
       "    </tr>\n",
       "    <tr>\n",
       "      <th>1431</th>\n",
       "      <td>69</td>\n",
       "      <td>20544</td>\n",
       "      <td>86</td>\n",
       "      <td>1300</td>\n",
       "      <td>3</td>\n",
       "      <td>5</td>\n",
       "      <td>69</td>\n",
       "      <td>1025</td>\n",
       "    </tr>\n",
       "    <tr>\n",
       "      <th>1432</th>\n",
       "      <td>72</td>\n",
       "      <td>19000</td>\n",
       "      <td>86</td>\n",
       "      <td>1300</td>\n",
       "      <td>3</td>\n",
       "      <td>5</td>\n",
       "      <td>69</td>\n",
       "      <td>1015</td>\n",
       "    </tr>\n",
       "    <tr>\n",
       "      <th>1433</th>\n",
       "      <td>71</td>\n",
       "      <td>17016</td>\n",
       "      <td>86</td>\n",
       "      <td>1300</td>\n",
       "      <td>3</td>\n",
       "      <td>5</td>\n",
       "      <td>69</td>\n",
       "      <td>1015</td>\n",
       "    </tr>\n",
       "    <tr>\n",
       "      <th>1434</th>\n",
       "      <td>70</td>\n",
       "      <td>16916</td>\n",
       "      <td>86</td>\n",
       "      <td>1300</td>\n",
       "      <td>3</td>\n",
       "      <td>5</td>\n",
       "      <td>69</td>\n",
       "      <td>1015</td>\n",
       "    </tr>\n",
       "    <tr>\n",
       "      <th>1435</th>\n",
       "      <td>76</td>\n",
       "      <td>1</td>\n",
       "      <td>110</td>\n",
       "      <td>1600</td>\n",
       "      <td>5</td>\n",
       "      <td>5</td>\n",
       "      <td>19</td>\n",
       "      <td>1114</td>\n",
       "    </tr>\n",
       "  </tbody>\n",
       "</table>\n",
       "<p>1436 rows × 8 columns</p>\n",
       "</div>"
      ],
      "text/plain": [
       "      Age_08_04     KM   HP    cc  Doors  Gears  Quarterly_Tax  Weight\n",
       "0            23  46986   90  2000      3      5            210    1165\n",
       "1            23  72937   90  2000      3      5            210    1165\n",
       "2            24  41711   90  2000      3      5            210    1165\n",
       "3            26  48000   90  2000      3      5            210    1165\n",
       "4            30  38500   90  2000      3      5            210    1170\n",
       "...         ...    ...  ...   ...    ...    ...            ...     ...\n",
       "1431         69  20544   86  1300      3      5             69    1025\n",
       "1432         72  19000   86  1300      3      5             69    1015\n",
       "1433         71  17016   86  1300      3      5             69    1015\n",
       "1434         70  16916   86  1300      3      5             69    1015\n",
       "1435         76      1  110  1600      5      5             19    1114\n",
       "\n",
       "[1436 rows x 8 columns]"
      ]
     },
     "execution_count": 42,
     "metadata": {},
     "output_type": "execute_result"
    }
   ],
   "source": [
    "from statsmodels.stats.outliers_influence import variance_inflation_factor\n",
    "variables = df[['Age_08_04', 'KM', 'HP', 'cc', 'Doors', 'Gears', 'Quarterly_Tax', 'Weight']]\n",
    "variables"
   ]
  },
  {
   "cell_type": "code",
   "execution_count": 43,
   "metadata": {},
   "outputs": [
    {
     "data": {
      "text/html": [
       "<div>\n",
       "<style scoped>\n",
       "    .dataframe tbody tr th:only-of-type {\n",
       "        vertical-align: middle;\n",
       "    }\n",
       "\n",
       "    .dataframe tbody tr th {\n",
       "        vertical-align: top;\n",
       "    }\n",
       "\n",
       "    .dataframe thead th {\n",
       "        text-align: right;\n",
       "    }\n",
       "</style>\n",
       "<table border=\"1\" class=\"dataframe\">\n",
       "  <thead>\n",
       "    <tr style=\"text-align: right;\">\n",
       "      <th></th>\n",
       "    </tr>\n",
       "  </thead>\n",
       "  <tbody>\n",
       "  </tbody>\n",
       "</table>\n",
       "</div>"
      ],
      "text/plain": [
       "Empty DataFrame\n",
       "Columns: []\n",
       "Index: []"
      ]
     },
     "execution_count": 43,
     "metadata": {},
     "output_type": "execute_result"
    }
   ],
   "source": [
    "vif = pd.DataFrame()\n",
    "vif"
   ]
  },
  {
   "cell_type": "code",
   "execution_count": 44,
   "metadata": {},
   "outputs": [
    {
     "data": {
      "text/html": [
       "<div>\n",
       "<style scoped>\n",
       "    .dataframe tbody tr th:only-of-type {\n",
       "        vertical-align: middle;\n",
       "    }\n",
       "\n",
       "    .dataframe tbody tr th {\n",
       "        vertical-align: top;\n",
       "    }\n",
       "\n",
       "    .dataframe thead th {\n",
       "        text-align: right;\n",
       "    }\n",
       "</style>\n",
       "<table border=\"1\" class=\"dataframe\">\n",
       "  <thead>\n",
       "    <tr style=\"text-align: right;\">\n",
       "      <th></th>\n",
       "      <th>Name</th>\n",
       "      <th>Without_Column</th>\n",
       "      <th>VIF_value</th>\n",
       "      <th>Adjusted_Rsquare</th>\n",
       "    </tr>\n",
       "  </thead>\n",
       "  <tbody>\n",
       "  </tbody>\n",
       "</table>\n",
       "</div>"
      ],
      "text/plain": [
       "Empty DataFrame\n",
       "Columns: [Name, Without_Column, VIF_value, Adjusted_Rsquare]\n",
       "Index: []"
      ]
     },
     "execution_count": 44,
     "metadata": {},
     "output_type": "execute_result"
    }
   ],
   "source": [
    "vif_results = pd.DataFrame(columns=['Name', 'Without_Column', 'VIF_value','Adjusted_Rsquare'])\n",
    "vif_results"
   ]
  },
  {
   "cell_type": "code",
   "execution_count": 45,
   "metadata": {},
   "outputs": [
    {
     "data": {
      "text/plain": [
       "array([[   23, 46986,    90, ...,     5,   210,  1165],\n",
       "       [   23, 72937,    90, ...,     5,   210,  1165],\n",
       "       [   24, 41711,    90, ...,     5,   210,  1165],\n",
       "       ...,\n",
       "       [   71, 17016,    86, ...,     5,    69,  1015],\n",
       "       [   70, 16916,    86, ...,     5,    69,  1015],\n",
       "       [   76,     1,   110, ...,     5,    19,  1114]], dtype=int64)"
      ]
     },
     "execution_count": 45,
     "metadata": {},
     "output_type": "execute_result"
    }
   ],
   "source": [
    "variables.values"
   ]
  },
  {
   "cell_type": "code",
   "execution_count": 46,
   "metadata": {},
   "outputs": [
    {
     "data": {
      "text/plain": [
       "8"
      ]
     },
     "execution_count": 46,
     "metadata": {},
     "output_type": "execute_result"
    }
   ],
   "source": [
    "variables.shape[1]"
   ]
  },
  {
   "cell_type": "code",
   "execution_count": 47,
   "metadata": {},
   "outputs": [
    {
     "data": {
      "text/html": [
       "<div>\n",
       "<style scoped>\n",
       "    .dataframe tbody tr th:only-of-type {\n",
       "        vertical-align: middle;\n",
       "    }\n",
       "\n",
       "    .dataframe tbody tr th {\n",
       "        vertical-align: top;\n",
       "    }\n",
       "\n",
       "    .dataframe thead th {\n",
       "        text-align: right;\n",
       "    }\n",
       "</style>\n",
       "<table border=\"1\" class=\"dataframe\">\n",
       "  <thead>\n",
       "    <tr style=\"text-align: right;\">\n",
       "      <th></th>\n",
       "      <th>VIF</th>\n",
       "      <th>features</th>\n",
       "    </tr>\n",
       "  </thead>\n",
       "  <tbody>\n",
       "    <tr>\n",
       "      <th>0</th>\n",
       "      <td>16.392684</td>\n",
       "      <td>Age_08_04</td>\n",
       "    </tr>\n",
       "    <tr>\n",
       "      <th>1</th>\n",
       "      <td>7.590522</td>\n",
       "      <td>KM</td>\n",
       "    </tr>\n",
       "    <tr>\n",
       "      <th>2</th>\n",
       "      <td>64.894960</td>\n",
       "      <td>HP</td>\n",
       "    </tr>\n",
       "    <tr>\n",
       "      <th>3</th>\n",
       "      <td>17.199750</td>\n",
       "      <td>cc</td>\n",
       "    </tr>\n",
       "    <tr>\n",
       "      <th>4</th>\n",
       "      <td>21.874692</td>\n",
       "      <td>Doors</td>\n",
       "    </tr>\n",
       "    <tr>\n",
       "      <th>5</th>\n",
       "      <td>438.631804</td>\n",
       "      <td>Gears</td>\n",
       "    </tr>\n",
       "    <tr>\n",
       "      <th>6</th>\n",
       "      <td>11.020074</td>\n",
       "      <td>Quarterly_Tax</td>\n",
       "    </tr>\n",
       "    <tr>\n",
       "      <th>7</th>\n",
       "      <td>543.133076</td>\n",
       "      <td>Weight</td>\n",
       "    </tr>\n",
       "  </tbody>\n",
       "</table>\n",
       "</div>"
      ],
      "text/plain": [
       "          VIF       features\n",
       "0   16.392684      Age_08_04\n",
       "1    7.590522             KM\n",
       "2   64.894960             HP\n",
       "3   17.199750             cc\n",
       "4   21.874692          Doors\n",
       "5  438.631804          Gears\n",
       "6   11.020074  Quarterly_Tax\n",
       "7  543.133076         Weight"
      ]
     },
     "execution_count": 47,
     "metadata": {},
     "output_type": "execute_result"
    }
   ],
   "source": [
    "vif['VIF'] = [variance_inflation_factor(variables.values,i) for i in range(variables.shape[1])]\n",
    "vif['features'] = variables.columns\n",
    "vif"
   ]
  },
  {
   "cell_type": "markdown",
   "metadata": {},
   "source": [
    "## VIF is Variance Inflation Factor \n",
    "## VIF > 5 is cause for concern and VIF > 10 indicates a serious collinearity problem"
   ]
  },
  {
   "cell_type": "markdown",
   "metadata": {},
   "source": [
    "#### We should also not remove all the columns which have VIF more than 10 at one shot we have to do it in one after another in Descending to Ascending order."
   ]
  },
  {
   "cell_type": "code",
   "execution_count": 48,
   "metadata": {},
   "outputs": [
    {
     "data": {
      "text/plain": [
       "543.1330758695781"
      ]
     },
     "execution_count": 48,
     "metadata": {},
     "output_type": "execute_result"
    }
   ],
   "source": [
    "vif['VIF'].max()"
   ]
  },
  {
   "cell_type": "markdown",
   "metadata": {},
   "source": [
    "#### Lets see without 'Weight' column"
   ]
  },
  {
   "cell_type": "code",
   "execution_count": 49,
   "metadata": {},
   "outputs": [
    {
     "data": {
      "text/html": [
       "<table class=\"simpletable\">\n",
       "<caption>OLS Regression Results</caption>\n",
       "<tr>\n",
       "  <th>Dep. Variable:</th>          <td>Price</td>      <th>  R-squared:         </th> <td>   0.840</td> \n",
       "</tr>\n",
       "<tr>\n",
       "  <th>Model:</th>                   <td>OLS</td>       <th>  Adj. R-squared:    </th> <td>   0.839</td> \n",
       "</tr>\n",
       "<tr>\n",
       "  <th>Method:</th>             <td>Least Squares</td>  <th>  F-statistic:       </th> <td>   1069.</td> \n",
       "</tr>\n",
       "<tr>\n",
       "  <th>Date:</th>             <td>Wed, 11 Oct 2023</td> <th>  Prob (F-statistic):</th>  <td>  0.00</td>  \n",
       "</tr>\n",
       "<tr>\n",
       "  <th>Time:</th>                 <td>17:25:27</td>     <th>  Log-Likelihood:    </th> <td> -12492.</td> \n",
       "</tr>\n",
       "<tr>\n",
       "  <th>No. Observations:</th>      <td>  1436</td>      <th>  AIC:               </th> <td>2.500e+04</td>\n",
       "</tr>\n",
       "<tr>\n",
       "  <th>Df Residuals:</th>          <td>  1428</td>      <th>  BIC:               </th> <td>2.504e+04</td>\n",
       "</tr>\n",
       "<tr>\n",
       "  <th>Df Model:</th>              <td>     7</td>      <th>                     </th>     <td> </td>    \n",
       "</tr>\n",
       "<tr>\n",
       "  <th>Covariance Type:</th>      <td>nonrobust</td>    <th>                     </th>     <td> </td>    \n",
       "</tr>\n",
       "</table>\n",
       "<table class=\"simpletable\">\n",
       "<tr>\n",
       "        <td></td>           <th>coef</th>     <th>std err</th>      <th>t</th>      <th>P>|t|</th>  <th>[0.025</th>    <th>0.975]</th>  \n",
       "</tr>\n",
       "<tr>\n",
       "  <th>Intercept</th>     <td> 9980.6587</td> <td> 1101.951</td> <td>    9.057</td> <td> 0.000</td> <td> 7819.042</td> <td> 1.21e+04</td>\n",
       "</tr>\n",
       "<tr>\n",
       "  <th>Age_08_04</th>     <td> -136.3855</td> <td>    2.652</td> <td>  -51.426</td> <td> 0.000</td> <td> -141.588</td> <td> -131.183</td>\n",
       "</tr>\n",
       "<tr>\n",
       "  <th>KM</th>            <td>   -0.0201</td> <td>    0.001</td> <td>  -14.793</td> <td> 0.000</td> <td>   -0.023</td> <td>   -0.017</td>\n",
       "</tr>\n",
       "<tr>\n",
       "  <th>HP</th>            <td>   43.5743</td> <td>    2.946</td> <td>   14.790</td> <td> 0.000</td> <td>   37.795</td> <td>   49.354</td>\n",
       "</tr>\n",
       "<tr>\n",
       "  <th>Quarterly_Tax</th> <td>   16.1981</td> <td>    1.148</td> <td>   14.108</td> <td> 0.000</td> <td>   13.946</td> <td>   18.450</td>\n",
       "</tr>\n",
       "<tr>\n",
       "  <th>Doors</th>         <td>  157.9483</td> <td>   41.991</td> <td>    3.762</td> <td> 0.000</td> <td>   75.578</td> <td>  240.318</td>\n",
       "</tr>\n",
       "<tr>\n",
       "  <th>cc</th>            <td>    0.1066</td> <td>    0.096</td> <td>    1.106</td> <td> 0.269</td> <td>   -0.083</td> <td>    0.296</td>\n",
       "</tr>\n",
       "<tr>\n",
       "  <th>Gears</th>         <td>  620.1432</td> <td>  213.676</td> <td>    2.902</td> <td> 0.004</td> <td>  200.990</td> <td> 1039.296</td>\n",
       "</tr>\n",
       "</table>\n",
       "<table class=\"simpletable\">\n",
       "<tr>\n",
       "  <th>Omnibus:</th>       <td>211.411</td> <th>  Durbin-Watson:     </th> <td>   1.371</td> \n",
       "</tr>\n",
       "<tr>\n",
       "  <th>Prob(Omnibus):</th> <td> 0.000</td>  <th>  Jarque-Bera (JB):  </th> <td> 765.784</td> \n",
       "</tr>\n",
       "<tr>\n",
       "  <th>Skew:</th>          <td> 0.690</td>  <th>  Prob(JB):          </th> <td>5.15e-167</td>\n",
       "</tr>\n",
       "<tr>\n",
       "  <th>Kurtosis:</th>      <td> 6.301</td>  <th>  Cond. No.          </th> <td>2.28e+06</td> \n",
       "</tr>\n",
       "</table><br/><br/>Warnings:<br/>[1] Standard Errors assume that the covariance matrix of the errors is correctly specified.<br/>[2] The condition number is large, 2.28e+06. This might indicate that there are<br/>strong multicollinearity or other numerical problems."
      ],
      "text/plain": [
       "<class 'statsmodels.iolib.summary.Summary'>\n",
       "\"\"\"\n",
       "                            OLS Regression Results                            \n",
       "==============================================================================\n",
       "Dep. Variable:                  Price   R-squared:                       0.840\n",
       "Model:                            OLS   Adj. R-squared:                  0.839\n",
       "Method:                 Least Squares   F-statistic:                     1069.\n",
       "Date:                Wed, 11 Oct 2023   Prob (F-statistic):               0.00\n",
       "Time:                        17:25:27   Log-Likelihood:                -12492.\n",
       "No. Observations:                1436   AIC:                         2.500e+04\n",
       "Df Residuals:                    1428   BIC:                         2.504e+04\n",
       "Df Model:                           7                                         \n",
       "Covariance Type:            nonrobust                                         \n",
       "=================================================================================\n",
       "                    coef    std err          t      P>|t|      [0.025      0.975]\n",
       "---------------------------------------------------------------------------------\n",
       "Intercept      9980.6587   1101.951      9.057      0.000    7819.042    1.21e+04\n",
       "Age_08_04      -136.3855      2.652    -51.426      0.000    -141.588    -131.183\n",
       "KM               -0.0201      0.001    -14.793      0.000      -0.023      -0.017\n",
       "HP               43.5743      2.946     14.790      0.000      37.795      49.354\n",
       "Quarterly_Tax    16.1981      1.148     14.108      0.000      13.946      18.450\n",
       "Doors           157.9483     41.991      3.762      0.000      75.578     240.318\n",
       "cc                0.1066      0.096      1.106      0.269      -0.083       0.296\n",
       "Gears           620.1432    213.676      2.902      0.004     200.990    1039.296\n",
       "==============================================================================\n",
       "Omnibus:                      211.411   Durbin-Watson:                   1.371\n",
       "Prob(Omnibus):                  0.000   Jarque-Bera (JB):              765.784\n",
       "Skew:                           0.690   Prob(JB):                    5.15e-167\n",
       "Kurtosis:                       6.301   Cond. No.                     2.28e+06\n",
       "==============================================================================\n",
       "\n",
       "Warnings:\n",
       "[1] Standard Errors assume that the covariance matrix of the errors is correctly specified.\n",
       "[2] The condition number is large, 2.28e+06. This might indicate that there are\n",
       "strong multicollinearity or other numerical problems.\n",
       "\"\"\""
      ]
     },
     "execution_count": 49,
     "metadata": {},
     "output_type": "execute_result"
    }
   ],
   "source": [
    "formula = 'Price ~ Age_08_04 + KM + HP + Quarterly_Tax + Doors + cc + Gears'\n",
    "model = smf.ols(formula, data=df).fit()\n",
    "model.summary()"
   ]
  },
  {
   "cell_type": "code",
   "execution_count": 50,
   "metadata": {},
   "outputs": [
    {
     "data": {
      "text/plain": [
       "83.89021332659634"
      ]
     },
     "execution_count": 50,
     "metadata": {},
     "output_type": "execute_result"
    }
   ],
   "source": [
    "model.rsquared_adj*100"
   ]
  },
  {
   "cell_type": "code",
   "execution_count": 51,
   "metadata": {},
   "outputs": [
    {
     "data": {
      "text/html": [
       "<div>\n",
       "<style scoped>\n",
       "    .dataframe tbody tr th:only-of-type {\n",
       "        vertical-align: middle;\n",
       "    }\n",
       "\n",
       "    .dataframe tbody tr th {\n",
       "        vertical-align: top;\n",
       "    }\n",
       "\n",
       "    .dataframe thead th {\n",
       "        text-align: right;\n",
       "    }\n",
       "</style>\n",
       "<table border=\"1\" class=\"dataframe\">\n",
       "  <thead>\n",
       "    <tr style=\"text-align: right;\">\n",
       "      <th></th>\n",
       "      <th>Name</th>\n",
       "      <th>Without_Column</th>\n",
       "      <th>VIF_value</th>\n",
       "      <th>Adjusted_Rsquare</th>\n",
       "    </tr>\n",
       "  </thead>\n",
       "  <tbody>\n",
       "    <tr>\n",
       "      <th>0</th>\n",
       "      <td>Price ~ Age_08_04 + KM + HP + Quarterly_Tax + ...</td>\n",
       "      <td>Weight</td>\n",
       "      <td>543.133076</td>\n",
       "      <td>83.890213</td>\n",
       "    </tr>\n",
       "  </tbody>\n",
       "</table>\n",
       "</div>"
      ],
      "text/plain": [
       "                                                Name Without_Column  \\\n",
       "0  Price ~ Age_08_04 + KM + HP + Quarterly_Tax + ...         Weight   \n",
       "\n",
       "    VIF_value  Adjusted_Rsquare  \n",
       "0  543.133076         83.890213  "
      ]
     },
     "execution_count": 51,
     "metadata": {},
     "output_type": "execute_result"
    }
   ],
   "source": [
    "vif_results = vif_results.append({'Name' : 'Price ~ Age_08_04 + KM + HP + Quarterly_Tax + Doors + cc + Gears', 'Without_Column': 'Weight','VIF_value': vif['VIF'].max(), 'Adjusted_Rsquare' : model.rsquared_adj*100}, ignore_index = True)\n",
    "vif_results"
   ]
  },
  {
   "cell_type": "code",
   "execution_count": 52,
   "metadata": {},
   "outputs": [
    {
     "data": {
      "text/plain": [
       "0        Age_08_04\n",
       "1               KM\n",
       "2               HP\n",
       "3               cc\n",
       "4            Doors\n",
       "5            Gears\n",
       "6    Quarterly_Tax\n",
       "7           Weight\n",
       "Name: features, dtype: object"
      ]
     },
     "execution_count": 52,
     "metadata": {},
     "output_type": "execute_result"
    }
   ],
   "source": [
    "vif['features']"
   ]
  },
  {
   "cell_type": "code",
   "execution_count": 53,
   "metadata": {},
   "outputs": [
    {
     "data": {
      "text/html": [
       "<div>\n",
       "<style scoped>\n",
       "    .dataframe tbody tr th:only-of-type {\n",
       "        vertical-align: middle;\n",
       "    }\n",
       "\n",
       "    .dataframe tbody tr th {\n",
       "        vertical-align: top;\n",
       "    }\n",
       "\n",
       "    .dataframe thead th {\n",
       "        text-align: right;\n",
       "    }\n",
       "</style>\n",
       "<table border=\"1\" class=\"dataframe\">\n",
       "  <thead>\n",
       "    <tr style=\"text-align: right;\">\n",
       "      <th></th>\n",
       "      <th>VIF</th>\n",
       "      <th>features</th>\n",
       "    </tr>\n",
       "  </thead>\n",
       "  <tbody>\n",
       "    <tr>\n",
       "      <th>0</th>\n",
       "      <td>16.029155</td>\n",
       "      <td>Age_08_04</td>\n",
       "    </tr>\n",
       "    <tr>\n",
       "      <th>1</th>\n",
       "      <td>7.588833</td>\n",
       "      <td>KM</td>\n",
       "    </tr>\n",
       "    <tr>\n",
       "      <th>2</th>\n",
       "      <td>61.848959</td>\n",
       "      <td>HP</td>\n",
       "    </tr>\n",
       "    <tr>\n",
       "      <th>3</th>\n",
       "      <td>16.686538</td>\n",
       "      <td>cc</td>\n",
       "    </tr>\n",
       "    <tr>\n",
       "      <th>4</th>\n",
       "      <td>18.658153</td>\n",
       "      <td>Doors</td>\n",
       "    </tr>\n",
       "    <tr>\n",
       "      <th>5</th>\n",
       "      <td>107.316771</td>\n",
       "      <td>Gears</td>\n",
       "    </tr>\n",
       "    <tr>\n",
       "      <th>6</th>\n",
       "      <td>8.239199</td>\n",
       "      <td>Quarterly_Tax</td>\n",
       "    </tr>\n",
       "  </tbody>\n",
       "</table>\n",
       "</div>"
      ],
      "text/plain": [
       "          VIF       features\n",
       "0   16.029155      Age_08_04\n",
       "1    7.588833             KM\n",
       "2   61.848959             HP\n",
       "3   16.686538             cc\n",
       "4   18.658153          Doors\n",
       "5  107.316771          Gears\n",
       "6    8.239199  Quarterly_Tax"
      ]
     },
     "execution_count": 53,
     "metadata": {},
     "output_type": "execute_result"
    }
   ],
   "source": [
    "variables = df[['Age_08_04', 'KM', 'HP', 'cc', 'Doors', 'Gears','Quarterly_Tax']]\n",
    "vif = pd.DataFrame()\n",
    "vif['VIF'] = [variance_inflation_factor(variables.values,i) for i in range(variables.shape[1])]\n",
    "vif['features'] = variables.columns\n",
    "vif"
   ]
  },
  {
   "cell_type": "code",
   "execution_count": 54,
   "metadata": {},
   "outputs": [
    {
     "data": {
      "text/plain": [
       "107.31677121923923"
      ]
     },
     "execution_count": 54,
     "metadata": {},
     "output_type": "execute_result"
    }
   ],
   "source": [
    "vif['VIF'].max()"
   ]
  },
  {
   "cell_type": "markdown",
   "metadata": {},
   "source": [
    "#### Lets see without 'Gears' column"
   ]
  },
  {
   "cell_type": "code",
   "execution_count": 55,
   "metadata": {},
   "outputs": [
    {
     "data": {
      "text/html": [
       "<table class=\"simpletable\">\n",
       "<caption>OLS Regression Results</caption>\n",
       "<tr>\n",
       "  <th>Dep. Variable:</th>          <td>Price</td>      <th>  R-squared:         </th> <td>   0.839</td> \n",
       "</tr>\n",
       "<tr>\n",
       "  <th>Model:</th>                   <td>OLS</td>       <th>  Adj. R-squared:    </th> <td>   0.838</td> \n",
       "</tr>\n",
       "<tr>\n",
       "  <th>Method:</th>             <td>Least Squares</td>  <th>  F-statistic:       </th> <td>   1239.</td> \n",
       "</tr>\n",
       "<tr>\n",
       "  <th>Date:</th>             <td>Wed, 11 Oct 2023</td> <th>  Prob (F-statistic):</th>  <td>  0.00</td>  \n",
       "</tr>\n",
       "<tr>\n",
       "  <th>Time:</th>                 <td>17:25:27</td>     <th>  Log-Likelihood:    </th> <td> -12497.</td> \n",
       "</tr>\n",
       "<tr>\n",
       "  <th>No. Observations:</th>      <td>  1436</td>      <th>  AIC:               </th> <td>2.501e+04</td>\n",
       "</tr>\n",
       "<tr>\n",
       "  <th>Df Residuals:</th>          <td>  1429</td>      <th>  BIC:               </th> <td>2.504e+04</td>\n",
       "</tr>\n",
       "<tr>\n",
       "  <th>Df Model:</th>              <td>     6</td>      <th>                     </th>     <td> </td>    \n",
       "</tr>\n",
       "<tr>\n",
       "  <th>Covariance Type:</th>      <td>nonrobust</td>    <th>                     </th>     <td> </td>    \n",
       "</tr>\n",
       "</table>\n",
       "<table class=\"simpletable\">\n",
       "<tr>\n",
       "        <td></td>           <th>coef</th>     <th>std err</th>      <th>t</th>      <th>P>|t|</th>  <th>[0.025</th>    <th>0.975]</th>  \n",
       "</tr>\n",
       "<tr>\n",
       "  <th>Intercept</th>     <td> 1.295e+04</td> <td>  409.080</td> <td>   31.660</td> <td> 0.000</td> <td> 1.21e+04</td> <td> 1.38e+04</td>\n",
       "</tr>\n",
       "<tr>\n",
       "  <th>Age_08_04</th>     <td> -136.5498</td> <td>    2.658</td> <td>  -51.366</td> <td> 0.000</td> <td> -141.765</td> <td> -131.335</td>\n",
       "</tr>\n",
       "<tr>\n",
       "  <th>KM</th>            <td>   -0.0198</td> <td>    0.001</td> <td>  -14.578</td> <td> 0.000</td> <td>   -0.022</td> <td>   -0.017</td>\n",
       "</tr>\n",
       "<tr>\n",
       "  <th>HP</th>            <td>   45.7327</td> <td>    2.858</td> <td>   16.000</td> <td> 0.000</td> <td>   40.126</td> <td>   51.339</td>\n",
       "</tr>\n",
       "<tr>\n",
       "  <th>cc</th>            <td>    0.1028</td> <td>    0.097</td> <td>    1.063</td> <td> 0.288</td> <td>   -0.087</td> <td>    0.292</td>\n",
       "</tr>\n",
       "<tr>\n",
       "  <th>Doors</th>         <td>  134.2946</td> <td>   41.299</td> <td>    3.252</td> <td> 0.001</td> <td>   53.281</td> <td>  215.308</td>\n",
       "</tr>\n",
       "<tr>\n",
       "  <th>Quarterly_Tax</th> <td>   16.3993</td> <td>    1.149</td> <td>   14.272</td> <td> 0.000</td> <td>   14.145</td> <td>   18.653</td>\n",
       "</tr>\n",
       "</table>\n",
       "<table class=\"simpletable\">\n",
       "<tr>\n",
       "  <th>Omnibus:</th>       <td>202.288</td> <th>  Durbin-Watson:     </th> <td>   1.378</td> \n",
       "</tr>\n",
       "<tr>\n",
       "  <th>Prob(Omnibus):</th> <td> 0.000</td>  <th>  Jarque-Bera (JB):  </th> <td> 717.719</td> \n",
       "</tr>\n",
       "<tr>\n",
       "  <th>Skew:</th>          <td> 0.665</td>  <th>  Prob(JB):          </th> <td>1.41e-156</td>\n",
       "</tr>\n",
       "<tr>\n",
       "  <th>Kurtosis:</th>      <td> 6.198</td>  <th>  Cond. No.          </th> <td>8.30e+05</td> \n",
       "</tr>\n",
       "</table><br/><br/>Warnings:<br/>[1] Standard Errors assume that the covariance matrix of the errors is correctly specified.<br/>[2] The condition number is large, 8.3e+05. This might indicate that there are<br/>strong multicollinearity or other numerical problems."
      ],
      "text/plain": [
       "<class 'statsmodels.iolib.summary.Summary'>\n",
       "\"\"\"\n",
       "                            OLS Regression Results                            \n",
       "==============================================================================\n",
       "Dep. Variable:                  Price   R-squared:                       0.839\n",
       "Model:                            OLS   Adj. R-squared:                  0.838\n",
       "Method:                 Least Squares   F-statistic:                     1239.\n",
       "Date:                Wed, 11 Oct 2023   Prob (F-statistic):               0.00\n",
       "Time:                        17:25:27   Log-Likelihood:                -12497.\n",
       "No. Observations:                1436   AIC:                         2.501e+04\n",
       "Df Residuals:                    1429   BIC:                         2.504e+04\n",
       "Df Model:                           6                                         \n",
       "Covariance Type:            nonrobust                                         \n",
       "=================================================================================\n",
       "                    coef    std err          t      P>|t|      [0.025      0.975]\n",
       "---------------------------------------------------------------------------------\n",
       "Intercept      1.295e+04    409.080     31.660      0.000    1.21e+04    1.38e+04\n",
       "Age_08_04      -136.5498      2.658    -51.366      0.000    -141.765    -131.335\n",
       "KM               -0.0198      0.001    -14.578      0.000      -0.022      -0.017\n",
       "HP               45.7327      2.858     16.000      0.000      40.126      51.339\n",
       "cc                0.1028      0.097      1.063      0.288      -0.087       0.292\n",
       "Doors           134.2946     41.299      3.252      0.001      53.281     215.308\n",
       "Quarterly_Tax    16.3993      1.149     14.272      0.000      14.145      18.653\n",
       "==============================================================================\n",
       "Omnibus:                      202.288   Durbin-Watson:                   1.378\n",
       "Prob(Omnibus):                  0.000   Jarque-Bera (JB):              717.719\n",
       "Skew:                           0.665   Prob(JB):                    1.41e-156\n",
       "Kurtosis:                       6.198   Cond. No.                     8.30e+05\n",
       "==============================================================================\n",
       "\n",
       "Warnings:\n",
       "[1] Standard Errors assume that the covariance matrix of the errors is correctly specified.\n",
       "[2] The condition number is large, 8.3e+05. This might indicate that there are\n",
       "strong multicollinearity or other numerical problems.\n",
       "\"\"\""
      ]
     },
     "execution_count": 55,
     "metadata": {},
     "output_type": "execute_result"
    }
   ],
   "source": [
    "formula = 'Price ~ Age_08_04 + KM + HP + cc + Doors + Quarterly_Tax'\n",
    "model = smf.ols(formula, data=df).fit()\n",
    "model.summary()"
   ]
  },
  {
   "cell_type": "markdown",
   "metadata": {},
   "source": [
    "'Age_08_04', 'KM', 'HP', 'cc', 'Doors', 'Gears', 'Quarterly_Tax', 'Weight']"
   ]
  },
  {
   "cell_type": "code",
   "execution_count": 56,
   "metadata": {},
   "outputs": [
    {
     "data": {
      "text/html": [
       "<div>\n",
       "<style scoped>\n",
       "    .dataframe tbody tr th:only-of-type {\n",
       "        vertical-align: middle;\n",
       "    }\n",
       "\n",
       "    .dataframe tbody tr th {\n",
       "        vertical-align: top;\n",
       "    }\n",
       "\n",
       "    .dataframe thead th {\n",
       "        text-align: right;\n",
       "    }\n",
       "</style>\n",
       "<table border=\"1\" class=\"dataframe\">\n",
       "  <thead>\n",
       "    <tr style=\"text-align: right;\">\n",
       "      <th></th>\n",
       "      <th>Name</th>\n",
       "      <th>Without_Column</th>\n",
       "      <th>VIF_value</th>\n",
       "      <th>Adjusted_Rsquare</th>\n",
       "    </tr>\n",
       "  </thead>\n",
       "  <tbody>\n",
       "    <tr>\n",
       "      <th>0</th>\n",
       "      <td>Price ~ Age_08_04 + KM + HP + Quarterly_Tax + ...</td>\n",
       "      <td>Weight</td>\n",
       "      <td>543.133076</td>\n",
       "      <td>83.890213</td>\n",
       "    </tr>\n",
       "    <tr>\n",
       "      <th>1</th>\n",
       "      <td>Price ~ Age_08_04 + KM + HP + cc + Doors + Qua...</td>\n",
       "      <td>Gears</td>\n",
       "      <td>107.316771</td>\n",
       "      <td>83.806529</td>\n",
       "    </tr>\n",
       "  </tbody>\n",
       "</table>\n",
       "</div>"
      ],
      "text/plain": [
       "                                                Name Without_Column  \\\n",
       "0  Price ~ Age_08_04 + KM + HP + Quarterly_Tax + ...         Weight   \n",
       "1  Price ~ Age_08_04 + KM + HP + cc + Doors + Qua...          Gears   \n",
       "\n",
       "    VIF_value  Adjusted_Rsquare  \n",
       "0  543.133076         83.890213  \n",
       "1  107.316771         83.806529  "
      ]
     },
     "execution_count": 56,
     "metadata": {},
     "output_type": "execute_result"
    }
   ],
   "source": [
    "vif_results = vif_results.append({'Name' : 'Price ~ Age_08_04 + KM + HP + cc + Doors + Quarterly_Tax', 'Without_Column': 'Gears', 'VIF_value': vif['VIF'].max(), 'Adjusted_Rsquare' : model.rsquared_adj*100}, ignore_index = True)\n",
    "vif_results"
   ]
  },
  {
   "cell_type": "code",
   "execution_count": 57,
   "metadata": {},
   "outputs": [
    {
     "data": {
      "text/html": [
       "<div>\n",
       "<style scoped>\n",
       "    .dataframe tbody tr th:only-of-type {\n",
       "        vertical-align: middle;\n",
       "    }\n",
       "\n",
       "    .dataframe tbody tr th {\n",
       "        vertical-align: top;\n",
       "    }\n",
       "\n",
       "    .dataframe thead th {\n",
       "        text-align: right;\n",
       "    }\n",
       "</style>\n",
       "<table border=\"1\" class=\"dataframe\">\n",
       "  <thead>\n",
       "    <tr style=\"text-align: right;\">\n",
       "      <th></th>\n",
       "      <th>VIF</th>\n",
       "      <th>features</th>\n",
       "    </tr>\n",
       "  </thead>\n",
       "  <tbody>\n",
       "    <tr>\n",
       "      <th>0</th>\n",
       "      <td>13.459894</td>\n",
       "      <td>Age_08_04</td>\n",
       "    </tr>\n",
       "    <tr>\n",
       "      <th>1</th>\n",
       "      <td>7.567643</td>\n",
       "      <td>KM</td>\n",
       "    </tr>\n",
       "    <tr>\n",
       "      <th>2</th>\n",
       "      <td>25.515783</td>\n",
       "      <td>HP</td>\n",
       "    </tr>\n",
       "    <tr>\n",
       "      <th>3</th>\n",
       "      <td>16.172176</td>\n",
       "      <td>cc</td>\n",
       "    </tr>\n",
       "    <tr>\n",
       "      <th>4</th>\n",
       "      <td>17.557084</td>\n",
       "      <td>Doors</td>\n",
       "    </tr>\n",
       "    <tr>\n",
       "      <th>5</th>\n",
       "      <td>7.161328</td>\n",
       "      <td>Quarterly_Tax</td>\n",
       "    </tr>\n",
       "  </tbody>\n",
       "</table>\n",
       "</div>"
      ],
      "text/plain": [
       "         VIF       features\n",
       "0  13.459894      Age_08_04\n",
       "1   7.567643             KM\n",
       "2  25.515783             HP\n",
       "3  16.172176             cc\n",
       "4  17.557084          Doors\n",
       "5   7.161328  Quarterly_Tax"
      ]
     },
     "execution_count": 57,
     "metadata": {},
     "output_type": "execute_result"
    }
   ],
   "source": [
    "variables = df[['Age_08_04', 'KM', 'HP', 'cc', 'Doors', 'Quarterly_Tax']]\n",
    "vif = pd.DataFrame()\n",
    "vif['VIF'] = [variance_inflation_factor(variables.values,i) for i in range(variables.shape[1])]\n",
    "vif['features'] = variables.columns\n",
    "vif"
   ]
  },
  {
   "cell_type": "code",
   "execution_count": 58,
   "metadata": {},
   "outputs": [
    {
     "data": {
      "text/plain": [
       "25.5157827926114"
      ]
     },
     "execution_count": 58,
     "metadata": {},
     "output_type": "execute_result"
    }
   ],
   "source": [
    "vif['VIF'].max()"
   ]
  },
  {
   "cell_type": "markdown",
   "metadata": {},
   "source": [
    "#### Lets see without 'HP' column"
   ]
  },
  {
   "cell_type": "code",
   "execution_count": 59,
   "metadata": {},
   "outputs": [
    {
     "data": {
      "text/html": [
       "<table class=\"simpletable\">\n",
       "<caption>OLS Regression Results</caption>\n",
       "<tr>\n",
       "  <th>Dep. Variable:</th>          <td>Price</td>      <th>  R-squared:         </th> <td>   0.810</td> \n",
       "</tr>\n",
       "<tr>\n",
       "  <th>Model:</th>                   <td>OLS</td>       <th>  Adj. R-squared:    </th> <td>   0.809</td> \n",
       "</tr>\n",
       "<tr>\n",
       "  <th>Method:</th>             <td>Least Squares</td>  <th>  F-statistic:       </th> <td>   1218.</td> \n",
       "</tr>\n",
       "<tr>\n",
       "  <th>Date:</th>             <td>Wed, 11 Oct 2023</td> <th>  Prob (F-statistic):</th>  <td>  0.00</td>  \n",
       "</tr>\n",
       "<tr>\n",
       "  <th>Time:</th>                 <td>17:25:28</td>     <th>  Log-Likelihood:    </th> <td> -12615.</td> \n",
       "</tr>\n",
       "<tr>\n",
       "  <th>No. Observations:</th>      <td>  1436</td>      <th>  AIC:               </th> <td>2.524e+04</td>\n",
       "</tr>\n",
       "<tr>\n",
       "  <th>Df Residuals:</th>          <td>  1430</td>      <th>  BIC:               </th> <td>2.527e+04</td>\n",
       "</tr>\n",
       "<tr>\n",
       "  <th>Df Model:</th>              <td>     5</td>      <th>                     </th>     <td> </td>    \n",
       "</tr>\n",
       "<tr>\n",
       "  <th>Covariance Type:</th>      <td>nonrobust</td>    <th>                     </th>     <td> </td>    \n",
       "</tr>\n",
       "</table>\n",
       "<table class=\"simpletable\">\n",
       "<tr>\n",
       "        <td></td>           <th>coef</th>     <th>std err</th>      <th>t</th>      <th>P>|t|</th>  <th>[0.025</th>    <th>0.975]</th>  \n",
       "</tr>\n",
       "<tr>\n",
       "  <th>Intercept</th>     <td> 1.785e+04</td> <td>  294.598</td> <td>   60.588</td> <td> 0.000</td> <td> 1.73e+04</td> <td> 1.84e+04</td>\n",
       "</tr>\n",
       "<tr>\n",
       "  <th>Age_08_04</th>     <td> -139.4514</td> <td>    2.879</td> <td>  -48.438</td> <td> 0.000</td> <td> -145.099</td> <td> -133.804</td>\n",
       "</tr>\n",
       "<tr>\n",
       "  <th>KM</th>            <td>   -0.0238</td> <td>    0.001</td> <td>  -16.432</td> <td> 0.000</td> <td>   -0.027</td> <td>   -0.021</td>\n",
       "</tr>\n",
       "<tr>\n",
       "  <th>cc</th>            <td>    0.3237</td> <td>    0.104</td> <td>    3.116</td> <td> 0.002</td> <td>    0.120</td> <td>    0.527</td>\n",
       "</tr>\n",
       "<tr>\n",
       "  <th>Doors</th>         <td>  202.8118</td> <td>   44.589</td> <td>    4.548</td> <td> 0.000</td> <td>  115.345</td> <td>  290.278</td>\n",
       "</tr>\n",
       "<tr>\n",
       "  <th>Quarterly_Tax</th> <td>   11.3107</td> <td>    1.199</td> <td>    9.437</td> <td> 0.000</td> <td>    8.959</td> <td>   13.662</td>\n",
       "</tr>\n",
       "</table>\n",
       "<table class=\"simpletable\">\n",
       "<tr>\n",
       "  <th>Omnibus:</th>       <td>327.492</td> <th>  Durbin-Watson:     </th> <td>   1.298</td>\n",
       "</tr>\n",
       "<tr>\n",
       "  <th>Prob(Omnibus):</th> <td> 0.000</td>  <th>  Jarque-Bera (JB):  </th> <td>1692.675</td>\n",
       "</tr>\n",
       "<tr>\n",
       "  <th>Skew:</th>          <td> 0.966</td>  <th>  Prob(JB):          </th> <td>    0.00</td>\n",
       "</tr>\n",
       "<tr>\n",
       "  <th>Kurtosis:</th>      <td> 7.956</td>  <th>  Cond. No.          </th> <td>5.53e+05</td>\n",
       "</tr>\n",
       "</table><br/><br/>Warnings:<br/>[1] Standard Errors assume that the covariance matrix of the errors is correctly specified.<br/>[2] The condition number is large, 5.53e+05. This might indicate that there are<br/>strong multicollinearity or other numerical problems."
      ],
      "text/plain": [
       "<class 'statsmodels.iolib.summary.Summary'>\n",
       "\"\"\"\n",
       "                            OLS Regression Results                            \n",
       "==============================================================================\n",
       "Dep. Variable:                  Price   R-squared:                       0.810\n",
       "Model:                            OLS   Adj. R-squared:                  0.809\n",
       "Method:                 Least Squares   F-statistic:                     1218.\n",
       "Date:                Wed, 11 Oct 2023   Prob (F-statistic):               0.00\n",
       "Time:                        17:25:28   Log-Likelihood:                -12615.\n",
       "No. Observations:                1436   AIC:                         2.524e+04\n",
       "Df Residuals:                    1430   BIC:                         2.527e+04\n",
       "Df Model:                           5                                         \n",
       "Covariance Type:            nonrobust                                         \n",
       "=================================================================================\n",
       "                    coef    std err          t      P>|t|      [0.025      0.975]\n",
       "---------------------------------------------------------------------------------\n",
       "Intercept      1.785e+04    294.598     60.588      0.000    1.73e+04    1.84e+04\n",
       "Age_08_04      -139.4514      2.879    -48.438      0.000    -145.099    -133.804\n",
       "KM               -0.0238      0.001    -16.432      0.000      -0.027      -0.021\n",
       "cc                0.3237      0.104      3.116      0.002       0.120       0.527\n",
       "Doors           202.8118     44.589      4.548      0.000     115.345     290.278\n",
       "Quarterly_Tax    11.3107      1.199      9.437      0.000       8.959      13.662\n",
       "==============================================================================\n",
       "Omnibus:                      327.492   Durbin-Watson:                   1.298\n",
       "Prob(Omnibus):                  0.000   Jarque-Bera (JB):             1692.675\n",
       "Skew:                           0.966   Prob(JB):                         0.00\n",
       "Kurtosis:                       7.956   Cond. No.                     5.53e+05\n",
       "==============================================================================\n",
       "\n",
       "Warnings:\n",
       "[1] Standard Errors assume that the covariance matrix of the errors is correctly specified.\n",
       "[2] The condition number is large, 5.53e+05. This might indicate that there are\n",
       "strong multicollinearity or other numerical problems.\n",
       "\"\"\""
      ]
     },
     "execution_count": 59,
     "metadata": {},
     "output_type": "execute_result"
    }
   ],
   "source": [
    "formula = 'Price ~ Age_08_04 + KM + cc + Doors + Quarterly_Tax'\n",
    "model = smf.ols(formula, data=df).fit()\n",
    "model.summary()"
   ]
  },
  {
   "cell_type": "code",
   "execution_count": 60,
   "metadata": {},
   "outputs": [
    {
     "data": {
      "text/html": [
       "<div>\n",
       "<style scoped>\n",
       "    .dataframe tbody tr th:only-of-type {\n",
       "        vertical-align: middle;\n",
       "    }\n",
       "\n",
       "    .dataframe tbody tr th {\n",
       "        vertical-align: top;\n",
       "    }\n",
       "\n",
       "    .dataframe thead th {\n",
       "        text-align: right;\n",
       "    }\n",
       "</style>\n",
       "<table border=\"1\" class=\"dataframe\">\n",
       "  <thead>\n",
       "    <tr style=\"text-align: right;\">\n",
       "      <th></th>\n",
       "      <th>Name</th>\n",
       "      <th>Without_Column</th>\n",
       "      <th>VIF_value</th>\n",
       "      <th>Adjusted_Rsquare</th>\n",
       "    </tr>\n",
       "  </thead>\n",
       "  <tbody>\n",
       "    <tr>\n",
       "      <th>0</th>\n",
       "      <td>Price ~ Age_08_04 + KM + HP + Quarterly_Tax + ...</td>\n",
       "      <td>Weight</td>\n",
       "      <td>543.133076</td>\n",
       "      <td>83.890213</td>\n",
       "    </tr>\n",
       "    <tr>\n",
       "      <th>1</th>\n",
       "      <td>Price ~ Age_08_04 + KM + HP + cc + Doors + Qua...</td>\n",
       "      <td>Gears</td>\n",
       "      <td>107.316771</td>\n",
       "      <td>83.806529</td>\n",
       "    </tr>\n",
       "    <tr>\n",
       "      <th>2</th>\n",
       "      <td>Price ~ Age_08_04 + KM + cc + Doors + Quarterl...</td>\n",
       "      <td>HP</td>\n",
       "      <td>25.515783</td>\n",
       "      <td>80.918800</td>\n",
       "    </tr>\n",
       "  </tbody>\n",
       "</table>\n",
       "</div>"
      ],
      "text/plain": [
       "                                                Name Without_Column  \\\n",
       "0  Price ~ Age_08_04 + KM + HP + Quarterly_Tax + ...         Weight   \n",
       "1  Price ~ Age_08_04 + KM + HP + cc + Doors + Qua...          Gears   \n",
       "2  Price ~ Age_08_04 + KM + cc + Doors + Quarterl...             HP   \n",
       "\n",
       "    VIF_value  Adjusted_Rsquare  \n",
       "0  543.133076         83.890213  \n",
       "1  107.316771         83.806529  \n",
       "2   25.515783         80.918800  "
      ]
     },
     "execution_count": 60,
     "metadata": {},
     "output_type": "execute_result"
    }
   ],
   "source": [
    "vif_results = vif_results.append({'Name' : 'Price ~ Age_08_04 + KM + cc + Doors + Quarterly_Tax', 'Without_Column': 'HP', 'VIF_value': vif['VIF'].max(), 'Adjusted_Rsquare' : model.rsquared_adj*100}, ignore_index = True)\n",
    "vif_results"
   ]
  },
  {
   "cell_type": "code",
   "execution_count": 61,
   "metadata": {},
   "outputs": [
    {
     "data": {
      "text/html": [
       "<div>\n",
       "<style scoped>\n",
       "    .dataframe tbody tr th:only-of-type {\n",
       "        vertical-align: middle;\n",
       "    }\n",
       "\n",
       "    .dataframe tbody tr th {\n",
       "        vertical-align: top;\n",
       "    }\n",
       "\n",
       "    .dataframe thead th {\n",
       "        text-align: right;\n",
       "    }\n",
       "</style>\n",
       "<table border=\"1\" class=\"dataframe\">\n",
       "  <thead>\n",
       "    <tr style=\"text-align: right;\">\n",
       "      <th></th>\n",
       "      <th>VIF</th>\n",
       "      <th>features</th>\n",
       "    </tr>\n",
       "  </thead>\n",
       "  <tbody>\n",
       "    <tr>\n",
       "      <th>0</th>\n",
       "      <td>11.004997</td>\n",
       "      <td>Age_08_04</td>\n",
       "    </tr>\n",
       "    <tr>\n",
       "      <th>1</th>\n",
       "      <td>7.102056</td>\n",
       "      <td>KM</td>\n",
       "    </tr>\n",
       "    <tr>\n",
       "      <th>2</th>\n",
       "      <td>13.009825</td>\n",
       "      <td>cc</td>\n",
       "    </tr>\n",
       "    <tr>\n",
       "      <th>3</th>\n",
       "      <td>11.969207</td>\n",
       "      <td>Doors</td>\n",
       "    </tr>\n",
       "    <tr>\n",
       "      <th>4</th>\n",
       "      <td>7.161051</td>\n",
       "      <td>Quarterly_Tax</td>\n",
       "    </tr>\n",
       "  </tbody>\n",
       "</table>\n",
       "</div>"
      ],
      "text/plain": [
       "         VIF       features\n",
       "0  11.004997      Age_08_04\n",
       "1   7.102056             KM\n",
       "2  13.009825             cc\n",
       "3  11.969207          Doors\n",
       "4   7.161051  Quarterly_Tax"
      ]
     },
     "execution_count": 61,
     "metadata": {},
     "output_type": "execute_result"
    }
   ],
   "source": [
    "variables = df[['Age_08_04', 'KM', 'cc', 'Doors', 'Quarterly_Tax']]\n",
    "vif = pd.DataFrame()\n",
    "vif['VIF'] = [variance_inflation_factor(variables.values,i) for i in range(variables.shape[1])]\n",
    "vif['features'] = variables.columns\n",
    "vif"
   ]
  },
  {
   "cell_type": "code",
   "execution_count": 62,
   "metadata": {},
   "outputs": [
    {
     "data": {
      "text/plain": [
       "13.009825237739628"
      ]
     },
     "execution_count": 62,
     "metadata": {},
     "output_type": "execute_result"
    }
   ],
   "source": [
    "vif['VIF'].max()"
   ]
  },
  {
   "cell_type": "markdown",
   "metadata": {},
   "source": [
    "#### Lets see without 'cc' column"
   ]
  },
  {
   "cell_type": "code",
   "execution_count": 63,
   "metadata": {},
   "outputs": [
    {
     "data": {
      "text/html": [
       "<table class=\"simpletable\">\n",
       "<caption>OLS Regression Results</caption>\n",
       "<tr>\n",
       "  <th>Dep. Variable:</th>          <td>Price</td>      <th>  R-squared:         </th> <td>   0.809</td> \n",
       "</tr>\n",
       "<tr>\n",
       "  <th>Model:</th>                   <td>OLS</td>       <th>  Adj. R-squared:    </th> <td>   0.808</td> \n",
       "</tr>\n",
       "<tr>\n",
       "  <th>Method:</th>             <td>Least Squares</td>  <th>  F-statistic:       </th> <td>   1511.</td> \n",
       "</tr>\n",
       "<tr>\n",
       "  <th>Date:</th>             <td>Wed, 11 Oct 2023</td> <th>  Prob (F-statistic):</th>  <td>  0.00</td>  \n",
       "</tr>\n",
       "<tr>\n",
       "  <th>Time:</th>                 <td>17:25:28</td>     <th>  Log-Likelihood:    </th> <td> -12620.</td> \n",
       "</tr>\n",
       "<tr>\n",
       "  <th>No. Observations:</th>      <td>  1436</td>      <th>  AIC:               </th> <td>2.525e+04</td>\n",
       "</tr>\n",
       "<tr>\n",
       "  <th>Df Residuals:</th>          <td>  1431</td>      <th>  BIC:               </th> <td>2.528e+04</td>\n",
       "</tr>\n",
       "<tr>\n",
       "  <th>Df Model:</th>              <td>     4</td>      <th>                     </th>     <td> </td>    \n",
       "</tr>\n",
       "<tr>\n",
       "  <th>Covariance Type:</th>      <td>nonrobust</td>    <th>                     </th>     <td> </td>    \n",
       "</tr>\n",
       "</table>\n",
       "<table class=\"simpletable\">\n",
       "<tr>\n",
       "        <td></td>           <th>coef</th>     <th>std err</th>      <th>t</th>      <th>P>|t|</th>  <th>[0.025</th>    <th>0.975]</th>  \n",
       "</tr>\n",
       "<tr>\n",
       "  <th>Intercept</th>     <td> 1.827e+04</td> <td>  262.698</td> <td>   69.545</td> <td> 0.000</td> <td> 1.78e+04</td> <td> 1.88e+04</td>\n",
       "</tr>\n",
       "<tr>\n",
       "  <th>Age_08_04</th>     <td> -139.9762</td> <td>    2.883</td> <td>  -48.557</td> <td> 0.000</td> <td> -145.631</td> <td> -134.321</td>\n",
       "</tr>\n",
       "<tr>\n",
       "  <th>KM</th>            <td>   -0.0235</td> <td>    0.001</td> <td>  -16.241</td> <td> 0.000</td> <td>   -0.026</td> <td>   -0.021</td>\n",
       "</tr>\n",
       "<tr>\n",
       "  <th>Doors</th>         <td>  208.8905</td> <td>   44.681</td> <td>    4.675</td> <td> 0.000</td> <td>  121.242</td> <td>  296.539</td>\n",
       "</tr>\n",
       "<tr>\n",
       "  <th>Quarterly_Tax</th> <td>   12.2130</td> <td>    1.167</td> <td>   10.469</td> <td> 0.000</td> <td>    9.925</td> <td>   14.501</td>\n",
       "</tr>\n",
       "</table>\n",
       "<table class=\"simpletable\">\n",
       "<tr>\n",
       "  <th>Omnibus:</th>       <td>328.014</td> <th>  Durbin-Watson:     </th> <td>   1.301</td>\n",
       "</tr>\n",
       "<tr>\n",
       "  <th>Prob(Omnibus):</th> <td> 0.000</td>  <th>  Jarque-Bera (JB):  </th> <td>1654.024</td>\n",
       "</tr>\n",
       "<tr>\n",
       "  <th>Skew:</th>          <td> 0.975</td>  <th>  Prob(JB):          </th> <td>    0.00</td>\n",
       "</tr>\n",
       "<tr>\n",
       "  <th>Kurtosis:</th>      <td> 7.883</td>  <th>  Cond. No.          </th> <td>4.93e+05</td>\n",
       "</tr>\n",
       "</table><br/><br/>Warnings:<br/>[1] Standard Errors assume that the covariance matrix of the errors is correctly specified.<br/>[2] The condition number is large, 4.93e+05. This might indicate that there are<br/>strong multicollinearity or other numerical problems."
      ],
      "text/plain": [
       "<class 'statsmodels.iolib.summary.Summary'>\n",
       "\"\"\"\n",
       "                            OLS Regression Results                            \n",
       "==============================================================================\n",
       "Dep. Variable:                  Price   R-squared:                       0.809\n",
       "Model:                            OLS   Adj. R-squared:                  0.808\n",
       "Method:                 Least Squares   F-statistic:                     1511.\n",
       "Date:                Wed, 11 Oct 2023   Prob (F-statistic):               0.00\n",
       "Time:                        17:25:28   Log-Likelihood:                -12620.\n",
       "No. Observations:                1436   AIC:                         2.525e+04\n",
       "Df Residuals:                    1431   BIC:                         2.528e+04\n",
       "Df Model:                           4                                         \n",
       "Covariance Type:            nonrobust                                         \n",
       "=================================================================================\n",
       "                    coef    std err          t      P>|t|      [0.025      0.975]\n",
       "---------------------------------------------------------------------------------\n",
       "Intercept      1.827e+04    262.698     69.545      0.000    1.78e+04    1.88e+04\n",
       "Age_08_04      -139.9762      2.883    -48.557      0.000    -145.631    -134.321\n",
       "KM               -0.0235      0.001    -16.241      0.000      -0.026      -0.021\n",
       "Doors           208.8905     44.681      4.675      0.000     121.242     296.539\n",
       "Quarterly_Tax    12.2130      1.167     10.469      0.000       9.925      14.501\n",
       "==============================================================================\n",
       "Omnibus:                      328.014   Durbin-Watson:                   1.301\n",
       "Prob(Omnibus):                  0.000   Jarque-Bera (JB):             1654.024\n",
       "Skew:                           0.975   Prob(JB):                         0.00\n",
       "Kurtosis:                       7.883   Cond. No.                     4.93e+05\n",
       "==============================================================================\n",
       "\n",
       "Warnings:\n",
       "[1] Standard Errors assume that the covariance matrix of the errors is correctly specified.\n",
       "[2] The condition number is large, 4.93e+05. This might indicate that there are\n",
       "strong multicollinearity or other numerical problems.\n",
       "\"\"\""
      ]
     },
     "execution_count": 63,
     "metadata": {},
     "output_type": "execute_result"
    }
   ],
   "source": [
    "formula = 'Price ~ Age_08_04 + KM + Doors + Quarterly_Tax'\n",
    "model = smf.ols(formula, data=df).fit()\n",
    "model.summary()"
   ]
  },
  {
   "cell_type": "code",
   "execution_count": 64,
   "metadata": {},
   "outputs": [
    {
     "data": {
      "text/html": [
       "<div>\n",
       "<style scoped>\n",
       "    .dataframe tbody tr th:only-of-type {\n",
       "        vertical-align: middle;\n",
       "    }\n",
       "\n",
       "    .dataframe tbody tr th {\n",
       "        vertical-align: top;\n",
       "    }\n",
       "\n",
       "    .dataframe thead th {\n",
       "        text-align: right;\n",
       "    }\n",
       "</style>\n",
       "<table border=\"1\" class=\"dataframe\">\n",
       "  <thead>\n",
       "    <tr style=\"text-align: right;\">\n",
       "      <th></th>\n",
       "      <th>Name</th>\n",
       "      <th>Without_Column</th>\n",
       "      <th>VIF_value</th>\n",
       "      <th>Adjusted_Rsquare</th>\n",
       "    </tr>\n",
       "  </thead>\n",
       "  <tbody>\n",
       "    <tr>\n",
       "      <th>0</th>\n",
       "      <td>Price ~ Age_08_04 + KM + HP + Quarterly_Tax + ...</td>\n",
       "      <td>Weight</td>\n",
       "      <td>543.133076</td>\n",
       "      <td>83.890213</td>\n",
       "    </tr>\n",
       "    <tr>\n",
       "      <th>1</th>\n",
       "      <td>Price ~ Age_08_04 + KM + HP + cc + Doors + Qua...</td>\n",
       "      <td>Gears</td>\n",
       "      <td>107.316771</td>\n",
       "      <td>83.806529</td>\n",
       "    </tr>\n",
       "    <tr>\n",
       "      <th>2</th>\n",
       "      <td>Price ~ Age_08_04 + KM + cc + Doors + Quarterl...</td>\n",
       "      <td>HP</td>\n",
       "      <td>25.515783</td>\n",
       "      <td>80.918800</td>\n",
       "    </tr>\n",
       "    <tr>\n",
       "      <th>3</th>\n",
       "      <td>Price ~ Age_08_04 + KM + Doors + Quarterly_Tax</td>\n",
       "      <td>cc</td>\n",
       "      <td>13.009825</td>\n",
       "      <td>80.802691</td>\n",
       "    </tr>\n",
       "  </tbody>\n",
       "</table>\n",
       "</div>"
      ],
      "text/plain": [
       "                                                Name Without_Column  \\\n",
       "0  Price ~ Age_08_04 + KM + HP + Quarterly_Tax + ...         Weight   \n",
       "1  Price ~ Age_08_04 + KM + HP + cc + Doors + Qua...          Gears   \n",
       "2  Price ~ Age_08_04 + KM + cc + Doors + Quarterl...             HP   \n",
       "3     Price ~ Age_08_04 + KM + Doors + Quarterly_Tax             cc   \n",
       "\n",
       "    VIF_value  Adjusted_Rsquare  \n",
       "0  543.133076         83.890213  \n",
       "1  107.316771         83.806529  \n",
       "2   25.515783         80.918800  \n",
       "3   13.009825         80.802691  "
      ]
     },
     "execution_count": 64,
     "metadata": {},
     "output_type": "execute_result"
    }
   ],
   "source": [
    "vif_results = vif_results.append({'Name' : 'Price ~ Age_08_04 + KM + Doors + Quarterly_Tax', 'Without_Column': 'cc', 'VIF_value': vif['VIF'].max(), 'Adjusted_Rsquare' : model.rsquared_adj*100}, ignore_index = True)\n",
    "vif_results"
   ]
  },
  {
   "cell_type": "code",
   "execution_count": 65,
   "metadata": {},
   "outputs": [
    {
     "data": {
      "text/html": [
       "<div>\n",
       "<style scoped>\n",
       "    .dataframe tbody tr th:only-of-type {\n",
       "        vertical-align: middle;\n",
       "    }\n",
       "\n",
       "    .dataframe tbody tr th {\n",
       "        vertical-align: top;\n",
       "    }\n",
       "\n",
       "    .dataframe thead th {\n",
       "        text-align: right;\n",
       "    }\n",
       "</style>\n",
       "<table border=\"1\" class=\"dataframe\">\n",
       "  <thead>\n",
       "    <tr style=\"text-align: right;\">\n",
       "      <th></th>\n",
       "      <th>VIF</th>\n",
       "      <th>features</th>\n",
       "    </tr>\n",
       "  </thead>\n",
       "  <tbody>\n",
       "    <tr>\n",
       "      <th>0</th>\n",
       "      <td>10.125084</td>\n",
       "      <td>Age_08_04</td>\n",
       "    </tr>\n",
       "    <tr>\n",
       "      <th>1</th>\n",
       "      <td>7.096095</td>\n",
       "      <td>KM</td>\n",
       "    </tr>\n",
       "    <tr>\n",
       "      <th>2</th>\n",
       "      <td>9.298469</td>\n",
       "      <td>Doors</td>\n",
       "    </tr>\n",
       "    <tr>\n",
       "      <th>3</th>\n",
       "      <td>5.945611</td>\n",
       "      <td>Quarterly_Tax</td>\n",
       "    </tr>\n",
       "  </tbody>\n",
       "</table>\n",
       "</div>"
      ],
      "text/plain": [
       "         VIF       features\n",
       "0  10.125084      Age_08_04\n",
       "1   7.096095             KM\n",
       "2   9.298469          Doors\n",
       "3   5.945611  Quarterly_Tax"
      ]
     },
     "execution_count": 65,
     "metadata": {},
     "output_type": "execute_result"
    }
   ],
   "source": [
    "variables = df[['Age_08_04', 'KM', 'Doors', 'Quarterly_Tax']]\n",
    "vif = pd.DataFrame()\n",
    "vif['VIF'] = [variance_inflation_factor(variables.values,i) for i in range(variables.shape[1])]\n",
    "vif['features'] = variables.columns\n",
    "vif"
   ]
  },
  {
   "cell_type": "code",
   "execution_count": 66,
   "metadata": {},
   "outputs": [
    {
     "data": {
      "text/plain": [
       "10.125083890719766"
      ]
     },
     "execution_count": 66,
     "metadata": {},
     "output_type": "execute_result"
    }
   ],
   "source": [
    "vif['VIF'].max()"
   ]
  },
  {
   "cell_type": "markdown",
   "metadata": {},
   "source": [
    "#### Lets see without 'Age_08_04' column"
   ]
  },
  {
   "cell_type": "code",
   "execution_count": 67,
   "metadata": {},
   "outputs": [
    {
     "data": {
      "text/html": [
       "<table class=\"simpletable\">\n",
       "<caption>OLS Regression Results</caption>\n",
       "<tr>\n",
       "  <th>Dep. Variable:</th>          <td>Price</td>      <th>  R-squared:         </th> <td>   0.493</td> \n",
       "</tr>\n",
       "<tr>\n",
       "  <th>Model:</th>                   <td>OLS</td>       <th>  Adj. R-squared:    </th> <td>   0.492</td> \n",
       "</tr>\n",
       "<tr>\n",
       "  <th>Method:</th>             <td>Least Squares</td>  <th>  F-statistic:       </th> <td>   464.4</td> \n",
       "</tr>\n",
       "<tr>\n",
       "  <th>Date:</th>             <td>Wed, 11 Oct 2023</td> <th>  Prob (F-statistic):</th> <td>1.05e-210</td>\n",
       "</tr>\n",
       "<tr>\n",
       "  <th>Time:</th>                 <td>17:25:28</td>     <th>  Log-Likelihood:    </th> <td> -13319.</td> \n",
       "</tr>\n",
       "<tr>\n",
       "  <th>No. Observations:</th>      <td>  1436</td>      <th>  AIC:               </th> <td>2.665e+04</td>\n",
       "</tr>\n",
       "<tr>\n",
       "  <th>Df Residuals:</th>          <td>  1432</td>      <th>  BIC:               </th> <td>2.667e+04</td>\n",
       "</tr>\n",
       "<tr>\n",
       "  <th>Df Model:</th>              <td>     3</td>      <th>                     </th>     <td> </td>    \n",
       "</tr>\n",
       "<tr>\n",
       "  <th>Covariance Type:</th>      <td>nonrobust</td>    <th>                     </th>     <td> </td>    \n",
       "</tr>\n",
       "</table>\n",
       "<table class=\"simpletable\">\n",
       "<tr>\n",
       "        <td></td>           <th>coef</th>     <th>std err</th>      <th>t</th>      <th>P>|t|</th>  <th>[0.025</th>    <th>0.975]</th>  \n",
       "</tr>\n",
       "<tr>\n",
       "  <th>Intercept</th>     <td> 1.037e+04</td> <td>  335.494</td> <td>   30.909</td> <td> 0.000</td> <td> 9711.517</td> <td>  1.1e+04</td>\n",
       "</tr>\n",
       "<tr>\n",
       "  <th>KM</th>            <td>   -0.0653</td> <td>    0.002</td> <td>  -34.396</td> <td> 0.000</td> <td>   -0.069</td> <td>   -0.062</td>\n",
       "</tr>\n",
       "<tr>\n",
       "  <th>Doors</th>         <td>  448.3749</td> <td>   72.234</td> <td>    6.207</td> <td> 0.000</td> <td>  306.680</td> <td>  590.070</td>\n",
       "</tr>\n",
       "<tr>\n",
       "  <th>Quarterly_Tax</th> <td>   34.7605</td> <td>    1.741</td> <td>   19.968</td> <td> 0.000</td> <td>   31.346</td> <td>   38.175</td>\n",
       "</tr>\n",
       "</table>\n",
       "<table class=\"simpletable\">\n",
       "<tr>\n",
       "  <th>Omnibus:</th>       <td>193.463</td> <th>  Durbin-Watson:     </th> <td>   0.680</td>\n",
       "</tr>\n",
       "<tr>\n",
       "  <th>Prob(Omnibus):</th> <td> 0.000</td>  <th>  Jarque-Bera (JB):  </th> <td> 311.588</td>\n",
       "</tr>\n",
       "<tr>\n",
       "  <th>Skew:</th>          <td> 0.907</td>  <th>  Prob(JB):          </th> <td>2.19e-68</td>\n",
       "</tr>\n",
       "<tr>\n",
       "  <th>Kurtosis:</th>      <td> 4.386</td>  <th>  Cond. No.          </th> <td>3.91e+05</td>\n",
       "</tr>\n",
       "</table><br/><br/>Warnings:<br/>[1] Standard Errors assume that the covariance matrix of the errors is correctly specified.<br/>[2] The condition number is large, 3.91e+05. This might indicate that there are<br/>strong multicollinearity or other numerical problems."
      ],
      "text/plain": [
       "<class 'statsmodels.iolib.summary.Summary'>\n",
       "\"\"\"\n",
       "                            OLS Regression Results                            \n",
       "==============================================================================\n",
       "Dep. Variable:                  Price   R-squared:                       0.493\n",
       "Model:                            OLS   Adj. R-squared:                  0.492\n",
       "Method:                 Least Squares   F-statistic:                     464.4\n",
       "Date:                Wed, 11 Oct 2023   Prob (F-statistic):          1.05e-210\n",
       "Time:                        17:25:28   Log-Likelihood:                -13319.\n",
       "No. Observations:                1436   AIC:                         2.665e+04\n",
       "Df Residuals:                    1432   BIC:                         2.667e+04\n",
       "Df Model:                           3                                         \n",
       "Covariance Type:            nonrobust                                         \n",
       "=================================================================================\n",
       "                    coef    std err          t      P>|t|      [0.025      0.975]\n",
       "---------------------------------------------------------------------------------\n",
       "Intercept      1.037e+04    335.494     30.909      0.000    9711.517     1.1e+04\n",
       "KM               -0.0653      0.002    -34.396      0.000      -0.069      -0.062\n",
       "Doors           448.3749     72.234      6.207      0.000     306.680     590.070\n",
       "Quarterly_Tax    34.7605      1.741     19.968      0.000      31.346      38.175\n",
       "==============================================================================\n",
       "Omnibus:                      193.463   Durbin-Watson:                   0.680\n",
       "Prob(Omnibus):                  0.000   Jarque-Bera (JB):              311.588\n",
       "Skew:                           0.907   Prob(JB):                     2.19e-68\n",
       "Kurtosis:                       4.386   Cond. No.                     3.91e+05\n",
       "==============================================================================\n",
       "\n",
       "Warnings:\n",
       "[1] Standard Errors assume that the covariance matrix of the errors is correctly specified.\n",
       "[2] The condition number is large, 3.91e+05. This might indicate that there are\n",
       "strong multicollinearity or other numerical problems.\n",
       "\"\"\""
      ]
     },
     "execution_count": 67,
     "metadata": {},
     "output_type": "execute_result"
    }
   ],
   "source": [
    "formula = 'Price ~ KM + Doors + Quarterly_Tax'\n",
    "model = smf.ols(formula, data=df).fit()\n",
    "model.summary()"
   ]
  },
  {
   "cell_type": "code",
   "execution_count": 68,
   "metadata": {},
   "outputs": [
    {
     "data": {
      "text/html": [
       "<div>\n",
       "<style scoped>\n",
       "    .dataframe tbody tr th:only-of-type {\n",
       "        vertical-align: middle;\n",
       "    }\n",
       "\n",
       "    .dataframe tbody tr th {\n",
       "        vertical-align: top;\n",
       "    }\n",
       "\n",
       "    .dataframe thead th {\n",
       "        text-align: right;\n",
       "    }\n",
       "</style>\n",
       "<table border=\"1\" class=\"dataframe\">\n",
       "  <thead>\n",
       "    <tr style=\"text-align: right;\">\n",
       "      <th></th>\n",
       "      <th>Name</th>\n",
       "      <th>Without_Column</th>\n",
       "      <th>VIF_value</th>\n",
       "      <th>Adjusted_Rsquare</th>\n",
       "    </tr>\n",
       "  </thead>\n",
       "  <tbody>\n",
       "    <tr>\n",
       "      <th>0</th>\n",
       "      <td>Price ~ Age_08_04 + KM + HP + Quarterly_Tax + ...</td>\n",
       "      <td>Weight</td>\n",
       "      <td>543.133076</td>\n",
       "      <td>83.890213</td>\n",
       "    </tr>\n",
       "    <tr>\n",
       "      <th>1</th>\n",
       "      <td>Price ~ Age_08_04 + KM + HP + cc + Doors + Qua...</td>\n",
       "      <td>Gears</td>\n",
       "      <td>107.316771</td>\n",
       "      <td>83.806529</td>\n",
       "    </tr>\n",
       "    <tr>\n",
       "      <th>2</th>\n",
       "      <td>Price ~ Age_08_04 + KM + cc + Doors + Quarterl...</td>\n",
       "      <td>HP</td>\n",
       "      <td>25.515783</td>\n",
       "      <td>80.918800</td>\n",
       "    </tr>\n",
       "    <tr>\n",
       "      <th>3</th>\n",
       "      <td>Price ~ Age_08_04 + KM + Doors + Quarterly_Tax</td>\n",
       "      <td>cc</td>\n",
       "      <td>13.009825</td>\n",
       "      <td>80.802691</td>\n",
       "    </tr>\n",
       "    <tr>\n",
       "      <th>4</th>\n",
       "      <td>Price ~ KM + Doors + Quarterly_Tax</td>\n",
       "      <td>Age_08_04</td>\n",
       "      <td>10.125084</td>\n",
       "      <td>49.208418</td>\n",
       "    </tr>\n",
       "  </tbody>\n",
       "</table>\n",
       "</div>"
      ],
      "text/plain": [
       "                                                Name Without_Column  \\\n",
       "0  Price ~ Age_08_04 + KM + HP + Quarterly_Tax + ...         Weight   \n",
       "1  Price ~ Age_08_04 + KM + HP + cc + Doors + Qua...          Gears   \n",
       "2  Price ~ Age_08_04 + KM + cc + Doors + Quarterl...             HP   \n",
       "3     Price ~ Age_08_04 + KM + Doors + Quarterly_Tax             cc   \n",
       "4                 Price ~ KM + Doors + Quarterly_Tax      Age_08_04   \n",
       "\n",
       "    VIF_value  Adjusted_Rsquare  \n",
       "0  543.133076         83.890213  \n",
       "1  107.316771         83.806529  \n",
       "2   25.515783         80.918800  \n",
       "3   13.009825         80.802691  \n",
       "4   10.125084         49.208418  "
      ]
     },
     "execution_count": 68,
     "metadata": {},
     "output_type": "execute_result"
    }
   ],
   "source": [
    "vif_results = vif_results.append({'Name' : 'Price ~ KM + Doors + Quarterly_Tax', 'Without_Column': 'Age_08_04', 'VIF_value': vif['VIF'].max(), 'Adjusted_Rsquare' : model.rsquared_adj*100}, ignore_index = True)\n",
    "vif_results"
   ]
  },
  {
   "cell_type": "code",
   "execution_count": 69,
   "metadata": {},
   "outputs": [
    {
     "data": {
      "text/html": [
       "<div>\n",
       "<style scoped>\n",
       "    .dataframe tbody tr th:only-of-type {\n",
       "        vertical-align: middle;\n",
       "    }\n",
       "\n",
       "    .dataframe tbody tr th {\n",
       "        vertical-align: top;\n",
       "    }\n",
       "\n",
       "    .dataframe thead th {\n",
       "        text-align: right;\n",
       "    }\n",
       "</style>\n",
       "<table border=\"1\" class=\"dataframe\">\n",
       "  <thead>\n",
       "    <tr style=\"text-align: right;\">\n",
       "      <th></th>\n",
       "      <th>VIF</th>\n",
       "      <th>features</th>\n",
       "    </tr>\n",
       "  </thead>\n",
       "  <tbody>\n",
       "    <tr>\n",
       "      <th>0</th>\n",
       "      <td>4.243863</td>\n",
       "      <td>KM</td>\n",
       "    </tr>\n",
       "    <tr>\n",
       "      <th>1</th>\n",
       "      <td>5.694925</td>\n",
       "      <td>Doors</td>\n",
       "    </tr>\n",
       "    <tr>\n",
       "      <th>2</th>\n",
       "      <td>5.713779</td>\n",
       "      <td>Quarterly_Tax</td>\n",
       "    </tr>\n",
       "  </tbody>\n",
       "</table>\n",
       "</div>"
      ],
      "text/plain": [
       "        VIF       features\n",
       "0  4.243863             KM\n",
       "1  5.694925          Doors\n",
       "2  5.713779  Quarterly_Tax"
      ]
     },
     "execution_count": 69,
     "metadata": {},
     "output_type": "execute_result"
    }
   ],
   "source": [
    "variables = df[['KM', 'Doors', 'Quarterly_Tax']]\n",
    "vif = pd.DataFrame()\n",
    "vif['VIF'] = [variance_inflation_factor(variables.values,i) for i in range(variables.shape[1])]\n",
    "vif['features'] = variables.columns\n",
    "vif"
   ]
  },
  {
   "cell_type": "code",
   "execution_count": 70,
   "metadata": {},
   "outputs": [
    {
     "data": {
      "text/html": [
       "<div>\n",
       "<style scoped>\n",
       "    .dataframe tbody tr th:only-of-type {\n",
       "        vertical-align: middle;\n",
       "    }\n",
       "\n",
       "    .dataframe tbody tr th {\n",
       "        vertical-align: top;\n",
       "    }\n",
       "\n",
       "    .dataframe thead th {\n",
       "        text-align: right;\n",
       "    }\n",
       "</style>\n",
       "<table border=\"1\" class=\"dataframe\">\n",
       "  <thead>\n",
       "    <tr style=\"text-align: right;\">\n",
       "      <th></th>\n",
       "      <th>Name</th>\n",
       "      <th>Train_Result</th>\n",
       "      <th>Test_Result</th>\n",
       "    </tr>\n",
       "  </thead>\n",
       "  <tbody>\n",
       "  </tbody>\n",
       "</table>\n",
       "</div>"
      ],
      "text/plain": [
       "Empty DataFrame\n",
       "Columns: [Name, Train_Result, Test_Result]\n",
       "Index: []"
      ]
     },
     "execution_count": 70,
     "metadata": {},
     "output_type": "execute_result"
    }
   ],
   "source": [
    "final_results = pd.DataFrame(columns=['Name', 'Train_Result', 'Test_Result'])\n",
    "final_results"
   ]
  },
  {
   "cell_type": "code",
   "execution_count": 71,
   "metadata": {},
   "outputs": [],
   "source": [
    "from sklearn.linear_model import LinearRegression\n",
    "from sklearn.model_selection import train_test_split"
   ]
  },
  {
   "cell_type": "markdown",
   "metadata": {},
   "source": [
    "## Let's take just top 4 correlated columns for algorithm"
   ]
  },
  {
   "cell_type": "code",
   "execution_count": 72,
   "metadata": {},
   "outputs": [
    {
     "data": {
      "text/html": [
       "<div>\n",
       "<style scoped>\n",
       "    .dataframe tbody tr th:only-of-type {\n",
       "        vertical-align: middle;\n",
       "    }\n",
       "\n",
       "    .dataframe tbody tr th {\n",
       "        vertical-align: top;\n",
       "    }\n",
       "\n",
       "    .dataframe thead th {\n",
       "        text-align: right;\n",
       "    }\n",
       "</style>\n",
       "<table border=\"1\" class=\"dataframe\">\n",
       "  <thead>\n",
       "    <tr style=\"text-align: right;\">\n",
       "      <th></th>\n",
       "      <th>Name</th>\n",
       "      <th>Adjusted_Rsquare</th>\n",
       "    </tr>\n",
       "  </thead>\n",
       "  <tbody>\n",
       "    <tr>\n",
       "      <th>0</th>\n",
       "      <td>Price ~ Age_08_04</td>\n",
       "      <td>76.824940</td>\n",
       "    </tr>\n",
       "    <tr>\n",
       "      <th>1</th>\n",
       "      <td>Price ~ Weight</td>\n",
       "      <td>33.732885</td>\n",
       "    </tr>\n",
       "    <tr>\n",
       "      <th>2</th>\n",
       "      <td>Price ~ KM</td>\n",
       "      <td>32.438378</td>\n",
       "    </tr>\n",
       "    <tr>\n",
       "      <th>3</th>\n",
       "      <td>Price ~ HP</td>\n",
       "      <td>9.859043</td>\n",
       "    </tr>\n",
       "    <tr>\n",
       "      <th>4</th>\n",
       "      <td>Price ~ Quarterly_Tax</td>\n",
       "      <td>4.738344</td>\n",
       "    </tr>\n",
       "    <tr>\n",
       "      <th>5</th>\n",
       "      <td>Price ~ Doors</td>\n",
       "      <td>3.367216</td>\n",
       "    </tr>\n",
       "    <tr>\n",
       "      <th>6</th>\n",
       "      <td>Price ~ cc</td>\n",
       "      <td>1.528802</td>\n",
       "    </tr>\n",
       "    <tr>\n",
       "      <th>7</th>\n",
       "      <td>Price ~ Gears</td>\n",
       "      <td>0.328752</td>\n",
       "    </tr>\n",
       "  </tbody>\n",
       "</table>\n",
       "</div>"
      ],
      "text/plain": [
       "                    Name  Adjusted_Rsquare\n",
       "0      Price ~ Age_08_04         76.824940\n",
       "1         Price ~ Weight         33.732885\n",
       "2             Price ~ KM         32.438378\n",
       "3             Price ~ HP          9.859043\n",
       "4  Price ~ Quarterly_Tax          4.738344\n",
       "5          Price ~ Doors          3.367216\n",
       "6             Price ~ cc          1.528802\n",
       "7          Price ~ Gears          0.328752"
      ]
     },
     "execution_count": 72,
     "metadata": {},
     "output_type": "execute_result"
    }
   ],
   "source": [
    "individual_rsquared_adj"
   ]
  },
  {
   "cell_type": "markdown",
   "metadata": {},
   "source": [
    "## 'Age_08_04' 'Weight' 'KM' 'HP' "
   ]
  },
  {
   "cell_type": "markdown",
   "metadata": {},
   "source": [
    "# Normal Transformation"
   ]
  },
  {
   "cell_type": "code",
   "execution_count": 73,
   "metadata": {},
   "outputs": [],
   "source": [
    "X = df[['Age_08_04', 'Weight', 'KM', 'HP']]\n",
    "y = df[['Price']]"
   ]
  },
  {
   "cell_type": "code",
   "execution_count": 74,
   "metadata": {},
   "outputs": [
    {
     "data": {
      "text/html": [
       "<div>\n",
       "<style scoped>\n",
       "    .dataframe tbody tr th:only-of-type {\n",
       "        vertical-align: middle;\n",
       "    }\n",
       "\n",
       "    .dataframe tbody tr th {\n",
       "        vertical-align: top;\n",
       "    }\n",
       "\n",
       "    .dataframe thead th {\n",
       "        text-align: right;\n",
       "    }\n",
       "</style>\n",
       "<table border=\"1\" class=\"dataframe\">\n",
       "  <thead>\n",
       "    <tr style=\"text-align: right;\">\n",
       "      <th></th>\n",
       "      <th>Age_08_04</th>\n",
       "      <th>Weight</th>\n",
       "      <th>KM</th>\n",
       "      <th>HP</th>\n",
       "    </tr>\n",
       "  </thead>\n",
       "  <tbody>\n",
       "    <tr>\n",
       "      <th>0</th>\n",
       "      <td>23</td>\n",
       "      <td>1165</td>\n",
       "      <td>46986</td>\n",
       "      <td>90</td>\n",
       "    </tr>\n",
       "    <tr>\n",
       "      <th>1</th>\n",
       "      <td>23</td>\n",
       "      <td>1165</td>\n",
       "      <td>72937</td>\n",
       "      <td>90</td>\n",
       "    </tr>\n",
       "    <tr>\n",
       "      <th>2</th>\n",
       "      <td>24</td>\n",
       "      <td>1165</td>\n",
       "      <td>41711</td>\n",
       "      <td>90</td>\n",
       "    </tr>\n",
       "    <tr>\n",
       "      <th>3</th>\n",
       "      <td>26</td>\n",
       "      <td>1165</td>\n",
       "      <td>48000</td>\n",
       "      <td>90</td>\n",
       "    </tr>\n",
       "    <tr>\n",
       "      <th>4</th>\n",
       "      <td>30</td>\n",
       "      <td>1170</td>\n",
       "      <td>38500</td>\n",
       "      <td>90</td>\n",
       "    </tr>\n",
       "  </tbody>\n",
       "</table>\n",
       "</div>"
      ],
      "text/plain": [
       "   Age_08_04  Weight     KM  HP\n",
       "0         23    1165  46986  90\n",
       "1         23    1165  72937  90\n",
       "2         24    1165  41711  90\n",
       "3         26    1165  48000  90\n",
       "4         30    1170  38500  90"
      ]
     },
     "execution_count": 74,
     "metadata": {},
     "output_type": "execute_result"
    }
   ],
   "source": [
    "X.head()"
   ]
  },
  {
   "cell_type": "code",
   "execution_count": 75,
   "metadata": {},
   "outputs": [
    {
     "data": {
      "text/html": [
       "<div>\n",
       "<style scoped>\n",
       "    .dataframe tbody tr th:only-of-type {\n",
       "        vertical-align: middle;\n",
       "    }\n",
       "\n",
       "    .dataframe tbody tr th {\n",
       "        vertical-align: top;\n",
       "    }\n",
       "\n",
       "    .dataframe thead th {\n",
       "        text-align: right;\n",
       "    }\n",
       "</style>\n",
       "<table border=\"1\" class=\"dataframe\">\n",
       "  <thead>\n",
       "    <tr style=\"text-align: right;\">\n",
       "      <th></th>\n",
       "      <th>Price</th>\n",
       "    </tr>\n",
       "  </thead>\n",
       "  <tbody>\n",
       "    <tr>\n",
       "      <th>0</th>\n",
       "      <td>13500</td>\n",
       "    </tr>\n",
       "    <tr>\n",
       "      <th>1</th>\n",
       "      <td>13750</td>\n",
       "    </tr>\n",
       "    <tr>\n",
       "      <th>2</th>\n",
       "      <td>13950</td>\n",
       "    </tr>\n",
       "    <tr>\n",
       "      <th>3</th>\n",
       "      <td>14950</td>\n",
       "    </tr>\n",
       "    <tr>\n",
       "      <th>4</th>\n",
       "      <td>13750</td>\n",
       "    </tr>\n",
       "  </tbody>\n",
       "</table>\n",
       "</div>"
      ],
      "text/plain": [
       "   Price\n",
       "0  13500\n",
       "1  13750\n",
       "2  13950\n",
       "3  14950\n",
       "4  13750"
      ]
     },
     "execution_count": 75,
     "metadata": {},
     "output_type": "execute_result"
    }
   ],
   "source": [
    "y.head()"
   ]
  },
  {
   "cell_type": "code",
   "execution_count": 76,
   "metadata": {},
   "outputs": [],
   "source": [
    "X_train, X_test, y_train, y_test = train_test_split(X, y, test_size=0.30, random_state=25)"
   ]
  },
  {
   "cell_type": "code",
   "execution_count": 77,
   "metadata": {},
   "outputs": [
    {
     "name": "stdout",
     "output_type": "stream",
     "text": [
      "(1005, 4) (431, 4) (1005, 1) (431, 1)\n"
     ]
    }
   ],
   "source": [
    "print(X_train.shape, X_test.shape, y_train.shape, y_test.shape)"
   ]
  },
  {
   "cell_type": "code",
   "execution_count": 78,
   "metadata": {},
   "outputs": [
    {
     "data": {
      "text/plain": [
       "LinearRegression()"
      ]
     },
     "execution_count": 78,
     "metadata": {},
     "output_type": "execute_result"
    }
   ],
   "source": [
    "multiLR_model= LinearRegression()\n",
    "multiLR_model.fit(X_train, y_train)"
   ]
  },
  {
   "cell_type": "code",
   "execution_count": 79,
   "metadata": {},
   "outputs": [
    {
     "data": {
      "text/plain": [
       "array([[-1.15402566e+02,  2.24965894e+01, -2.15938033e-02,\n",
       "         2.76296224e+01]])"
      ]
     },
     "execution_count": 79,
     "metadata": {},
     "output_type": "execute_result"
    }
   ],
   "source": [
    "multiLR_model.coef_"
   ]
  },
  {
   "cell_type": "code",
   "execution_count": 80,
   "metadata": {},
   "outputs": [
    {
     "data": {
      "text/plain": [
       "Index(['Age_08_04', 'Weight', 'KM', 'HP'], dtype='object')"
      ]
     },
     "execution_count": 80,
     "metadata": {},
     "output_type": "execute_result"
    }
   ],
   "source": [
    "X_train.columns"
   ]
  },
  {
   "cell_type": "code",
   "execution_count": 81,
   "metadata": {},
   "outputs": [
    {
     "data": {
      "text/plain": [
       "<enumerate at 0x21ac60af4a8>"
      ]
     },
     "execution_count": 81,
     "metadata": {},
     "output_type": "execute_result"
    }
   ],
   "source": [
    "enumerate(X_train.columns)"
   ]
  },
  {
   "cell_type": "code",
   "execution_count": 82,
   "metadata": {},
   "outputs": [
    {
     "name": "stdout",
     "output_type": "stream",
     "text": [
      "The coefficient for Age_08_04 is -115.4025655736333\n",
      "The coefficient for Weight is 22.496589379190006\n",
      "The coefficient for KM is -0.0215938033224338\n",
      "The coefficient for HP is 27.629622388499865\n"
     ]
    }
   ],
   "source": [
    "for idx, col_name in enumerate(X_train.columns):\n",
    "    print('The coefficient for {} is {}'.format(col_name, multiLR_model.coef_[0][idx]))"
   ]
  },
  {
   "cell_type": "code",
   "execution_count": 83,
   "metadata": {},
   "outputs": [
    {
     "data": {
      "text/plain": [
       "array([-8288.08935253])"
      ]
     },
     "execution_count": 83,
     "metadata": {},
     "output_type": "execute_result"
    }
   ],
   "source": [
    "multiLR_model.intercept_"
   ]
  },
  {
   "cell_type": "code",
   "execution_count": 84,
   "metadata": {},
   "outputs": [
    {
     "data": {
      "text/plain": [
       "-8288.089352525272"
      ]
     },
     "execution_count": 84,
     "metadata": {},
     "output_type": "execute_result"
    }
   ],
   "source": [
    "multiLR_model.intercept_[0]"
   ]
  },
  {
   "cell_type": "code",
   "execution_count": 85,
   "metadata": {},
   "outputs": [
    {
     "name": "stdout",
     "output_type": "stream",
     "text": [
      "The intercept for our model is -8288.089352525272\n"
     ]
    }
   ],
   "source": [
    "intercept = multiLR_model.intercept_[0]\n",
    "print(\"The intercept for our model is {}\".format(intercept))"
   ]
  },
  {
   "cell_type": "code",
   "execution_count": 86,
   "metadata": {},
   "outputs": [
    {
     "data": {
      "text/plain": [
       "0.8695898050100055"
      ]
     },
     "execution_count": 86,
     "metadata": {},
     "output_type": "execute_result"
    }
   ],
   "source": [
    "train_score = multiLR_model.score(X_train, y_train)\n",
    "train_score"
   ]
  },
  {
   "cell_type": "code",
   "execution_count": 87,
   "metadata": {},
   "outputs": [
    {
     "data": {
      "text/plain": [
       "0.8363616738950517"
      ]
     },
     "execution_count": 87,
     "metadata": {},
     "output_type": "execute_result"
    }
   ],
   "source": [
    "test_score = multiLR_model.score(X_test, y_test)\n",
    "test_score"
   ]
  },
  {
   "cell_type": "code",
   "execution_count": 88,
   "metadata": {},
   "outputs": [],
   "source": [
    "df1 = df[['Age_08_04', 'Weight', 'KM', 'HP', 'Price']]"
   ]
  },
  {
   "cell_type": "code",
   "execution_count": 89,
   "metadata": {},
   "outputs": [
    {
     "data": {
      "text/html": [
       "<div>\n",
       "<style scoped>\n",
       "    .dataframe tbody tr th:only-of-type {\n",
       "        vertical-align: middle;\n",
       "    }\n",
       "\n",
       "    .dataframe tbody tr th {\n",
       "        vertical-align: top;\n",
       "    }\n",
       "\n",
       "    .dataframe thead th {\n",
       "        text-align: right;\n",
       "    }\n",
       "</style>\n",
       "<table border=\"1\" class=\"dataframe\">\n",
       "  <thead>\n",
       "    <tr style=\"text-align: right;\">\n",
       "      <th></th>\n",
       "      <th>Age_08_04</th>\n",
       "      <th>Weight</th>\n",
       "      <th>KM</th>\n",
       "      <th>HP</th>\n",
       "      <th>Price</th>\n",
       "    </tr>\n",
       "  </thead>\n",
       "  <tbody>\n",
       "    <tr>\n",
       "      <th>0</th>\n",
       "      <td>23</td>\n",
       "      <td>1165</td>\n",
       "      <td>46986</td>\n",
       "      <td>90</td>\n",
       "      <td>13500</td>\n",
       "    </tr>\n",
       "    <tr>\n",
       "      <th>1</th>\n",
       "      <td>23</td>\n",
       "      <td>1165</td>\n",
       "      <td>72937</td>\n",
       "      <td>90</td>\n",
       "      <td>13750</td>\n",
       "    </tr>\n",
       "    <tr>\n",
       "      <th>2</th>\n",
       "      <td>24</td>\n",
       "      <td>1165</td>\n",
       "      <td>41711</td>\n",
       "      <td>90</td>\n",
       "      <td>13950</td>\n",
       "    </tr>\n",
       "    <tr>\n",
       "      <th>3</th>\n",
       "      <td>26</td>\n",
       "      <td>1165</td>\n",
       "      <td>48000</td>\n",
       "      <td>90</td>\n",
       "      <td>14950</td>\n",
       "    </tr>\n",
       "    <tr>\n",
       "      <th>4</th>\n",
       "      <td>30</td>\n",
       "      <td>1170</td>\n",
       "      <td>38500</td>\n",
       "      <td>90</td>\n",
       "      <td>13750</td>\n",
       "    </tr>\n",
       "  </tbody>\n",
       "</table>\n",
       "</div>"
      ],
      "text/plain": [
       "   Age_08_04  Weight     KM  HP  Price\n",
       "0         23    1165  46986  90  13500\n",
       "1         23    1165  72937  90  13750\n",
       "2         24    1165  41711  90  13950\n",
       "3         26    1165  48000  90  14950\n",
       "4         30    1170  38500  90  13750"
      ]
     },
     "execution_count": 89,
     "metadata": {},
     "output_type": "execute_result"
    }
   ],
   "source": [
    "df1.head()"
   ]
  },
  {
   "cell_type": "code",
   "execution_count": 90,
   "metadata": {},
   "outputs": [],
   "source": [
    "df1['y_pred'] = multiLR_model.predict(X)"
   ]
  },
  {
   "cell_type": "code",
   "execution_count": 91,
   "metadata": {},
   "outputs": [
    {
     "data": {
      "text/html": [
       "<div>\n",
       "<style scoped>\n",
       "    .dataframe tbody tr th:only-of-type {\n",
       "        vertical-align: middle;\n",
       "    }\n",
       "\n",
       "    .dataframe tbody tr th {\n",
       "        vertical-align: top;\n",
       "    }\n",
       "\n",
       "    .dataframe thead th {\n",
       "        text-align: right;\n",
       "    }\n",
       "</style>\n",
       "<table border=\"1\" class=\"dataframe\">\n",
       "  <thead>\n",
       "    <tr style=\"text-align: right;\">\n",
       "      <th></th>\n",
       "      <th>Age_08_04</th>\n",
       "      <th>Weight</th>\n",
       "      <th>KM</th>\n",
       "      <th>HP</th>\n",
       "      <th>Price</th>\n",
       "      <th>y_pred</th>\n",
       "    </tr>\n",
       "  </thead>\n",
       "  <tbody>\n",
       "    <tr>\n",
       "      <th>0</th>\n",
       "      <td>23</td>\n",
       "      <td>1165</td>\n",
       "      <td>46986</td>\n",
       "      <td>90</td>\n",
       "      <td>13500</td>\n",
       "      <td>16738.237838</td>\n",
       "    </tr>\n",
       "    <tr>\n",
       "      <th>1</th>\n",
       "      <td>23</td>\n",
       "      <td>1165</td>\n",
       "      <td>72937</td>\n",
       "      <td>90</td>\n",
       "      <td>13750</td>\n",
       "      <td>16177.857048</td>\n",
       "    </tr>\n",
       "    <tr>\n",
       "      <th>2</th>\n",
       "      <td>24</td>\n",
       "      <td>1165</td>\n",
       "      <td>41711</td>\n",
       "      <td>90</td>\n",
       "      <td>13950</td>\n",
       "      <td>16736.742585</td>\n",
       "    </tr>\n",
       "    <tr>\n",
       "      <th>3</th>\n",
       "      <td>26</td>\n",
       "      <td>1165</td>\n",
       "      <td>48000</td>\n",
       "      <td>90</td>\n",
       "      <td>14950</td>\n",
       "      <td>16370.134025</td>\n",
       "    </tr>\n",
       "    <tr>\n",
       "      <th>4</th>\n",
       "      <td>30</td>\n",
       "      <td>1170</td>\n",
       "      <td>38500</td>\n",
       "      <td>90</td>\n",
       "      <td>13750</td>\n",
       "      <td>16226.147841</td>\n",
       "    </tr>\n",
       "  </tbody>\n",
       "</table>\n",
       "</div>"
      ],
      "text/plain": [
       "   Age_08_04  Weight     KM  HP  Price        y_pred\n",
       "0         23    1165  46986  90  13500  16738.237838\n",
       "1         23    1165  72937  90  13750  16177.857048\n",
       "2         24    1165  41711  90  13950  16736.742585\n",
       "3         26    1165  48000  90  14950  16370.134025\n",
       "4         30    1170  38500  90  13750  16226.147841"
      ]
     },
     "execution_count": 91,
     "metadata": {},
     "output_type": "execute_result"
    }
   ],
   "source": [
    "df1.head()"
   ]
  },
  {
   "cell_type": "code",
   "execution_count": 92,
   "metadata": {},
   "outputs": [
    {
     "data": {
      "text/html": [
       "<div>\n",
       "<style scoped>\n",
       "    .dataframe tbody tr th:only-of-type {\n",
       "        vertical-align: middle;\n",
       "    }\n",
       "\n",
       "    .dataframe tbody tr th {\n",
       "        vertical-align: top;\n",
       "    }\n",
       "\n",
       "    .dataframe thead th {\n",
       "        text-align: right;\n",
       "    }\n",
       "</style>\n",
       "<table border=\"1\" class=\"dataframe\">\n",
       "  <thead>\n",
       "    <tr style=\"text-align: right;\">\n",
       "      <th></th>\n",
       "      <th>Age_08_04</th>\n",
       "      <th>Weight</th>\n",
       "      <th>KM</th>\n",
       "      <th>HP</th>\n",
       "      <th>Price</th>\n",
       "      <th>y_pred</th>\n",
       "      <th>Error</th>\n",
       "    </tr>\n",
       "  </thead>\n",
       "  <tbody>\n",
       "    <tr>\n",
       "      <th>0</th>\n",
       "      <td>23</td>\n",
       "      <td>1165</td>\n",
       "      <td>46986</td>\n",
       "      <td>90</td>\n",
       "      <td>13500</td>\n",
       "      <td>16738.237838</td>\n",
       "      <td>-3238.237838</td>\n",
       "    </tr>\n",
       "    <tr>\n",
       "      <th>1</th>\n",
       "      <td>23</td>\n",
       "      <td>1165</td>\n",
       "      <td>72937</td>\n",
       "      <td>90</td>\n",
       "      <td>13750</td>\n",
       "      <td>16177.857048</td>\n",
       "      <td>-2427.857048</td>\n",
       "    </tr>\n",
       "    <tr>\n",
       "      <th>2</th>\n",
       "      <td>24</td>\n",
       "      <td>1165</td>\n",
       "      <td>41711</td>\n",
       "      <td>90</td>\n",
       "      <td>13950</td>\n",
       "      <td>16736.742585</td>\n",
       "      <td>-2786.742585</td>\n",
       "    </tr>\n",
       "    <tr>\n",
       "      <th>3</th>\n",
       "      <td>26</td>\n",
       "      <td>1165</td>\n",
       "      <td>48000</td>\n",
       "      <td>90</td>\n",
       "      <td>14950</td>\n",
       "      <td>16370.134025</td>\n",
       "      <td>-1420.134025</td>\n",
       "    </tr>\n",
       "    <tr>\n",
       "      <th>4</th>\n",
       "      <td>30</td>\n",
       "      <td>1170</td>\n",
       "      <td>38500</td>\n",
       "      <td>90</td>\n",
       "      <td>13750</td>\n",
       "      <td>16226.147841</td>\n",
       "      <td>-2476.147841</td>\n",
       "    </tr>\n",
       "  </tbody>\n",
       "</table>\n",
       "</div>"
      ],
      "text/plain": [
       "   Age_08_04  Weight     KM  HP  Price        y_pred        Error\n",
       "0         23    1165  46986  90  13500  16738.237838 -3238.237838\n",
       "1         23    1165  72937  90  13750  16177.857048 -2427.857048\n",
       "2         24    1165  41711  90  13950  16736.742585 -2786.742585\n",
       "3         26    1165  48000  90  14950  16370.134025 -1420.134025\n",
       "4         30    1170  38500  90  13750  16226.147841 -2476.147841"
      ]
     },
     "execution_count": 92,
     "metadata": {},
     "output_type": "execute_result"
    }
   ],
   "source": [
    "df1['Error'] = df1['Price'] - df1['y_pred']\n",
    "df1.head()"
   ]
  },
  {
   "cell_type": "code",
   "execution_count": 93,
   "metadata": {},
   "outputs": [
    {
     "data": {
      "image/png": "[encoded data removed]",
      "text/plain": [
       "<Figure size 432x288 with 1 Axes>"
      ]
     },
     "metadata": {},
     "output_type": "display_data"
    }
   ],
   "source": [
    "import statsmodels.api as sm\n",
    "sm.qqplot(df1['Error'], line='q') # line = 45 to draw the diagnoal line\n",
    "plt.title(\"Normal Q-Q Plot residuals\")\n",
    "plt.show()"
   ]
  },
  {
   "cell_type": "code",
   "execution_count": 94,
   "metadata": {},
   "outputs": [
    {
     "data": {
      "text/html": [
       "<div>\n",
       "<style scoped>\n",
       "    .dataframe tbody tr th:only-of-type {\n",
       "        vertical-align: middle;\n",
       "    }\n",
       "\n",
       "    .dataframe tbody tr th {\n",
       "        vertical-align: top;\n",
       "    }\n",
       "\n",
       "    .dataframe thead th {\n",
       "        text-align: right;\n",
       "    }\n",
       "</style>\n",
       "<table border=\"1\" class=\"dataframe\">\n",
       "  <thead>\n",
       "    <tr style=\"text-align: right;\">\n",
       "      <th></th>\n",
       "      <th>Name</th>\n",
       "      <th>Train_Result</th>\n",
       "      <th>Test_Result</th>\n",
       "    </tr>\n",
       "  </thead>\n",
       "  <tbody>\n",
       "    <tr>\n",
       "      <th>0</th>\n",
       "      <td>Normal Transformation</td>\n",
       "      <td>86.958981</td>\n",
       "      <td>83.636167</td>\n",
       "    </tr>\n",
       "  </tbody>\n",
       "</table>\n",
       "</div>"
      ],
      "text/plain": [
       "                    Name  Train_Result  Test_Result\n",
       "0  Normal Transformation     86.958981    83.636167"
      ]
     },
     "execution_count": 94,
     "metadata": {},
     "output_type": "execute_result"
    }
   ],
   "source": [
    "final_results = final_results.append({'Name': 'Normal Transformation', 'Train_Result': train_score*100,'Test_Result': test_score*100}, ignore_index = True)\n",
    "final_results"
   ]
  },
  {
   "cell_type": "markdown",
   "metadata": {},
   "source": [
    "# Log Transformation"
   ]
  },
  {
   "cell_type": "code",
   "execution_count": 95,
   "metadata": {},
   "outputs": [],
   "source": [
    "X = np.log(df[['Age_08_04', 'Weight', 'KM', 'HP']])\n",
    "y = np.log(df[['Price']])"
   ]
  },
  {
   "cell_type": "code",
   "execution_count": 96,
   "metadata": {},
   "outputs": [
    {
     "data": {
      "text/html": [
       "<div>\n",
       "<style scoped>\n",
       "    .dataframe tbody tr th:only-of-type {\n",
       "        vertical-align: middle;\n",
       "    }\n",
       "\n",
       "    .dataframe tbody tr th {\n",
       "        vertical-align: top;\n",
       "    }\n",
       "\n",
       "    .dataframe thead th {\n",
       "        text-align: right;\n",
       "    }\n",
       "</style>\n",
       "<table border=\"1\" class=\"dataframe\">\n",
       "  <thead>\n",
       "    <tr style=\"text-align: right;\">\n",
       "      <th></th>\n",
       "      <th>Age_08_04</th>\n",
       "      <th>Weight</th>\n",
       "      <th>KM</th>\n",
       "      <th>HP</th>\n",
       "    </tr>\n",
       "  </thead>\n",
       "  <tbody>\n",
       "    <tr>\n",
       "      <th>0</th>\n",
       "      <td>3.135494</td>\n",
       "      <td>7.060476</td>\n",
       "      <td>10.757605</td>\n",
       "      <td>4.49981</td>\n",
       "    </tr>\n",
       "    <tr>\n",
       "      <th>1</th>\n",
       "      <td>3.135494</td>\n",
       "      <td>7.060476</td>\n",
       "      <td>11.197351</td>\n",
       "      <td>4.49981</td>\n",
       "    </tr>\n",
       "    <tr>\n",
       "      <th>2</th>\n",
       "      <td>3.178054</td>\n",
       "      <td>7.060476</td>\n",
       "      <td>10.638520</td>\n",
       "      <td>4.49981</td>\n",
       "    </tr>\n",
       "    <tr>\n",
       "      <th>3</th>\n",
       "      <td>3.258097</td>\n",
       "      <td>7.060476</td>\n",
       "      <td>10.778956</td>\n",
       "      <td>4.49981</td>\n",
       "    </tr>\n",
       "    <tr>\n",
       "      <th>4</th>\n",
       "      <td>3.401197</td>\n",
       "      <td>7.064759</td>\n",
       "      <td>10.558414</td>\n",
       "      <td>4.49981</td>\n",
       "    </tr>\n",
       "  </tbody>\n",
       "</table>\n",
       "</div>"
      ],
      "text/plain": [
       "   Age_08_04    Weight         KM       HP\n",
       "0   3.135494  7.060476  10.757605  4.49981\n",
       "1   3.135494  7.060476  11.197351  4.49981\n",
       "2   3.178054  7.060476  10.638520  4.49981\n",
       "3   3.258097  7.060476  10.778956  4.49981\n",
       "4   3.401197  7.064759  10.558414  4.49981"
      ]
     },
     "execution_count": 96,
     "metadata": {},
     "output_type": "execute_result"
    }
   ],
   "source": [
    "X.head()"
   ]
  },
  {
   "cell_type": "code",
   "execution_count": 97,
   "metadata": {},
   "outputs": [
    {
     "data": {
      "text/html": [
       "<div>\n",
       "<style scoped>\n",
       "    .dataframe tbody tr th:only-of-type {\n",
       "        vertical-align: middle;\n",
       "    }\n",
       "\n",
       "    .dataframe tbody tr th {\n",
       "        vertical-align: top;\n",
       "    }\n",
       "\n",
       "    .dataframe thead th {\n",
       "        text-align: right;\n",
       "    }\n",
       "</style>\n",
       "<table border=\"1\" class=\"dataframe\">\n",
       "  <thead>\n",
       "    <tr style=\"text-align: right;\">\n",
       "      <th></th>\n",
       "      <th>Price</th>\n",
       "    </tr>\n",
       "  </thead>\n",
       "  <tbody>\n",
       "    <tr>\n",
       "      <th>0</th>\n",
       "      <td>9.510445</td>\n",
       "    </tr>\n",
       "    <tr>\n",
       "      <th>1</th>\n",
       "      <td>9.528794</td>\n",
       "    </tr>\n",
       "    <tr>\n",
       "      <th>2</th>\n",
       "      <td>9.543235</td>\n",
       "    </tr>\n",
       "    <tr>\n",
       "      <th>3</th>\n",
       "      <td>9.612467</td>\n",
       "    </tr>\n",
       "    <tr>\n",
       "      <th>4</th>\n",
       "      <td>9.528794</td>\n",
       "    </tr>\n",
       "  </tbody>\n",
       "</table>\n",
       "</div>"
      ],
      "text/plain": [
       "      Price\n",
       "0  9.510445\n",
       "1  9.528794\n",
       "2  9.543235\n",
       "3  9.612467\n",
       "4  9.528794"
      ]
     },
     "execution_count": 97,
     "metadata": {},
     "output_type": "execute_result"
    }
   ],
   "source": [
    "y.head()"
   ]
  },
  {
   "cell_type": "code",
   "execution_count": 98,
   "metadata": {},
   "outputs": [],
   "source": [
    "X_train, X_test, y_train, y_test = train_test_split(X, y, test_size=0.30, random_state=25)"
   ]
  },
  {
   "cell_type": "code",
   "execution_count": 99,
   "metadata": {},
   "outputs": [
    {
     "data": {
      "text/plain": [
       "LinearRegression()"
      ]
     },
     "execution_count": 99,
     "metadata": {},
     "output_type": "execute_result"
    }
   ],
   "source": [
    "multiLR_model_LOG= LinearRegression()\n",
    "multiLR_model_LOG.fit(X_train, y_train)"
   ]
  },
  {
   "cell_type": "code",
   "execution_count": 100,
   "metadata": {},
   "outputs": [
    {
     "data": {
      "text/plain": [
       "array([[-0.45129667,  0.74455311,  0.02398588,  0.41875902]])"
      ]
     },
     "execution_count": 100,
     "metadata": {},
     "output_type": "execute_result"
    }
   ],
   "source": [
    "multiLR_model_LOG.coef_"
   ]
  },
  {
   "cell_type": "code",
   "execution_count": 101,
   "metadata": {},
   "outputs": [
    {
     "data": {
      "text/plain": [
       "Index(['Age_08_04', 'Weight', 'KM', 'HP'], dtype='object')"
      ]
     },
     "execution_count": 101,
     "metadata": {},
     "output_type": "execute_result"
    }
   ],
   "source": [
    "X_train.columns"
   ]
  },
  {
   "cell_type": "code",
   "execution_count": 102,
   "metadata": {},
   "outputs": [
    {
     "data": {
      "text/plain": [
       "<enumerate at 0x21ac36b0958>"
      ]
     },
     "execution_count": 102,
     "metadata": {},
     "output_type": "execute_result"
    }
   ],
   "source": [
    "enumerate(X_train.columns)"
   ]
  },
  {
   "cell_type": "code",
   "execution_count": 103,
   "metadata": {},
   "outputs": [
    {
     "name": "stdout",
     "output_type": "stream",
     "text": [
      "The coefficient for Age_08_04 is -0.45129666827774517\n",
      "The coefficient for Weight is 0.744553113571268\n",
      "The coefficient for KM is 0.023985883797595704\n",
      "The coefficient for HP is 0.4187590210778663\n"
     ]
    }
   ],
   "source": [
    "for idx, col_name in enumerate(X_train.columns):\n",
    "    print('The coefficient for {} is {}'.format(col_name, multiLR_model_LOG.coef_[0][idx]))"
   ]
  },
  {
   "cell_type": "code",
   "execution_count": 104,
   "metadata": {},
   "outputs": [
    {
     "name": "stdout",
     "output_type": "stream",
     "text": [
      "The intercept for our model is 3.6189938859048185\n"
     ]
    }
   ],
   "source": [
    "intercept = multiLR_model_LOG.intercept_[0]\n",
    "print(\"The intercept for our model is {}\".format(intercept))"
   ]
  },
  {
   "cell_type": "code",
   "execution_count": 105,
   "metadata": {},
   "outputs": [
    {
     "data": {
      "text/plain": [
       "0.7348518749752091"
      ]
     },
     "execution_count": 105,
     "metadata": {},
     "output_type": "execute_result"
    }
   ],
   "source": [
    "train_score = multiLR_model_LOG.score(X_train, y_train)\n",
    "train_score"
   ]
  },
  {
   "cell_type": "code",
   "execution_count": 106,
   "metadata": {},
   "outputs": [
    {
     "data": {
      "text/plain": [
       "0.7722271965897861"
      ]
     },
     "execution_count": 106,
     "metadata": {},
     "output_type": "execute_result"
    }
   ],
   "source": [
    "test_score = multiLR_model_LOG.score(X_test, y_test)\n",
    "test_score"
   ]
  },
  {
   "cell_type": "code",
   "execution_count": 107,
   "metadata": {},
   "outputs": [
    {
     "data": {
      "text/html": [
       "<div>\n",
       "<style scoped>\n",
       "    .dataframe tbody tr th:only-of-type {\n",
       "        vertical-align: middle;\n",
       "    }\n",
       "\n",
       "    .dataframe tbody tr th {\n",
       "        vertical-align: top;\n",
       "    }\n",
       "\n",
       "    .dataframe thead th {\n",
       "        text-align: right;\n",
       "    }\n",
       "</style>\n",
       "<table border=\"1\" class=\"dataframe\">\n",
       "  <thead>\n",
       "    <tr style=\"text-align: right;\">\n",
       "      <th></th>\n",
       "      <th>Age_08_04</th>\n",
       "      <th>Weight</th>\n",
       "      <th>KM</th>\n",
       "      <th>HP</th>\n",
       "      <th>Price</th>\n",
       "    </tr>\n",
       "  </thead>\n",
       "  <tbody>\n",
       "    <tr>\n",
       "      <th>0</th>\n",
       "      <td>3.135494</td>\n",
       "      <td>7.060476</td>\n",
       "      <td>10.757605</td>\n",
       "      <td>4.49981</td>\n",
       "      <td>9.510445</td>\n",
       "    </tr>\n",
       "    <tr>\n",
       "      <th>1</th>\n",
       "      <td>3.135494</td>\n",
       "      <td>7.060476</td>\n",
       "      <td>11.197351</td>\n",
       "      <td>4.49981</td>\n",
       "      <td>9.528794</td>\n",
       "    </tr>\n",
       "    <tr>\n",
       "      <th>2</th>\n",
       "      <td>3.178054</td>\n",
       "      <td>7.060476</td>\n",
       "      <td>10.638520</td>\n",
       "      <td>4.49981</td>\n",
       "      <td>9.543235</td>\n",
       "    </tr>\n",
       "    <tr>\n",
       "      <th>3</th>\n",
       "      <td>3.258097</td>\n",
       "      <td>7.060476</td>\n",
       "      <td>10.778956</td>\n",
       "      <td>4.49981</td>\n",
       "      <td>9.612467</td>\n",
       "    </tr>\n",
       "    <tr>\n",
       "      <th>4</th>\n",
       "      <td>3.401197</td>\n",
       "      <td>7.064759</td>\n",
       "      <td>10.558414</td>\n",
       "      <td>4.49981</td>\n",
       "      <td>9.528794</td>\n",
       "    </tr>\n",
       "  </tbody>\n",
       "</table>\n",
       "</div>"
      ],
      "text/plain": [
       "   Age_08_04    Weight         KM       HP     Price\n",
       "0   3.135494  7.060476  10.757605  4.49981  9.510445\n",
       "1   3.135494  7.060476  11.197351  4.49981  9.528794\n",
       "2   3.178054  7.060476  10.638520  4.49981  9.543235\n",
       "3   3.258097  7.060476  10.778956  4.49981  9.612467\n",
       "4   3.401197  7.064759  10.558414  4.49981  9.528794"
      ]
     },
     "execution_count": 107,
     "metadata": {},
     "output_type": "execute_result"
    }
   ],
   "source": [
    "df2 = np.log(df[['Age_08_04', 'Weight', 'KM', 'HP', 'Price']])\n",
    "df2.head()"
   ]
  },
  {
   "cell_type": "code",
   "execution_count": 108,
   "metadata": {},
   "outputs": [
    {
     "data": {
      "text/html": [
       "<div>\n",
       "<style scoped>\n",
       "    .dataframe tbody tr th:only-of-type {\n",
       "        vertical-align: middle;\n",
       "    }\n",
       "\n",
       "    .dataframe tbody tr th {\n",
       "        vertical-align: top;\n",
       "    }\n",
       "\n",
       "    .dataframe thead th {\n",
       "        text-align: right;\n",
       "    }\n",
       "</style>\n",
       "<table border=\"1\" class=\"dataframe\">\n",
       "  <thead>\n",
       "    <tr style=\"text-align: right;\">\n",
       "      <th></th>\n",
       "      <th>Age_08_04</th>\n",
       "      <th>Weight</th>\n",
       "      <th>KM</th>\n",
       "      <th>HP</th>\n",
       "      <th>Price</th>\n",
       "      <th>y_pred</th>\n",
       "    </tr>\n",
       "  </thead>\n",
       "  <tbody>\n",
       "    <tr>\n",
       "      <th>0</th>\n",
       "      <td>3.135494</td>\n",
       "      <td>7.060476</td>\n",
       "      <td>10.757605</td>\n",
       "      <td>4.49981</td>\n",
       "      <td>9.510445</td>\n",
       "      <td>9.603222</td>\n",
       "    </tr>\n",
       "    <tr>\n",
       "      <th>1</th>\n",
       "      <td>3.135494</td>\n",
       "      <td>7.060476</td>\n",
       "      <td>11.197351</td>\n",
       "      <td>4.49981</td>\n",
       "      <td>9.528794</td>\n",
       "      <td>9.613770</td>\n",
       "    </tr>\n",
       "    <tr>\n",
       "      <th>2</th>\n",
       "      <td>3.178054</td>\n",
       "      <td>7.060476</td>\n",
       "      <td>10.638520</td>\n",
       "      <td>4.49981</td>\n",
       "      <td>9.543235</td>\n",
       "      <td>9.581159</td>\n",
       "    </tr>\n",
       "    <tr>\n",
       "      <th>3</th>\n",
       "      <td>3.258097</td>\n",
       "      <td>7.060476</td>\n",
       "      <td>10.778956</td>\n",
       "      <td>4.49981</td>\n",
       "      <td>9.612467</td>\n",
       "      <td>9.548404</td>\n",
       "    </tr>\n",
       "    <tr>\n",
       "      <th>4</th>\n",
       "      <td>3.401197</td>\n",
       "      <td>7.064759</td>\n",
       "      <td>10.558414</td>\n",
       "      <td>4.49981</td>\n",
       "      <td>9.528794</td>\n",
       "      <td>9.481722</td>\n",
       "    </tr>\n",
       "  </tbody>\n",
       "</table>\n",
       "</div>"
      ],
      "text/plain": [
       "   Age_08_04    Weight         KM       HP     Price    y_pred\n",
       "0   3.135494  7.060476  10.757605  4.49981  9.510445  9.603222\n",
       "1   3.135494  7.060476  11.197351  4.49981  9.528794  9.613770\n",
       "2   3.178054  7.060476  10.638520  4.49981  9.543235  9.581159\n",
       "3   3.258097  7.060476  10.778956  4.49981  9.612467  9.548404\n",
       "4   3.401197  7.064759  10.558414  4.49981  9.528794  9.481722"
      ]
     },
     "execution_count": 108,
     "metadata": {},
     "output_type": "execute_result"
    }
   ],
   "source": [
    "df2['y_pred'] = multiLR_model_LOG.predict(X)\n",
    "df2.head()"
   ]
  },
  {
   "cell_type": "code",
   "execution_count": 109,
   "metadata": {},
   "outputs": [
    {
     "data": {
      "text/html": [
       "<div>\n",
       "<style scoped>\n",
       "    .dataframe tbody tr th:only-of-type {\n",
       "        vertical-align: middle;\n",
       "    }\n",
       "\n",
       "    .dataframe tbody tr th {\n",
       "        vertical-align: top;\n",
       "    }\n",
       "\n",
       "    .dataframe thead th {\n",
       "        text-align: right;\n",
       "    }\n",
       "</style>\n",
       "<table border=\"1\" class=\"dataframe\">\n",
       "  <thead>\n",
       "    <tr style=\"text-align: right;\">\n",
       "      <th></th>\n",
       "      <th>Age_08_04</th>\n",
       "      <th>Weight</th>\n",
       "      <th>KM</th>\n",
       "      <th>HP</th>\n",
       "      <th>Price</th>\n",
       "      <th>y_pred</th>\n",
       "      <th>Error</th>\n",
       "    </tr>\n",
       "  </thead>\n",
       "  <tbody>\n",
       "    <tr>\n",
       "      <th>0</th>\n",
       "      <td>3.135494</td>\n",
       "      <td>7.060476</td>\n",
       "      <td>10.757605</td>\n",
       "      <td>4.49981</td>\n",
       "      <td>9.510445</td>\n",
       "      <td>9.603222</td>\n",
       "      <td>-0.092777</td>\n",
       "    </tr>\n",
       "    <tr>\n",
       "      <th>1</th>\n",
       "      <td>3.135494</td>\n",
       "      <td>7.060476</td>\n",
       "      <td>11.197351</td>\n",
       "      <td>4.49981</td>\n",
       "      <td>9.528794</td>\n",
       "      <td>9.613770</td>\n",
       "      <td>-0.084976</td>\n",
       "    </tr>\n",
       "    <tr>\n",
       "      <th>2</th>\n",
       "      <td>3.178054</td>\n",
       "      <td>7.060476</td>\n",
       "      <td>10.638520</td>\n",
       "      <td>4.49981</td>\n",
       "      <td>9.543235</td>\n",
       "      <td>9.581159</td>\n",
       "      <td>-0.037924</td>\n",
       "    </tr>\n",
       "    <tr>\n",
       "      <th>3</th>\n",
       "      <td>3.258097</td>\n",
       "      <td>7.060476</td>\n",
       "      <td>10.778956</td>\n",
       "      <td>4.49981</td>\n",
       "      <td>9.612467</td>\n",
       "      <td>9.548404</td>\n",
       "      <td>0.064062</td>\n",
       "    </tr>\n",
       "    <tr>\n",
       "      <th>4</th>\n",
       "      <td>3.401197</td>\n",
       "      <td>7.064759</td>\n",
       "      <td>10.558414</td>\n",
       "      <td>4.49981</td>\n",
       "      <td>9.528794</td>\n",
       "      <td>9.481722</td>\n",
       "      <td>0.047072</td>\n",
       "    </tr>\n",
       "  </tbody>\n",
       "</table>\n",
       "</div>"
      ],
      "text/plain": [
       "   Age_08_04    Weight         KM       HP     Price    y_pred     Error\n",
       "0   3.135494  7.060476  10.757605  4.49981  9.510445  9.603222 -0.092777\n",
       "1   3.135494  7.060476  11.197351  4.49981  9.528794  9.613770 -0.084976\n",
       "2   3.178054  7.060476  10.638520  4.49981  9.543235  9.581159 -0.037924\n",
       "3   3.258097  7.060476  10.778956  4.49981  9.612467  9.548404  0.064062\n",
       "4   3.401197  7.064759  10.558414  4.49981  9.528794  9.481722  0.047072"
      ]
     },
     "execution_count": 109,
     "metadata": {},
     "output_type": "execute_result"
    }
   ],
   "source": [
    "df2['Error'] = df2['Price'] - df2['y_pred']\n",
    "df2.head()"
   ]
  },
  {
   "cell_type": "code",
   "execution_count": 110,
   "metadata": {},
   "outputs": [
    {
     "data": {
      "image/png": "[encoded data removed]",
      "text/plain": [
       "<Figure size 432x288 with 1 Axes>"
      ]
     },
     "metadata": {},
     "output_type": "display_data"
    }
   ],
   "source": [
    "sm.qqplot(df2['Error'], line='q')\n",
    "plt.title(\"Normal Q-Q Plot residuals\")\n",
    "plt.show()"
   ]
  },
  {
   "cell_type": "code",
   "execution_count": 111,
   "metadata": {},
   "outputs": [
    {
     "data": {
      "text/html": [
       "<div>\n",
       "<style scoped>\n",
       "    .dataframe tbody tr th:only-of-type {\n",
       "        vertical-align: middle;\n",
       "    }\n",
       "\n",
       "    .dataframe tbody tr th {\n",
       "        vertical-align: top;\n",
       "    }\n",
       "\n",
       "    .dataframe thead th {\n",
       "        text-align: right;\n",
       "    }\n",
       "</style>\n",
       "<table border=\"1\" class=\"dataframe\">\n",
       "  <thead>\n",
       "    <tr style=\"text-align: right;\">\n",
       "      <th></th>\n",
       "      <th>Name</th>\n",
       "      <th>Train_Result</th>\n",
       "      <th>Test_Result</th>\n",
       "    </tr>\n",
       "  </thead>\n",
       "  <tbody>\n",
       "    <tr>\n",
       "      <th>0</th>\n",
       "      <td>Normal Transformation</td>\n",
       "      <td>86.958981</td>\n",
       "      <td>83.636167</td>\n",
       "    </tr>\n",
       "    <tr>\n",
       "      <th>1</th>\n",
       "      <td>Log Transformation</td>\n",
       "      <td>73.485187</td>\n",
       "      <td>77.222720</td>\n",
       "    </tr>\n",
       "  </tbody>\n",
       "</table>\n",
       "</div>"
      ],
      "text/plain": [
       "                    Name  Train_Result  Test_Result\n",
       "0  Normal Transformation     86.958981    83.636167\n",
       "1     Log Transformation     73.485187    77.222720"
      ]
     },
     "execution_count": 111,
     "metadata": {},
     "output_type": "execute_result"
    }
   ],
   "source": [
    "final_results = final_results.append({'Name': 'Log Transformation', 'Train_Result': train_score*100,'Test_Result': test_score*100}, ignore_index = True)\n",
    "final_results"
   ]
  },
  {
   "cell_type": "markdown",
   "metadata": {},
   "source": [
    "# Square Transformation"
   ]
  },
  {
   "cell_type": "code",
   "execution_count": 112,
   "metadata": {},
   "outputs": [],
   "source": [
    "X = df[['Age_08_04', 'Weight', 'KM', 'HP']]**2\n",
    "y = df[['Price']]**2"
   ]
  },
  {
   "cell_type": "code",
   "execution_count": 113,
   "metadata": {},
   "outputs": [
    {
     "data": {
      "text/html": [
       "<div>\n",
       "<style scoped>\n",
       "    .dataframe tbody tr th:only-of-type {\n",
       "        vertical-align: middle;\n",
       "    }\n",
       "\n",
       "    .dataframe tbody tr th {\n",
       "        vertical-align: top;\n",
       "    }\n",
       "\n",
       "    .dataframe thead th {\n",
       "        text-align: right;\n",
       "    }\n",
       "</style>\n",
       "<table border=\"1\" class=\"dataframe\">\n",
       "  <thead>\n",
       "    <tr style=\"text-align: right;\">\n",
       "      <th></th>\n",
       "      <th>Age_08_04</th>\n",
       "      <th>Weight</th>\n",
       "      <th>KM</th>\n",
       "      <th>HP</th>\n",
       "    </tr>\n",
       "  </thead>\n",
       "  <tbody>\n",
       "    <tr>\n",
       "      <th>0</th>\n",
       "      <td>529</td>\n",
       "      <td>1357225</td>\n",
       "      <td>2207684196</td>\n",
       "      <td>8100</td>\n",
       "    </tr>\n",
       "    <tr>\n",
       "      <th>1</th>\n",
       "      <td>529</td>\n",
       "      <td>1357225</td>\n",
       "      <td>5319805969</td>\n",
       "      <td>8100</td>\n",
       "    </tr>\n",
       "    <tr>\n",
       "      <th>2</th>\n",
       "      <td>576</td>\n",
       "      <td>1357225</td>\n",
       "      <td>1739807521</td>\n",
       "      <td>8100</td>\n",
       "    </tr>\n",
       "    <tr>\n",
       "      <th>3</th>\n",
       "      <td>676</td>\n",
       "      <td>1357225</td>\n",
       "      <td>2304000000</td>\n",
       "      <td>8100</td>\n",
       "    </tr>\n",
       "    <tr>\n",
       "      <th>4</th>\n",
       "      <td>900</td>\n",
       "      <td>1368900</td>\n",
       "      <td>1482250000</td>\n",
       "      <td>8100</td>\n",
       "    </tr>\n",
       "  </tbody>\n",
       "</table>\n",
       "</div>"
      ],
      "text/plain": [
       "   Age_08_04   Weight          KM    HP\n",
       "0        529  1357225  2207684196  8100\n",
       "1        529  1357225  5319805969  8100\n",
       "2        576  1357225  1739807521  8100\n",
       "3        676  1357225  2304000000  8100\n",
       "4        900  1368900  1482250000  8100"
      ]
     },
     "execution_count": 113,
     "metadata": {},
     "output_type": "execute_result"
    }
   ],
   "source": [
    "X.head()"
   ]
  },
  {
   "cell_type": "code",
   "execution_count": 114,
   "metadata": {},
   "outputs": [
    {
     "data": {
      "text/html": [
       "<div>\n",
       "<style scoped>\n",
       "    .dataframe tbody tr th:only-of-type {\n",
       "        vertical-align: middle;\n",
       "    }\n",
       "\n",
       "    .dataframe tbody tr th {\n",
       "        vertical-align: top;\n",
       "    }\n",
       "\n",
       "    .dataframe thead th {\n",
       "        text-align: right;\n",
       "    }\n",
       "</style>\n",
       "<table border=\"1\" class=\"dataframe\">\n",
       "  <thead>\n",
       "    <tr style=\"text-align: right;\">\n",
       "      <th></th>\n",
       "      <th>Price</th>\n",
       "    </tr>\n",
       "  </thead>\n",
       "  <tbody>\n",
       "    <tr>\n",
       "      <th>0</th>\n",
       "      <td>182250000</td>\n",
       "    </tr>\n",
       "    <tr>\n",
       "      <th>1</th>\n",
       "      <td>189062500</td>\n",
       "    </tr>\n",
       "    <tr>\n",
       "      <th>2</th>\n",
       "      <td>194602500</td>\n",
       "    </tr>\n",
       "    <tr>\n",
       "      <th>3</th>\n",
       "      <td>223502500</td>\n",
       "    </tr>\n",
       "    <tr>\n",
       "      <th>4</th>\n",
       "      <td>189062500</td>\n",
       "    </tr>\n",
       "  </tbody>\n",
       "</table>\n",
       "</div>"
      ],
      "text/plain": [
       "       Price\n",
       "0  182250000\n",
       "1  189062500\n",
       "2  194602500\n",
       "3  223502500\n",
       "4  189062500"
      ]
     },
     "execution_count": 114,
     "metadata": {},
     "output_type": "execute_result"
    }
   ],
   "source": [
    "y.head()"
   ]
  },
  {
   "cell_type": "code",
   "execution_count": 115,
   "metadata": {},
   "outputs": [],
   "source": [
    "X_train, X_test, y_train, y_test = train_test_split(X, y, test_size=0.30, random_state=25)"
   ]
  },
  {
   "cell_type": "code",
   "execution_count": 116,
   "metadata": {},
   "outputs": [
    {
     "data": {
      "text/plain": [
       "LinearRegression()"
      ]
     },
     "execution_count": 116,
     "metadata": {},
     "output_type": "execute_result"
    }
   ],
   "source": [
    "multiLR_model_Square= LinearRegression()\n",
    "multiLR_model_Square.fit(X_train, y_train)"
   ]
  },
  {
   "cell_type": "code",
   "execution_count": 117,
   "metadata": {},
   "outputs": [
    {
     "data": {
      "text/plain": [
       "array([[-2.35841743e+04,  4.67831154e+02, -3.19187279e-03,\n",
       "         3.72496826e+03]])"
      ]
     },
     "execution_count": 117,
     "metadata": {},
     "output_type": "execute_result"
    }
   ],
   "source": [
    "multiLR_model_Square.coef_"
   ]
  },
  {
   "cell_type": "code",
   "execution_count": 118,
   "metadata": {},
   "outputs": [
    {
     "data": {
      "text/plain": [
       "Index(['Age_08_04', 'Weight', 'KM', 'HP'], dtype='object')"
      ]
     },
     "execution_count": 118,
     "metadata": {},
     "output_type": "execute_result"
    }
   ],
   "source": [
    "X_train.columns"
   ]
  },
  {
   "cell_type": "code",
   "execution_count": 119,
   "metadata": {},
   "outputs": [
    {
     "data": {
      "text/plain": [
       "<enumerate at 0x21ac5333408>"
      ]
     },
     "execution_count": 119,
     "metadata": {},
     "output_type": "execute_result"
    }
   ],
   "source": [
    "enumerate(X_train.columns)"
   ]
  },
  {
   "cell_type": "code",
   "execution_count": 120,
   "metadata": {},
   "outputs": [
    {
     "name": "stdout",
     "output_type": "stream",
     "text": [
      "The coefficient for Age_08_04 is -23584.174331594484\n",
      "The coefficient for Weight is 467.83115394712235\n",
      "The coefficient for KM is -0.0031918727919480997\n",
      "The coefficient for HP is 3724.968262996012\n"
     ]
    }
   ],
   "source": [
    "for idx, col_name in enumerate(X_train.columns):\n",
    "    print('The coefficient for {} is {}'.format(col_name, multiLR_model_Square.coef_[0][idx]))"
   ]
  },
  {
   "cell_type": "code",
   "execution_count": 121,
   "metadata": {},
   "outputs": [
    {
     "name": "stdout",
     "output_type": "stream",
     "text": [
      "The intercept for our model is -349023153.99468005\n"
     ]
    }
   ],
   "source": [
    "intercept = multiLR_model_Square.intercept_[0]\n",
    "print(\"The intercept for our model is {}\".format(intercept))"
   ]
  },
  {
   "cell_type": "code",
   "execution_count": 122,
   "metadata": {},
   "outputs": [
    {
     "data": {
      "text/plain": [
       "0.7703697854631412"
      ]
     },
     "execution_count": 122,
     "metadata": {},
     "output_type": "execute_result"
    }
   ],
   "source": [
    "train_score = multiLR_model_Square.score(X_train, y_train)\n",
    "train_score"
   ]
  },
  {
   "cell_type": "code",
   "execution_count": 123,
   "metadata": {},
   "outputs": [
    {
     "data": {
      "text/plain": [
       "0.6270441649234657"
      ]
     },
     "execution_count": 123,
     "metadata": {},
     "output_type": "execute_result"
    }
   ],
   "source": [
    "test_score = multiLR_model_Square.score(X_test, y_test)\n",
    "test_score"
   ]
  },
  {
   "cell_type": "code",
   "execution_count": 124,
   "metadata": {},
   "outputs": [
    {
     "data": {
      "text/html": [
       "<div>\n",
       "<style scoped>\n",
       "    .dataframe tbody tr th:only-of-type {\n",
       "        vertical-align: middle;\n",
       "    }\n",
       "\n",
       "    .dataframe tbody tr th {\n",
       "        vertical-align: top;\n",
       "    }\n",
       "\n",
       "    .dataframe thead th {\n",
       "        text-align: right;\n",
       "    }\n",
       "</style>\n",
       "<table border=\"1\" class=\"dataframe\">\n",
       "  <thead>\n",
       "    <tr style=\"text-align: right;\">\n",
       "      <th></th>\n",
       "      <th>Age_08_04</th>\n",
       "      <th>Weight</th>\n",
       "      <th>KM</th>\n",
       "      <th>HP</th>\n",
       "      <th>Price</th>\n",
       "    </tr>\n",
       "  </thead>\n",
       "  <tbody>\n",
       "    <tr>\n",
       "      <th>0</th>\n",
       "      <td>529</td>\n",
       "      <td>1357225</td>\n",
       "      <td>2207684196</td>\n",
       "      <td>8100</td>\n",
       "      <td>182250000</td>\n",
       "    </tr>\n",
       "    <tr>\n",
       "      <th>1</th>\n",
       "      <td>529</td>\n",
       "      <td>1357225</td>\n",
       "      <td>5319805969</td>\n",
       "      <td>8100</td>\n",
       "      <td>189062500</td>\n",
       "    </tr>\n",
       "    <tr>\n",
       "      <th>2</th>\n",
       "      <td>576</td>\n",
       "      <td>1357225</td>\n",
       "      <td>1739807521</td>\n",
       "      <td>8100</td>\n",
       "      <td>194602500</td>\n",
       "    </tr>\n",
       "    <tr>\n",
       "      <th>3</th>\n",
       "      <td>676</td>\n",
       "      <td>1357225</td>\n",
       "      <td>2304000000</td>\n",
       "      <td>8100</td>\n",
       "      <td>223502500</td>\n",
       "    </tr>\n",
       "    <tr>\n",
       "      <th>4</th>\n",
       "      <td>900</td>\n",
       "      <td>1368900</td>\n",
       "      <td>1482250000</td>\n",
       "      <td>8100</td>\n",
       "      <td>189062500</td>\n",
       "    </tr>\n",
       "  </tbody>\n",
       "</table>\n",
       "</div>"
      ],
      "text/plain": [
       "   Age_08_04   Weight          KM    HP      Price\n",
       "0        529  1357225  2207684196  8100  182250000\n",
       "1        529  1357225  5319805969  8100  189062500\n",
       "2        576  1357225  1739807521  8100  194602500\n",
       "3        676  1357225  2304000000  8100  223502500\n",
       "4        900  1368900  1482250000  8100  189062500"
      ]
     },
     "execution_count": 124,
     "metadata": {},
     "output_type": "execute_result"
    }
   ],
   "source": [
    "df3 = df[['Age_08_04', 'Weight', 'KM', 'HP', 'Price']]**2\n",
    "df3.head()"
   ]
  },
  {
   "cell_type": "code",
   "execution_count": 125,
   "metadata": {},
   "outputs": [
    {
     "data": {
      "text/html": [
       "<div>\n",
       "<style scoped>\n",
       "    .dataframe tbody tr th:only-of-type {\n",
       "        vertical-align: middle;\n",
       "    }\n",
       "\n",
       "    .dataframe tbody tr th {\n",
       "        vertical-align: top;\n",
       "    }\n",
       "\n",
       "    .dataframe thead th {\n",
       "        text-align: right;\n",
       "    }\n",
       "</style>\n",
       "<table border=\"1\" class=\"dataframe\">\n",
       "  <thead>\n",
       "    <tr style=\"text-align: right;\">\n",
       "      <th></th>\n",
       "      <th>Age_08_04</th>\n",
       "      <th>Weight</th>\n",
       "      <th>KM</th>\n",
       "      <th>HP</th>\n",
       "      <th>Price</th>\n",
       "      <th>y_pred</th>\n",
       "    </tr>\n",
       "  </thead>\n",
       "  <tbody>\n",
       "    <tr>\n",
       "      <th>0</th>\n",
       "      <td>529</td>\n",
       "      <td>1357225</td>\n",
       "      <td>2207684196</td>\n",
       "      <td>8100</td>\n",
       "      <td>182250000</td>\n",
       "      <td>2.965786e+08</td>\n",
       "    </tr>\n",
       "    <tr>\n",
       "      <th>1</th>\n",
       "      <td>529</td>\n",
       "      <td>1357225</td>\n",
       "      <td>5319805969</td>\n",
       "      <td>8100</td>\n",
       "      <td>189062500</td>\n",
       "      <td>2.866451e+08</td>\n",
       "    </tr>\n",
       "    <tr>\n",
       "      <th>2</th>\n",
       "      <td>576</td>\n",
       "      <td>1357225</td>\n",
       "      <td>1739807521</td>\n",
       "      <td>8100</td>\n",
       "      <td>194602500</td>\n",
       "      <td>2.969635e+08</td>\n",
       "    </tr>\n",
       "    <tr>\n",
       "      <th>3</th>\n",
       "      <td>676</td>\n",
       "      <td>1357225</td>\n",
       "      <td>2304000000</td>\n",
       "      <td>8100</td>\n",
       "      <td>223502500</td>\n",
       "      <td>2.928043e+08</td>\n",
       "    </tr>\n",
       "    <tr>\n",
       "      <th>4</th>\n",
       "      <td>900</td>\n",
       "      <td>1368900</td>\n",
       "      <td>1482250000</td>\n",
       "      <td>8100</td>\n",
       "      <td>189062500</td>\n",
       "      <td>2.956062e+08</td>\n",
       "    </tr>\n",
       "  </tbody>\n",
       "</table>\n",
       "</div>"
      ],
      "text/plain": [
       "   Age_08_04   Weight          KM    HP      Price        y_pred\n",
       "0        529  1357225  2207684196  8100  182250000  2.965786e+08\n",
       "1        529  1357225  5319805969  8100  189062500  2.866451e+08\n",
       "2        576  1357225  1739807521  8100  194602500  2.969635e+08\n",
       "3        676  1357225  2304000000  8100  223502500  2.928043e+08\n",
       "4        900  1368900  1482250000  8100  189062500  2.956062e+08"
      ]
     },
     "execution_count": 125,
     "metadata": {},
     "output_type": "execute_result"
    }
   ],
   "source": [
    "df3['y_pred'] = multiLR_model_Square.predict(X)\n",
    "df3.head()"
   ]
  },
  {
   "cell_type": "code",
   "execution_count": 126,
   "metadata": {},
   "outputs": [
    {
     "data": {
      "text/html": [
       "<div>\n",
       "<style scoped>\n",
       "    .dataframe tbody tr th:only-of-type {\n",
       "        vertical-align: middle;\n",
       "    }\n",
       "\n",
       "    .dataframe tbody tr th {\n",
       "        vertical-align: top;\n",
       "    }\n",
       "\n",
       "    .dataframe thead th {\n",
       "        text-align: right;\n",
       "    }\n",
       "</style>\n",
       "<table border=\"1\" class=\"dataframe\">\n",
       "  <thead>\n",
       "    <tr style=\"text-align: right;\">\n",
       "      <th></th>\n",
       "      <th>Age_08_04</th>\n",
       "      <th>Weight</th>\n",
       "      <th>KM</th>\n",
       "      <th>HP</th>\n",
       "      <th>Price</th>\n",
       "      <th>y_pred</th>\n",
       "      <th>Error</th>\n",
       "    </tr>\n",
       "  </thead>\n",
       "  <tbody>\n",
       "    <tr>\n",
       "      <th>0</th>\n",
       "      <td>529</td>\n",
       "      <td>1357225</td>\n",
       "      <td>2207684196</td>\n",
       "      <td>8100</td>\n",
       "      <td>182250000</td>\n",
       "      <td>2.965786e+08</td>\n",
       "      <td>-1.143286e+08</td>\n",
       "    </tr>\n",
       "    <tr>\n",
       "      <th>1</th>\n",
       "      <td>529</td>\n",
       "      <td>1357225</td>\n",
       "      <td>5319805969</td>\n",
       "      <td>8100</td>\n",
       "      <td>189062500</td>\n",
       "      <td>2.866451e+08</td>\n",
       "      <td>-9.758255e+07</td>\n",
       "    </tr>\n",
       "    <tr>\n",
       "      <th>2</th>\n",
       "      <td>576</td>\n",
       "      <td>1357225</td>\n",
       "      <td>1739807521</td>\n",
       "      <td>8100</td>\n",
       "      <td>194602500</td>\n",
       "      <td>2.969635e+08</td>\n",
       "      <td>-1.023610e+08</td>\n",
       "    </tr>\n",
       "    <tr>\n",
       "      <th>3</th>\n",
       "      <td>676</td>\n",
       "      <td>1357225</td>\n",
       "      <td>2304000000</td>\n",
       "      <td>8100</td>\n",
       "      <td>223502500</td>\n",
       "      <td>2.928043e+08</td>\n",
       "      <td>-6.930175e+07</td>\n",
       "    </tr>\n",
       "    <tr>\n",
       "      <th>4</th>\n",
       "      <td>900</td>\n",
       "      <td>1368900</td>\n",
       "      <td>1482250000</td>\n",
       "      <td>8100</td>\n",
       "      <td>189062500</td>\n",
       "      <td>2.956062e+08</td>\n",
       "      <td>-1.065437e+08</td>\n",
       "    </tr>\n",
       "  </tbody>\n",
       "</table>\n",
       "</div>"
      ],
      "text/plain": [
       "   Age_08_04   Weight          KM    HP      Price        y_pred         Error\n",
       "0        529  1357225  2207684196  8100  182250000  2.965786e+08 -1.143286e+08\n",
       "1        529  1357225  5319805969  8100  189062500  2.866451e+08 -9.758255e+07\n",
       "2        576  1357225  1739807521  8100  194602500  2.969635e+08 -1.023610e+08\n",
       "3        676  1357225  2304000000  8100  223502500  2.928043e+08 -6.930175e+07\n",
       "4        900  1368900  1482250000  8100  189062500  2.956062e+08 -1.065437e+08"
      ]
     },
     "execution_count": 126,
     "metadata": {},
     "output_type": "execute_result"
    }
   ],
   "source": [
    "df3['Error'] = df3['Price'] - df3['y_pred']\n",
    "df3.head()"
   ]
  },
  {
   "cell_type": "code",
   "execution_count": 127,
   "metadata": {},
   "outputs": [
    {
     "data": {
      "image/png": "[encoded data removed]",
      "text/plain": [
       "<Figure size 432x288 with 1 Axes>"
      ]
     },
     "metadata": {},
     "output_type": "display_data"
    }
   ],
   "source": [
    "sm.qqplot(df3['Error'], line='q')\n",
    "plt.title(\"Normal Q-Q Plot residuals\")\n",
    "plt.show()"
   ]
  },
  {
   "cell_type": "code",
   "execution_count": 128,
   "metadata": {},
   "outputs": [
    {
     "data": {
      "text/html": [
       "<div>\n",
       "<style scoped>\n",
       "    .dataframe tbody tr th:only-of-type {\n",
       "        vertical-align: middle;\n",
       "    }\n",
       "\n",
       "    .dataframe tbody tr th {\n",
       "        vertical-align: top;\n",
       "    }\n",
       "\n",
       "    .dataframe thead th {\n",
       "        text-align: right;\n",
       "    }\n",
       "</style>\n",
       "<table border=\"1\" class=\"dataframe\">\n",
       "  <thead>\n",
       "    <tr style=\"text-align: right;\">\n",
       "      <th></th>\n",
       "      <th>Name</th>\n",
       "      <th>Train_Result</th>\n",
       "      <th>Test_Result</th>\n",
       "    </tr>\n",
       "  </thead>\n",
       "  <tbody>\n",
       "    <tr>\n",
       "      <th>0</th>\n",
       "      <td>Normal Transformation</td>\n",
       "      <td>86.958981</td>\n",
       "      <td>83.636167</td>\n",
       "    </tr>\n",
       "    <tr>\n",
       "      <th>1</th>\n",
       "      <td>Log Transformation</td>\n",
       "      <td>73.485187</td>\n",
       "      <td>77.222720</td>\n",
       "    </tr>\n",
       "    <tr>\n",
       "      <th>2</th>\n",
       "      <td>Square Transformation</td>\n",
       "      <td>77.036979</td>\n",
       "      <td>62.704416</td>\n",
       "    </tr>\n",
       "  </tbody>\n",
       "</table>\n",
       "</div>"
      ],
      "text/plain": [
       "                    Name  Train_Result  Test_Result\n",
       "0  Normal Transformation     86.958981    83.636167\n",
       "1     Log Transformation     73.485187    77.222720\n",
       "2  Square Transformation     77.036979    62.704416"
      ]
     },
     "execution_count": 128,
     "metadata": {},
     "output_type": "execute_result"
    }
   ],
   "source": [
    "final_results = final_results.append({'Name': 'Square Transformation', 'Train_Result': train_score*100,'Test_Result': test_score*100}, ignore_index = True)\n",
    "final_results"
   ]
  },
  {
   "cell_type": "markdown",
   "metadata": {},
   "source": [
    "# Square Root Transformation"
   ]
  },
  {
   "cell_type": "code",
   "execution_count": 129,
   "metadata": {},
   "outputs": [],
   "source": [
    "X = np.sqrt(df[['Age_08_04', 'Weight', 'KM', 'HP']])\n",
    "y = np.sqrt(df[['Price']])"
   ]
  },
  {
   "cell_type": "code",
   "execution_count": 130,
   "metadata": {},
   "outputs": [
    {
     "data": {
      "text/html": [
       "<div>\n",
       "<style scoped>\n",
       "    .dataframe tbody tr th:only-of-type {\n",
       "        vertical-align: middle;\n",
       "    }\n",
       "\n",
       "    .dataframe tbody tr th {\n",
       "        vertical-align: top;\n",
       "    }\n",
       "\n",
       "    .dataframe thead th {\n",
       "        text-align: right;\n",
       "    }\n",
       "</style>\n",
       "<table border=\"1\" class=\"dataframe\">\n",
       "  <thead>\n",
       "    <tr style=\"text-align: right;\">\n",
       "      <th></th>\n",
       "      <th>Age_08_04</th>\n",
       "      <th>Weight</th>\n",
       "      <th>KM</th>\n",
       "      <th>HP</th>\n",
       "    </tr>\n",
       "  </thead>\n",
       "  <tbody>\n",
       "    <tr>\n",
       "      <th>0</th>\n",
       "      <td>4.795832</td>\n",
       "      <td>34.132096</td>\n",
       "      <td>216.762543</td>\n",
       "      <td>9.486833</td>\n",
       "    </tr>\n",
       "    <tr>\n",
       "      <th>1</th>\n",
       "      <td>4.795832</td>\n",
       "      <td>34.132096</td>\n",
       "      <td>270.068510</td>\n",
       "      <td>9.486833</td>\n",
       "    </tr>\n",
       "    <tr>\n",
       "      <th>2</th>\n",
       "      <td>4.898979</td>\n",
       "      <td>34.132096</td>\n",
       "      <td>204.232710</td>\n",
       "      <td>9.486833</td>\n",
       "    </tr>\n",
       "    <tr>\n",
       "      <th>3</th>\n",
       "      <td>5.099020</td>\n",
       "      <td>34.132096</td>\n",
       "      <td>219.089023</td>\n",
       "      <td>9.486833</td>\n",
       "    </tr>\n",
       "    <tr>\n",
       "      <th>4</th>\n",
       "      <td>5.477226</td>\n",
       "      <td>34.205263</td>\n",
       "      <td>196.214169</td>\n",
       "      <td>9.486833</td>\n",
       "    </tr>\n",
       "  </tbody>\n",
       "</table>\n",
       "</div>"
      ],
      "text/plain": [
       "   Age_08_04     Weight          KM        HP\n",
       "0   4.795832  34.132096  216.762543  9.486833\n",
       "1   4.795832  34.132096  270.068510  9.486833\n",
       "2   4.898979  34.132096  204.232710  9.486833\n",
       "3   5.099020  34.132096  219.089023  9.486833\n",
       "4   5.477226  34.205263  196.214169  9.486833"
      ]
     },
     "execution_count": 130,
     "metadata": {},
     "output_type": "execute_result"
    }
   ],
   "source": [
    "X.head()"
   ]
  },
  {
   "cell_type": "code",
   "execution_count": 131,
   "metadata": {},
   "outputs": [
    {
     "data": {
      "text/html": [
       "<div>\n",
       "<style scoped>\n",
       "    .dataframe tbody tr th:only-of-type {\n",
       "        vertical-align: middle;\n",
       "    }\n",
       "\n",
       "    .dataframe tbody tr th {\n",
       "        vertical-align: top;\n",
       "    }\n",
       "\n",
       "    .dataframe thead th {\n",
       "        text-align: right;\n",
       "    }\n",
       "</style>\n",
       "<table border=\"1\" class=\"dataframe\">\n",
       "  <thead>\n",
       "    <tr style=\"text-align: right;\">\n",
       "      <th></th>\n",
       "      <th>Price</th>\n",
       "    </tr>\n",
       "  </thead>\n",
       "  <tbody>\n",
       "    <tr>\n",
       "      <th>0</th>\n",
       "      <td>116.189500</td>\n",
       "    </tr>\n",
       "    <tr>\n",
       "      <th>1</th>\n",
       "      <td>117.260394</td>\n",
       "    </tr>\n",
       "    <tr>\n",
       "      <th>2</th>\n",
       "      <td>118.110118</td>\n",
       "    </tr>\n",
       "    <tr>\n",
       "      <th>3</th>\n",
       "      <td>122.270193</td>\n",
       "    </tr>\n",
       "    <tr>\n",
       "      <th>4</th>\n",
       "      <td>117.260394</td>\n",
       "    </tr>\n",
       "  </tbody>\n",
       "</table>\n",
       "</div>"
      ],
      "text/plain": [
       "        Price\n",
       "0  116.189500\n",
       "1  117.260394\n",
       "2  118.110118\n",
       "3  122.270193\n",
       "4  117.260394"
      ]
     },
     "execution_count": 131,
     "metadata": {},
     "output_type": "execute_result"
    }
   ],
   "source": [
    "y.head()"
   ]
  },
  {
   "cell_type": "code",
   "execution_count": 132,
   "metadata": {},
   "outputs": [],
   "source": [
    "X_train, X_test, y_train, y_test = train_test_split(X, y, test_size=0.30, random_state=25)"
   ]
  },
  {
   "cell_type": "code",
   "execution_count": 133,
   "metadata": {},
   "outputs": [
    {
     "data": {
      "text/plain": [
       "LinearRegression()"
      ]
     },
     "execution_count": 133,
     "metadata": {},
     "output_type": "execute_result"
    }
   ],
   "source": [
    "multiLR_model_Square_root= LinearRegression()\n",
    "multiLR_model_Square_root.fit(X_train, y_train)"
   ]
  },
  {
   "cell_type": "code",
   "execution_count": 134,
   "metadata": {},
   "outputs": [
    {
     "data": {
      "text/plain": [
       "array([[-7.14372055,  4.41560087, -0.0429928 ,  2.88581381]])"
      ]
     },
     "execution_count": 134,
     "metadata": {},
     "output_type": "execute_result"
    }
   ],
   "source": [
    "multiLR_model_Square_root.coef_"
   ]
  },
  {
   "cell_type": "code",
   "execution_count": 135,
   "metadata": {},
   "outputs": [
    {
     "data": {
      "text/plain": [
       "Index(['Age_08_04', 'Weight', 'KM', 'HP'], dtype='object')"
      ]
     },
     "execution_count": 135,
     "metadata": {},
     "output_type": "execute_result"
    }
   ],
   "source": [
    "X_train.columns"
   ]
  },
  {
   "cell_type": "code",
   "execution_count": 136,
   "metadata": {},
   "outputs": [
    {
     "data": {
      "text/plain": [
       "<enumerate at 0x21ac3ca5908>"
      ]
     },
     "execution_count": 136,
     "metadata": {},
     "output_type": "execute_result"
    }
   ],
   "source": [
    "enumerate(X_train.columns)"
   ]
  },
  {
   "cell_type": "code",
   "execution_count": 137,
   "metadata": {},
   "outputs": [
    {
     "name": "stdout",
     "output_type": "stream",
     "text": [
      "The coefficient for Age_08_04 is -7.143720551757416\n",
      "The coefficient for Weight is 4.415600870039057\n",
      "The coefficient for KM is -0.04299279740575327\n",
      "The coefficient for HP is 2.885813805853311\n"
     ]
    }
   ],
   "source": [
    "for idx, col_name in enumerate(X_train.columns):\n",
    "    print('The coefficient for {} is {}'.format(col_name, multiLR_model_Square_root.coef_[0][idx]))"
   ]
  },
  {
   "cell_type": "code",
   "execution_count": 138,
   "metadata": {},
   "outputs": [
    {
     "name": "stdout",
     "output_type": "stream",
     "text": [
      "The intercept for our model is -8.135635219235425\n"
     ]
    }
   ],
   "source": [
    "intercept = multiLR_model_Square_root.intercept_[0]\n",
    "print(\"The intercept for our model is {}\".format(intercept))"
   ]
  },
  {
   "cell_type": "code",
   "execution_count": 139,
   "metadata": {},
   "outputs": [
    {
     "data": {
      "text/plain": [
       "0.8616902161421633"
      ]
     },
     "execution_count": 139,
     "metadata": {},
     "output_type": "execute_result"
    }
   ],
   "source": [
    "train_score = multiLR_model_Square_root.score(X_train, y_train)\n",
    "train_score"
   ]
  },
  {
   "cell_type": "code",
   "execution_count": 140,
   "metadata": {},
   "outputs": [
    {
     "data": {
      "text/plain": [
       "0.8547936514175517"
      ]
     },
     "execution_count": 140,
     "metadata": {},
     "output_type": "execute_result"
    }
   ],
   "source": [
    "test_score = multiLR_model_Square_root.score(X_test, y_test)\n",
    "test_score"
   ]
  },
  {
   "cell_type": "code",
   "execution_count": 141,
   "metadata": {},
   "outputs": [
    {
     "data": {
      "text/html": [
       "<div>\n",
       "<style scoped>\n",
       "    .dataframe tbody tr th:only-of-type {\n",
       "        vertical-align: middle;\n",
       "    }\n",
       "\n",
       "    .dataframe tbody tr th {\n",
       "        vertical-align: top;\n",
       "    }\n",
       "\n",
       "    .dataframe thead th {\n",
       "        text-align: right;\n",
       "    }\n",
       "</style>\n",
       "<table border=\"1\" class=\"dataframe\">\n",
       "  <thead>\n",
       "    <tr style=\"text-align: right;\">\n",
       "      <th></th>\n",
       "      <th>Age_08_04</th>\n",
       "      <th>Weight</th>\n",
       "      <th>KM</th>\n",
       "      <th>HP</th>\n",
       "      <th>Price</th>\n",
       "    </tr>\n",
       "  </thead>\n",
       "  <tbody>\n",
       "    <tr>\n",
       "      <th>0</th>\n",
       "      <td>4.795832</td>\n",
       "      <td>34.132096</td>\n",
       "      <td>216.762543</td>\n",
       "      <td>9.486833</td>\n",
       "      <td>116.189500</td>\n",
       "    </tr>\n",
       "    <tr>\n",
       "      <th>1</th>\n",
       "      <td>4.795832</td>\n",
       "      <td>34.132096</td>\n",
       "      <td>270.068510</td>\n",
       "      <td>9.486833</td>\n",
       "      <td>117.260394</td>\n",
       "    </tr>\n",
       "    <tr>\n",
       "      <th>2</th>\n",
       "      <td>4.898979</td>\n",
       "      <td>34.132096</td>\n",
       "      <td>204.232710</td>\n",
       "      <td>9.486833</td>\n",
       "      <td>118.110118</td>\n",
       "    </tr>\n",
       "    <tr>\n",
       "      <th>3</th>\n",
       "      <td>5.099020</td>\n",
       "      <td>34.132096</td>\n",
       "      <td>219.089023</td>\n",
       "      <td>9.486833</td>\n",
       "      <td>122.270193</td>\n",
       "    </tr>\n",
       "    <tr>\n",
       "      <th>4</th>\n",
       "      <td>5.477226</td>\n",
       "      <td>34.205263</td>\n",
       "      <td>196.214169</td>\n",
       "      <td>9.486833</td>\n",
       "      <td>117.260394</td>\n",
       "    </tr>\n",
       "  </tbody>\n",
       "</table>\n",
       "</div>"
      ],
      "text/plain": [
       "   Age_08_04     Weight          KM        HP       Price\n",
       "0   4.795832  34.132096  216.762543  9.486833  116.189500\n",
       "1   4.795832  34.132096  270.068510  9.486833  117.260394\n",
       "2   4.898979  34.132096  204.232710  9.486833  118.110118\n",
       "3   5.099020  34.132096  219.089023  9.486833  122.270193\n",
       "4   5.477226  34.205263  196.214169  9.486833  117.260394"
      ]
     },
     "execution_count": 141,
     "metadata": {},
     "output_type": "execute_result"
    }
   ],
   "source": [
    "df4 = np.sqrt(df[['Age_08_04', 'Weight', 'KM', 'HP', 'Price']])\n",
    "df4.head()"
   ]
  },
  {
   "cell_type": "code",
   "execution_count": 142,
   "metadata": {},
   "outputs": [
    {
     "data": {
      "text/html": [
       "<div>\n",
       "<style scoped>\n",
       "    .dataframe tbody tr th:only-of-type {\n",
       "        vertical-align: middle;\n",
       "    }\n",
       "\n",
       "    .dataframe tbody tr th {\n",
       "        vertical-align: top;\n",
       "    }\n",
       "\n",
       "    .dataframe thead th {\n",
       "        text-align: right;\n",
       "    }\n",
       "</style>\n",
       "<table border=\"1\" class=\"dataframe\">\n",
       "  <thead>\n",
       "    <tr style=\"text-align: right;\">\n",
       "      <th></th>\n",
       "      <th>Age_08_04</th>\n",
       "      <th>Weight</th>\n",
       "      <th>KM</th>\n",
       "      <th>HP</th>\n",
       "      <th>Price</th>\n",
       "      <th>y_pred</th>\n",
       "    </tr>\n",
       "  </thead>\n",
       "  <tbody>\n",
       "    <tr>\n",
       "      <th>0</th>\n",
       "      <td>4.795832</td>\n",
       "      <td>34.132096</td>\n",
       "      <td>216.762543</td>\n",
       "      <td>9.486833</td>\n",
       "      <td>116.189500</td>\n",
       "      <td>126.376004</td>\n",
       "    </tr>\n",
       "    <tr>\n",
       "      <th>1</th>\n",
       "      <td>4.795832</td>\n",
       "      <td>34.132096</td>\n",
       "      <td>270.068510</td>\n",
       "      <td>9.486833</td>\n",
       "      <td>117.260394</td>\n",
       "      <td>124.084232</td>\n",
       "    </tr>\n",
       "    <tr>\n",
       "      <th>2</th>\n",
       "      <td>4.898979</td>\n",
       "      <td>34.132096</td>\n",
       "      <td>204.232710</td>\n",
       "      <td>9.486833</td>\n",
       "      <td>118.110118</td>\n",
       "      <td>126.177837</td>\n",
       "    </tr>\n",
       "    <tr>\n",
       "      <th>3</th>\n",
       "      <td>5.099020</td>\n",
       "      <td>34.132096</td>\n",
       "      <td>219.089023</td>\n",
       "      <td>9.486833</td>\n",
       "      <td>122.270193</td>\n",
       "      <td>124.110092</td>\n",
       "    </tr>\n",
       "    <tr>\n",
       "      <th>4</th>\n",
       "      <td>5.477226</td>\n",
       "      <td>34.205263</td>\n",
       "      <td>196.214169</td>\n",
       "      <td>9.486833</td>\n",
       "      <td>117.260394</td>\n",
       "      <td>122.714821</td>\n",
       "    </tr>\n",
       "  </tbody>\n",
       "</table>\n",
       "</div>"
      ],
      "text/plain": [
       "   Age_08_04     Weight          KM        HP       Price      y_pred\n",
       "0   4.795832  34.132096  216.762543  9.486833  116.189500  126.376004\n",
       "1   4.795832  34.132096  270.068510  9.486833  117.260394  124.084232\n",
       "2   4.898979  34.132096  204.232710  9.486833  118.110118  126.177837\n",
       "3   5.099020  34.132096  219.089023  9.486833  122.270193  124.110092\n",
       "4   5.477226  34.205263  196.214169  9.486833  117.260394  122.714821"
      ]
     },
     "execution_count": 142,
     "metadata": {},
     "output_type": "execute_result"
    }
   ],
   "source": [
    "df4['y_pred'] = multiLR_model_Square_root.predict(X)\n",
    "df4.head()"
   ]
  },
  {
   "cell_type": "code",
   "execution_count": 143,
   "metadata": {},
   "outputs": [
    {
     "data": {
      "text/html": [
       "<div>\n",
       "<style scoped>\n",
       "    .dataframe tbody tr th:only-of-type {\n",
       "        vertical-align: middle;\n",
       "    }\n",
       "\n",
       "    .dataframe tbody tr th {\n",
       "        vertical-align: top;\n",
       "    }\n",
       "\n",
       "    .dataframe thead th {\n",
       "        text-align: right;\n",
       "    }\n",
       "</style>\n",
       "<table border=\"1\" class=\"dataframe\">\n",
       "  <thead>\n",
       "    <tr style=\"text-align: right;\">\n",
       "      <th></th>\n",
       "      <th>Age_08_04</th>\n",
       "      <th>Weight</th>\n",
       "      <th>KM</th>\n",
       "      <th>HP</th>\n",
       "      <th>Price</th>\n",
       "      <th>y_pred</th>\n",
       "      <th>Error</th>\n",
       "    </tr>\n",
       "  </thead>\n",
       "  <tbody>\n",
       "    <tr>\n",
       "      <th>0</th>\n",
       "      <td>4.795832</td>\n",
       "      <td>34.132096</td>\n",
       "      <td>216.762543</td>\n",
       "      <td>9.486833</td>\n",
       "      <td>116.189500</td>\n",
       "      <td>126.376004</td>\n",
       "      <td>-10.186504</td>\n",
       "    </tr>\n",
       "    <tr>\n",
       "      <th>1</th>\n",
       "      <td>4.795832</td>\n",
       "      <td>34.132096</td>\n",
       "      <td>270.068510</td>\n",
       "      <td>9.486833</td>\n",
       "      <td>117.260394</td>\n",
       "      <td>124.084232</td>\n",
       "      <td>-6.823838</td>\n",
       "    </tr>\n",
       "    <tr>\n",
       "      <th>2</th>\n",
       "      <td>4.898979</td>\n",
       "      <td>34.132096</td>\n",
       "      <td>204.232710</td>\n",
       "      <td>9.486833</td>\n",
       "      <td>118.110118</td>\n",
       "      <td>126.177837</td>\n",
       "      <td>-8.067719</td>\n",
       "    </tr>\n",
       "    <tr>\n",
       "      <th>3</th>\n",
       "      <td>5.099020</td>\n",
       "      <td>34.132096</td>\n",
       "      <td>219.089023</td>\n",
       "      <td>9.486833</td>\n",
       "      <td>122.270193</td>\n",
       "      <td>124.110092</td>\n",
       "      <td>-1.839900</td>\n",
       "    </tr>\n",
       "    <tr>\n",
       "      <th>4</th>\n",
       "      <td>5.477226</td>\n",
       "      <td>34.205263</td>\n",
       "      <td>196.214169</td>\n",
       "      <td>9.486833</td>\n",
       "      <td>117.260394</td>\n",
       "      <td>122.714821</td>\n",
       "      <td>-5.454427</td>\n",
       "    </tr>\n",
       "  </tbody>\n",
       "</table>\n",
       "</div>"
      ],
      "text/plain": [
       "   Age_08_04     Weight          KM        HP       Price      y_pred  \\\n",
       "0   4.795832  34.132096  216.762543  9.486833  116.189500  126.376004   \n",
       "1   4.795832  34.132096  270.068510  9.486833  117.260394  124.084232   \n",
       "2   4.898979  34.132096  204.232710  9.486833  118.110118  126.177837   \n",
       "3   5.099020  34.132096  219.089023  9.486833  122.270193  124.110092   \n",
       "4   5.477226  34.205263  196.214169  9.486833  117.260394  122.714821   \n",
       "\n",
       "       Error  \n",
       "0 -10.186504  \n",
       "1  -6.823838  \n",
       "2  -8.067719  \n",
       "3  -1.839900  \n",
       "4  -5.454427  "
      ]
     },
     "execution_count": 143,
     "metadata": {},
     "output_type": "execute_result"
    }
   ],
   "source": [
    "df4['Error'] = df4['Price'] - df4['y_pred']\n",
    "df4.head()"
   ]
  },
  {
   "cell_type": "code",
   "execution_count": 144,
   "metadata": {},
   "outputs": [
    {
     "data": {
      "image/png": "[encoded data removed]",
      "text/plain": [
       "<Figure size 432x288 with 1 Axes>"
      ]
     },
     "metadata": {},
     "output_type": "display_data"
    }
   ],
   "source": [
    "sm.qqplot(df4['Error'], line='q')\n",
    "plt.title(\"Normal Q-Q Plot residuals\")\n",
    "plt.show()"
   ]
  },
  {
   "cell_type": "code",
   "execution_count": 145,
   "metadata": {},
   "outputs": [
    {
     "data": {
      "text/html": [
       "<div>\n",
       "<style scoped>\n",
       "    .dataframe tbody tr th:only-of-type {\n",
       "        vertical-align: middle;\n",
       "    }\n",
       "\n",
       "    .dataframe tbody tr th {\n",
       "        vertical-align: top;\n",
       "    }\n",
       "\n",
       "    .dataframe thead th {\n",
       "        text-align: right;\n",
       "    }\n",
       "</style>\n",
       "<table border=\"1\" class=\"dataframe\">\n",
       "  <thead>\n",
       "    <tr style=\"text-align: right;\">\n",
       "      <th></th>\n",
       "      <th>Name</th>\n",
       "      <th>Train_Result</th>\n",
       "      <th>Test_Result</th>\n",
       "    </tr>\n",
       "  </thead>\n",
       "  <tbody>\n",
       "    <tr>\n",
       "      <th>0</th>\n",
       "      <td>Normal Transformation</td>\n",
       "      <td>86.958981</td>\n",
       "      <td>83.636167</td>\n",
       "    </tr>\n",
       "    <tr>\n",
       "      <th>1</th>\n",
       "      <td>Log Transformation</td>\n",
       "      <td>73.485187</td>\n",
       "      <td>77.222720</td>\n",
       "    </tr>\n",
       "    <tr>\n",
       "      <th>2</th>\n",
       "      <td>Square Transformation</td>\n",
       "      <td>77.036979</td>\n",
       "      <td>62.704416</td>\n",
       "    </tr>\n",
       "    <tr>\n",
       "      <th>3</th>\n",
       "      <td>Square Root Transformation</td>\n",
       "      <td>86.169022</td>\n",
       "      <td>85.479365</td>\n",
       "    </tr>\n",
       "  </tbody>\n",
       "</table>\n",
       "</div>"
      ],
      "text/plain": [
       "                         Name  Train_Result  Test_Result\n",
       "0       Normal Transformation     86.958981    83.636167\n",
       "1          Log Transformation     73.485187    77.222720\n",
       "2       Square Transformation     77.036979    62.704416\n",
       "3  Square Root Transformation     86.169022    85.479365"
      ]
     },
     "execution_count": 145,
     "metadata": {},
     "output_type": "execute_result"
    }
   ],
   "source": [
    "final_results = final_results.append({'Name': 'Square Root Transformation', 'Train_Result': train_score*100,'Test_Result': test_score*100}, ignore_index = True)\n",
    "final_results"
   ]
  },
  {
   "cell_type": "markdown",
   "metadata": {},
   "source": [
    "# So, we can conclude 'Square Root Transformation' is the best, because in Train we got 86% and in Test we got 85% Score and the variance is just 1 so we can consider this as final Algorithm with Square Root Transformation."
   ]
  },
  {
   "cell_type": "code",
   "execution_count": 146,
   "metadata": {},
   "outputs": [
    {
     "data": {
      "text/html": [
       "<div>\n",
       "<style scoped>\n",
       "    .dataframe tbody tr th:only-of-type {\n",
       "        vertical-align: middle;\n",
       "    }\n",
       "\n",
       "    .dataframe tbody tr th {\n",
       "        vertical-align: top;\n",
       "    }\n",
       "\n",
       "    .dataframe thead th {\n",
       "        text-align: right;\n",
       "    }\n",
       "</style>\n",
       "<table border=\"1\" class=\"dataframe\">\n",
       "  <thead>\n",
       "    <tr style=\"text-align: right;\">\n",
       "      <th></th>\n",
       "      <th>Name</th>\n",
       "      <th>Adjusted_Rsquare</th>\n",
       "    </tr>\n",
       "  </thead>\n",
       "  <tbody>\n",
       "    <tr>\n",
       "      <th>0</th>\n",
       "      <td>Price ~ Age_08_04</td>\n",
       "      <td>76.824940</td>\n",
       "    </tr>\n",
       "    <tr>\n",
       "      <th>1</th>\n",
       "      <td>Price ~ Weight</td>\n",
       "      <td>33.732885</td>\n",
       "    </tr>\n",
       "    <tr>\n",
       "      <th>2</th>\n",
       "      <td>Price ~ KM</td>\n",
       "      <td>32.438378</td>\n",
       "    </tr>\n",
       "    <tr>\n",
       "      <th>3</th>\n",
       "      <td>Price ~ HP</td>\n",
       "      <td>9.859043</td>\n",
       "    </tr>\n",
       "    <tr>\n",
       "      <th>4</th>\n",
       "      <td>Price ~ Quarterly_Tax</td>\n",
       "      <td>4.738344</td>\n",
       "    </tr>\n",
       "    <tr>\n",
       "      <th>5</th>\n",
       "      <td>Price ~ Doors</td>\n",
       "      <td>3.367216</td>\n",
       "    </tr>\n",
       "    <tr>\n",
       "      <th>6</th>\n",
       "      <td>Price ~ cc</td>\n",
       "      <td>1.528802</td>\n",
       "    </tr>\n",
       "    <tr>\n",
       "      <th>7</th>\n",
       "      <td>Price ~ Gears</td>\n",
       "      <td>0.328752</td>\n",
       "    </tr>\n",
       "  </tbody>\n",
       "</table>\n",
       "</div>"
      ],
      "text/plain": [
       "                    Name  Adjusted_Rsquare\n",
       "0      Price ~ Age_08_04         76.824940\n",
       "1         Price ~ Weight         33.732885\n",
       "2             Price ~ KM         32.438378\n",
       "3             Price ~ HP          9.859043\n",
       "4  Price ~ Quarterly_Tax          4.738344\n",
       "5          Price ~ Doors          3.367216\n",
       "6             Price ~ cc          1.528802\n",
       "7          Price ~ Gears          0.328752"
      ]
     },
     "execution_count": 146,
     "metadata": {},
     "output_type": "execute_result"
    }
   ],
   "source": [
    "individual_rsquared_adj"
   ]
  },
  {
   "cell_type": "markdown",
   "metadata": {},
   "source": [
    "# for only 'Price ~ Age_08_04 + Weight + KM + HP + Quarterly_Tax' columns we got Adjusted R^2 value of 86.2%"
   ]
  }
 ],
 "metadata": {
  "kernelspec": {
   "display_name": "Python 3",
   "language": "python",
   "name": "python3"
  },
  "language_info": {
   "codemirror_mode": {
    "name": "ipython",
    "version": 3
   },
   "file_extension": ".py",
   "mimetype": "text/x-python",
   "name": "python",
   "nbconvert_exporter": "python",
   "pygments_lexer": "ipython3",
   "version": "3.7.6"
  }
 },
 "nbformat": 4,
 "nbformat_minor": 4
}
