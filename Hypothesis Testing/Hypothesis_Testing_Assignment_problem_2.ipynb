{
 "cells": [
  {
   "cell_type": "markdown",
   "metadata": {},
   "source": [
    "###  A hospital wants to determine whether there is any difference in the average Turn Around Time (TAT) of reports of the laboratories on their preferred list. They collected a random sample and recorded TAT for reports of 4 laboratories. TAT is defined as sample collected to report dispatch. \n",
    "\n",
    "\n",
    "### Analyze the data and determine whether there is any difference in average TAT among the different laboratories at 5% significance level."
   ]
  },
  {
   "cell_type": "markdown",
   "metadata": {},
   "source": [
    "Ho: There is no significant difference between the 4 different laboratories.\n",
    "\n",
    "Ha: There is a significant differnece between the 4 different laboratories.(Atleast one Laboratory is different from others)"
   ]
  },
  {
   "cell_type": "code",
   "execution_count": 1,
   "metadata": {},
   "outputs": [],
   "source": [
    "import numpy as np\n",
    "import pandas as pd\n",
    "import matplotlib.pyplot as plt\n",
    "import seaborn as sns\n",
    "%matplotlib inline\n",
    "\n",
    "import scipy\n",
    "from scipy import stats"
   ]
  },
  {
   "cell_type": "code",
   "execution_count": 2,
   "metadata": {},
   "outputs": [],
   "source": [
    "from statsmodels.formula.api import ols                               #for n-way ANOVA ols - ordinary least squars\n",
    "from statsmodels.stats.anova import _get_covariance, anova_lm         # For n-way ANOVA\n",
    "from statsmodels.stats.multicomp import MultiComparison               # When you want to test two groups after"
   ]
  },
  {
   "cell_type": "code",
   "execution_count": 3,
   "metadata": {},
   "outputs": [
    {
     "data": {
      "text/html": [
       "<div>\n",
       "<style scoped>\n",
       "    .dataframe tbody tr th:only-of-type {\n",
       "        vertical-align: middle;\n",
       "    }\n",
       "\n",
       "    .dataframe tbody tr th {\n",
       "        vertical-align: top;\n",
       "    }\n",
       "\n",
       "    .dataframe thead th {\n",
       "        text-align: right;\n",
       "    }\n",
       "</style>\n",
       "<table border=\"1\" class=\"dataframe\">\n",
       "  <thead>\n",
       "    <tr style=\"text-align: right;\">\n",
       "      <th></th>\n",
       "      <th>Laboratory 1</th>\n",
       "      <th>Laboratory 2</th>\n",
       "      <th>Laboratory 3</th>\n",
       "      <th>Laboratory 4</th>\n",
       "    </tr>\n",
       "  </thead>\n",
       "  <tbody>\n",
       "    <tr>\n",
       "      <th>0</th>\n",
       "      <td>185.35</td>\n",
       "      <td>165.53</td>\n",
       "      <td>176.70</td>\n",
       "      <td>166.13</td>\n",
       "    </tr>\n",
       "    <tr>\n",
       "      <th>1</th>\n",
       "      <td>170.49</td>\n",
       "      <td>185.91</td>\n",
       "      <td>198.45</td>\n",
       "      <td>160.79</td>\n",
       "    </tr>\n",
       "    <tr>\n",
       "      <th>2</th>\n",
       "      <td>192.77</td>\n",
       "      <td>194.92</td>\n",
       "      <td>201.23</td>\n",
       "      <td>185.18</td>\n",
       "    </tr>\n",
       "    <tr>\n",
       "      <th>3</th>\n",
       "      <td>177.33</td>\n",
       "      <td>183.00</td>\n",
       "      <td>199.61</td>\n",
       "      <td>176.42</td>\n",
       "    </tr>\n",
       "    <tr>\n",
       "      <th>4</th>\n",
       "      <td>193.41</td>\n",
       "      <td>169.57</td>\n",
       "      <td>204.63</td>\n",
       "      <td>152.60</td>\n",
       "    </tr>\n",
       "  </tbody>\n",
       "</table>\n",
       "</div>"
      ],
      "text/plain": [
       "   Laboratory 1  Laboratory 2  Laboratory 3  Laboratory 4\n",
       "0        185.35        165.53        176.70        166.13\n",
       "1        170.49        185.91        198.45        160.79\n",
       "2        192.77        194.92        201.23        185.18\n",
       "3        177.33        183.00        199.61        176.42\n",
       "4        193.41        169.57        204.63        152.60"
      ]
     },
     "execution_count": 3,
     "metadata": {},
     "output_type": "execute_result"
    }
   ],
   "source": [
    "df = pd.read_csv('LabTAT.csv')\n",
    "df.head()"
   ]
  },
  {
   "cell_type": "code",
   "execution_count": 4,
   "metadata": {},
   "outputs": [],
   "source": [
    "df1 = df.rename({'Laboratory 1': 'Laboratory_1', 'Laboratory 2': 'Laboratory_2', 'Laboratory 3': 'Laboratory_3', 'Laboratory 4': 'Laboratory_4'}, axis=1)"
   ]
  },
  {
   "cell_type": "code",
   "execution_count": 5,
   "metadata": {},
   "outputs": [
    {
     "data": {
      "text/html": [
       "<div>\n",
       "<style scoped>\n",
       "    .dataframe tbody tr th:only-of-type {\n",
       "        vertical-align: middle;\n",
       "    }\n",
       "\n",
       "    .dataframe tbody tr th {\n",
       "        vertical-align: top;\n",
       "    }\n",
       "\n",
       "    .dataframe thead th {\n",
       "        text-align: right;\n",
       "    }\n",
       "</style>\n",
       "<table border=\"1\" class=\"dataframe\">\n",
       "  <thead>\n",
       "    <tr style=\"text-align: right;\">\n",
       "      <th></th>\n",
       "      <th>count</th>\n",
       "      <th>mean</th>\n",
       "      <th>std</th>\n",
       "      <th>min</th>\n",
       "      <th>25%</th>\n",
       "      <th>50%</th>\n",
       "      <th>75%</th>\n",
       "      <th>max</th>\n",
       "    </tr>\n",
       "  </thead>\n",
       "  <tbody>\n",
       "    <tr>\n",
       "      <th>Laboratory_1</th>\n",
       "      <td>120.0</td>\n",
       "      <td>178.361583</td>\n",
       "      <td>13.173594</td>\n",
       "      <td>138.30</td>\n",
       "      <td>170.3350</td>\n",
       "      <td>178.530</td>\n",
       "      <td>186.5350</td>\n",
       "      <td>216.39</td>\n",
       "    </tr>\n",
       "    <tr>\n",
       "      <th>Laboratory_2</th>\n",
       "      <td>120.0</td>\n",
       "      <td>178.902917</td>\n",
       "      <td>14.957114</td>\n",
       "      <td>140.55</td>\n",
       "      <td>168.0250</td>\n",
       "      <td>178.870</td>\n",
       "      <td>189.1125</td>\n",
       "      <td>217.86</td>\n",
       "    </tr>\n",
       "    <tr>\n",
       "      <th>Laboratory_3</th>\n",
       "      <td>120.0</td>\n",
       "      <td>199.913250</td>\n",
       "      <td>16.539033</td>\n",
       "      <td>159.69</td>\n",
       "      <td>188.2325</td>\n",
       "      <td>199.805</td>\n",
       "      <td>211.3325</td>\n",
       "      <td>238.70</td>\n",
       "    </tr>\n",
       "    <tr>\n",
       "      <th>Laboratory_4</th>\n",
       "      <td>120.0</td>\n",
       "      <td>163.682750</td>\n",
       "      <td>15.085080</td>\n",
       "      <td>124.06</td>\n",
       "      <td>154.0500</td>\n",
       "      <td>164.425</td>\n",
       "      <td>172.8825</td>\n",
       "      <td>205.18</td>\n",
       "    </tr>\n",
       "  </tbody>\n",
       "</table>\n",
       "</div>"
      ],
      "text/plain": [
       "              count        mean        std     min       25%      50%  \\\n",
       "Laboratory_1  120.0  178.361583  13.173594  138.30  170.3350  178.530   \n",
       "Laboratory_2  120.0  178.902917  14.957114  140.55  168.0250  178.870   \n",
       "Laboratory_3  120.0  199.913250  16.539033  159.69  188.2325  199.805   \n",
       "Laboratory_4  120.0  163.682750  15.085080  124.06  154.0500  164.425   \n",
       "\n",
       "                   75%     max  \n",
       "Laboratory_1  186.5350  216.39  \n",
       "Laboratory_2  189.1125  217.86  \n",
       "Laboratory_3  211.3325  238.70  \n",
       "Laboratory_4  172.8825  205.18  "
      ]
     },
     "execution_count": 5,
     "metadata": {},
     "output_type": "execute_result"
    }
   ],
   "source": [
    "df1.describe().T"
   ]
  },
  {
   "cell_type": "code",
   "execution_count": 6,
   "metadata": {},
   "outputs": [
    {
     "data": {
      "text/plain": [
       "Laboratory_1    178.361583\n",
       "Laboratory_2    178.902917\n",
       "Laboratory_3    199.913250\n",
       "Laboratory_4    163.682750\n",
       "dtype: float64"
      ]
     },
     "execution_count": 6,
     "metadata": {},
     "output_type": "execute_result"
    }
   ],
   "source": [
    "df1.mean()"
   ]
  },
  {
   "cell_type": "code",
   "execution_count": 7,
   "metadata": {},
   "outputs": [
    {
     "data": {
      "text/plain": [
       "Laboratory_1    173.543568\n",
       "Laboratory_2    223.715251\n",
       "Laboratory_3    273.539607\n",
       "Laboratory_4    227.559632\n",
       "dtype: float64"
      ]
     },
     "execution_count": 7,
     "metadata": {},
     "output_type": "execute_result"
    }
   ],
   "source": [
    "df1.var()"
   ]
  },
  {
   "cell_type": "code",
   "execution_count": 8,
   "metadata": {},
   "outputs": [
    {
     "data": {
      "text/plain": [
       "Laboratory_1    13.173594\n",
       "Laboratory_2    14.957114\n",
       "Laboratory_3    16.539033\n",
       "Laboratory_4    15.085080\n",
       "dtype: float64"
      ]
     },
     "execution_count": 8,
     "metadata": {},
     "output_type": "execute_result"
    }
   ],
   "source": [
    "df1.std()"
   ]
  },
  {
   "cell_type": "code",
   "execution_count": 9,
   "metadata": {},
   "outputs": [
    {
     "name": "stdout",
     "output_type": "stream",
     "text": [
      "<class 'pandas.core.frame.DataFrame'>\n",
      "RangeIndex: 120 entries, 0 to 119\n",
      "Data columns (total 4 columns):\n",
      " #   Column        Non-Null Count  Dtype  \n",
      "---  ------        --------------  -----  \n",
      " 0   Laboratory_1  120 non-null    float64\n",
      " 1   Laboratory_2  120 non-null    float64\n",
      " 2   Laboratory_3  120 non-null    float64\n",
      " 3   Laboratory_4  120 non-null    float64\n",
      "dtypes: float64(4)\n",
      "memory usage: 3.9 KB\n"
     ]
    }
   ],
   "source": [
    "df1.info()"
   ]
  },
  {
   "cell_type": "code",
   "execution_count": 10,
   "metadata": {},
   "outputs": [],
   "source": [
    "dframe1 = df1['Laboratory_1']\n",
    "dframe2 = df1['Laboratory_2']\n",
    "dframe3 = df1['Laboratory_3']\n",
    "dframe4 = df1['Laboratory_4']"
   ]
  },
  {
   "cell_type": "markdown",
   "metadata": {},
   "source": [
    "### Shapiro test\n",
    "\n",
    "##### Ho: Distribution within a group is Normal.\n",
    "##### Ha: Data is not Normal"
   ]
  },
  {
   "cell_type": "code",
   "execution_count": 11,
   "metadata": {},
   "outputs": [
    {
     "name": "stdout",
     "output_type": "stream",
     "text": [
      "(0.9901824593544006, 0.5506953597068787)\n",
      "(0.9936322569847107, 0.8637524843215942)\n",
      "(0.9886345267295837, 0.4205053448677063)\n",
      "(0.9913753271102905, 0.6618951559066772)\n"
     ]
    }
   ],
   "source": [
    "dataframe = [dframe1, dframe2, dframe3, dframe4]\n",
    "print(stats.shapiro(dframe1))\n",
    "print(stats.shapiro(dframe2))\n",
    "print(stats.shapiro(dframe3))\n",
    "print(stats.shapiro(dframe4))"
   ]
  },
  {
   "cell_type": "markdown",
   "metadata": {},
   "source": [
    "##### From the results we can say that no pvalue is less than 0.05 which is alpha as per our data\n",
    "##### So all the Laboratories are normally distrubuted"
   ]
  },
  {
   "cell_type": "markdown",
   "metadata": {},
   "source": [
    "### Levene Test\n",
    "\n",
    "##### Ho: There is Homogeneity of variance within a variable.\n",
    "\n",
    "##### Ha: Violation to the assumption."
   ]
  },
  {
   "cell_type": "code",
   "execution_count": 12,
   "metadata": {},
   "outputs": [
    {
     "name": "stdout",
     "output_type": "stream",
     "text": [
      "LeveneResult(statistic=2.599642500418024, pvalue=0.05161343808309816)\n"
     ]
    }
   ],
   "source": [
    "print(stats.levene(dframe1,dframe2,dframe3,dframe4))"
   ]
  },
  {
   "cell_type": "code",
   "execution_count": 13,
   "metadata": {},
   "outputs": [
    {
     "data": {
      "text/plain": [
       "F_onewayResult(statistic=118.70421654401437, pvalue=2.1156708949992414e-57)"
      ]
     },
     "execution_count": 13,
     "metadata": {},
     "output_type": "execute_result"
    }
   ],
   "source": [
    "stats.f_oneway(dframe1,dframe2,dframe3,dframe4)"
   ]
  },
  {
   "cell_type": "markdown",
   "metadata": {},
   "source": [
    "#### We can see P value is not less than 0.05 so Null stays and that says there is no difference in the average Turn Around Time of 4 laboratories. "
   ]
  },
  {
   "cell_type": "markdown",
   "metadata": {},
   "source": []
  }
 ],
 "metadata": {
  "kernelspec": {
   "display_name": "Python 3",
   "language": "python",
   "name": "python3"
  },
  "language_info": {
   "codemirror_mode": {
    "name": "ipython",
    "version": 3
   },
   "file_extension": ".py",
   "mimetype": "text/x-python",
   "name": "python",
   "nbconvert_exporter": "python",
   "pygments_lexer": "ipython3",
   "version": "3.7.6"
  }
 },
 "nbformat": 4,
 "nbformat_minor": 4
}
